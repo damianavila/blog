{
 "cells": [
  {
   "cell_type": "markdown",
   "metadata": {},
   "source": [
    "We're pleased to announce the release of RISE 5.1.0!\n",
    "\n",
    "**RISE** allows you show your **Jupyter** notebooks rendered as an *executable* ``Reveal.js``-based slideshow. It is your very same notebook but *presented* in a *slidy* way!\n",
    "\n",
    "*What are the new goodies for this release?*\n",
    "<!-- TEASER_END -->\n",
    "* `autolaunch` config option to enable immediate launch of the slideshow view as soon as you open your notebook, very useful to use at mybinder.\n",
    "* `smart exec` allows you to execute cells and then proceed to the next cell *WHEN* the context permits, pretty similar to the native experience in the notebook view but it takes into consideration the slideshow view limitations and particularities\n",
    "* `auto_select` allows you to automatically select the first (or first code) cell any time you either move to a new slide, subslide or when you show (or hide) a new fragment\n",
    "* new `overlay`, `header`, `background` and `footer` customizable options\n",
    "* customizable CSS\n",
    "* keyboard customization through the notebook keyboard manager\n",
    "* new keyboard shortcuts to toggle cells as `slide`, `subslides` and `fragments`\n",
    "\n",
    "For more information about all these new enhancements/features, please check the [usage](https://damianavila.github.io/RISE/usage.html) and the [customization](https://damianavila.github.io/RISE/customize.html) sections in the docs.\n",
    "\n",
    "*How you can play with it?*\n",
    "\n",
    "Thanks to the **Binder** team, now you have **RISE** available at https://mybinder.org/, so you can add your presentation notebook to one of your repos and show it as slideshow, provided by Binder. You can check a simple example at http://mybinder.org/v2/gh/binder-examples/jupyter-rise/master?filepath=index.ipynb.\n",
    "\n",
    "*How you can get it?*\n",
    "\n",
    "If you live in the **conda/anaconda** ecosystem, you can install it with `conda install -c damianavila82 rise`.\n",
    "\n",
    "For further information about alternative installations, please check the [installation](https://damianavila.github.io/RISE/installation.html) docs.\n",
    "\n",
    "*Do you have an issue, question or enhancement requests?\n",
    "\n",
    "Please report any of those at https://github.com/damianavila/RISE/issues\n",
    "\n",
    "*Do you want to contribute?*\n",
    "\n",
    "For more information about the how to contribute, please check the [developer](https://damianavila.github.io/RISE/dev/index.html) docs.\n",
    "\n",
    "*Special mentions*\n",
    "\n",
    "I want to truly thanks to **Thierry Parmentelat**, aka as [@parmentelat](https://github.com/parmentelat), for all the contributions he made in the last couple of months. He is responsible of most the new features coming into this new release.\n",
    "\n",
    "BIG THANK YOU!\n",
    "\n",
    "I also want to mention and thanks to **Chris Holdgraf** [@choldgraf](https://github.com/choldgraf), one of the members of the Binder team who quickly caugth the release and made it available at **Binder** (add also contributed with the `autolaunch` options and docs).\n",
    "\n",
    "Enjoy it!\n",
    "\n",
    "And thanks for using **RISE**!\n",
    "\n",
    "**ADDENDUM** \n",
    "\n",
    "We have detected some issues trying to install **RISE** on win boxes reported [here](https://github.com/damianavila/RISE/issues/315). I have rebuilt the packages and they seem to be working OK by now. Let us know if you have further issues. Thanks."
   ]
  }
 ],
 "metadata": {
  "kernelspec": {
   "display_name": "Python 3",
   "language": "python",
   "name": "python3"
  },
  "language_info": {
   "codemirror_mode": {
    "name": "ipython",
    "version": 3
   },
   "file_extension": ".py",
   "mimetype": "text/x-python",
   "name": "python",
   "nbconvert_exporter": "python",
   "pygments_lexer": "ipython3",
   "version": "3.6.3"
  },
  "nikola": {
   "category": "",
   "date": "2017-11-06 07:45:52 UTC-03:00",
   "description": "",
   "link": "",
   "slug": "rise-510-is-out",
   "tags": "Jupyter, python, reveal, RISE, slideshow, linux, osx, win, conda, pip",
   "title": "RISE 5.1.0 is out!",
   "type": "text"
  }
 },
 "nbformat": 4,
 "nbformat_minor": 2
}
