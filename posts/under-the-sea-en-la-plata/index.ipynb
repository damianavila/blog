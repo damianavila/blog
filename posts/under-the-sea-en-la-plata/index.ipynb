{
 "cells": [
  {
   "cell_type": "markdown",
   "metadata": {},
   "source": [
    "Han pasado casi tres semanas... El 2 de abril cayeron sobre la ciudad de La Plata casi 400 mm de agua en 24 hs, concentrándose la mayor parte de dicho caudal en dos o tres horas por la tarde, lo que dio lugar a la más grande inundación que la ciudad haya registrado en toda su historia."
   ]
  },
  {
   "cell_type": "markdown",
   "metadata": {},
   "source": [
    "<!-- TEASER_END -->"
   ]
  },
  {
   "cell_type": "markdown",
   "metadata": {},
   "source": [
    "![](http://1.bp.blogspot.com/-DbCAlLBC0aE/UWCjj2sV-4I/AAAAAAAA9nM/K9BrQc3TFIk/s1600/INUNDACION.jpg)"
   ]
  },
  {
   "cell_type": "markdown",
   "metadata": {},
   "source": [
    "Impresionante, no les parece?\n",
    "\n",
    "Lamentablemente, en casa el agua llego a 1,60 mts. \n",
    "\n",
    "Obviamente, la mayoría de las pertenencias quedaron bajo el agua: muebles, electrodomesticos, ropa, biblioteca, documentos, etc.\n",
    "\n",
    "Aca pueden ver la imagen con la que me encontré al día siguiente de la inundación:"
   ]
  },
  {
   "cell_type": "markdown",
   "metadata": {},
   "source": [
    "![](../galleries/Inundacion/inundacion1.png)"
   ]
  },
  {
   "cell_type": "markdown",
   "metadata": {},
   "source": [
    "Y Lore tratando de esbozar una sonrisa que obviamente enmascaraba una gran tristeza al ver la pieza de Facu en esas condiciones."
   ]
  },
  {
   "cell_type": "markdown",
   "metadata": {},
   "source": [
    "![](../galleries/Inundacion/inundacion2.png)"
   ]
  },
  {
   "cell_type": "markdown",
   "metadata": {},
   "source": [
    "Gracias a Dios, no tuvimos que vivir la inundación \"in situ\" ya que estábamos volviendo de Córdoba (nos habíamos tomado unos días para descansar) en el momento en el que la tormenta se desató con mayor intensidad. Hubiese sido un momento complicadísimo, probablemente subiendo al techo con Facu a cuestas... mejor no imaginarlo, o si... para estar preparado.\n",
    "\n",
    "Hemos podido salvar algunos muebles, algunos electrodomésticos, muchas fotos y la mayoría de la ropa y el calzado. Pero hemos pérdido otras tantas cosas, por ejemplo, la biblioteca, muchos documentos y las computadoras. \n",
    "\n",
    "Ya han pasado tres semanas desde la tormenta, y aún no pudimos volver a casa. Los hongos se hacen un festín en estas situaciones y todavía quedan algunos creciendo en las paredes a pesar de la limpieza a diario. Probablemente estemos volviendo a fines de esta semana. \n",
    "\n",
    "Y después... viene la recontrucción, la albañilería, la pintura, arreglar estufas, etc y comprar todo lo que se perdió y es necesario para la vida diaria. Para los arreglos, todas las manos son bienvenidas, jeje...\n",
    "\n",
    "Quisiera aprovechar este espacio para agradecer a todos aquellos que se preocuparon por nosotros. A todos aquellos que nos dieron una mano, no sólo física, poniendo el hombro a la hora de la limpieza, sino también dándonos su apoyo constante:\n",
    "\n",
    "* Melisa, Diego y Flavio.\n",
    "* Romi y las hijas de Lore: Clarita y Marina.\n",
    "* Cintia y Pedro. \n",
    "* Michelle y Lucas.\n",
    "* Todo el grupo de amigos del IBYME: Xime, Carito, Norber, Evan, Andre, Nico, Ger, Mer, Gaby y los Galectinos.\n",
    "* David y la gente del LISIN.\n",
    "* La gente de PyAr: Martin Gaitán, Fisa, entre otros.\n",
    "* y muchos más que no estoy nombrando, pero que también estuvieron atentos para subsanar cualquier necesidad.\n",
    "\n",
    "Y unos últimos agradecimientos adicionales:\n",
    "\n",
    "* Papi y Mami, que siempre están al pie del cañon.    \n",
    "* Dan, gracias por estar pendiente en todo momento... y por ser un apoyo constante.\n",
    "* Lore, que puedo decir que no te haya dicho... Gracias por aguantarme, por apoyarme, por todo tu esfuerzo y sacrificio. \n",
    "* Facu, gracias por existir y ser el sol que alumbra y alumbrará todos mis días.\n",
    "\n",
    "Gracias totales!\n",
    "\n",
    "Nos vemos en el próximo post!\n",
    "\n",
    "Damián."
   ]
  }
 ],
 "metadata": {
  "kernelspec": {
   "display_name": "Python 3",
   "language": "python",
   "name": "python3"
  },
  "language_info": {
   "codemirror_mode": {
    "name": "ipython",
    "version": 3
   },
   "file_extension": ".py",
   "mimetype": "text/x-python",
   "name": "python",
   "nbconvert_exporter": "python",
   "pygments_lexer": "ipython3",
   "version": "3.6.8"
  }
 },
 "nbformat": 4,
 "nbformat_minor": 1
}
