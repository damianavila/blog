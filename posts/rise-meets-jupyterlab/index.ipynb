{
 "cells": [
  {
   "cell_type": "markdown",
   "metadata": {},
   "source": [
    "[**JupyterLab**](https://github.com/jupyterlab/jupyterlab) is the future for the notebook/authoring experience.\n",
    "\n",
    "And people started to ask me if we will have [**RISE**](https://github.com/damianavila/RISE) on **JupyterLab**\n",
    "\n",
    "Do you want to know the answer?\n",
    "<!-- TEASER_END -->\n",
    "\n",
    "OK, first, an **important** note, this is just a afternoon hack with the jupyterlab extensions machinery.\n",
    "This is a **very early** PoC showing that things are possible, but it is not a *shareable* code base, at least, not yet ;-)\n",
    "\n",
    "<blockquote class=\"twitter-tweet\" data-partner=\"tweetdeck\"><p lang=\"en\" dir=\"ltr\">This seems promising!<br>RISE on JupyterLab PoC (hacks everywhere, code not shareable yet ;-)<a href=\"https://t.co/4CpQdb2Px4\">https://t.co/4CpQdb2Px4</a><a href=\"https://twitter.com/ProjectJupyter\">@ProjectJupyter</a> <a href=\"https://twitter.com/revealjs\">@revealjs</a></p>&mdash; Damián Avila (@damian_avila) <a href=\"https://twitter.com/damian_avila/status/876567606274215937\">June 18, 2017</a></blockquote>\n",
    "<script async src=\"//platform.twitter.com/widgets.js\" charset=\"utf-8\"></script>\n",
    "\n",
    "Very promising, don't you think?\n",
    "\n",
    "Best!"
   ]
  }
 ],
 "metadata": {
  "kernelspec": {
   "display_name": "Python 3",
   "language": "python",
   "name": "python3"
  },
  "language_info": {
   "codemirror_mode": {
    "name": "ipython",
    "version": 3
   },
   "file_extension": ".py",
   "mimetype": "text/x-python",
   "name": "python",
   "nbconvert_exporter": "python",
   "pygments_lexer": "ipython3",
   "version": "3.6.1"
  },
  "nikola": {
   "category": "",
   "date": "2017-06-19 11:13:43 UTC-03:00",
   "description": "",
   "link": "",
   "slug": "rise-meets-jupyterlab",
   "tags": "python, javascript, typescript, Jupyter, reveal, slideshow, RISE, jupyterlab",
   "title": "RISE meets JupyterLab",
   "type": "text"
  }
 },
 "nbformat": 4,
 "nbformat_minor": 2
}
