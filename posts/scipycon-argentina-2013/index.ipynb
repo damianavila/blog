{
 "metadata": {
  "name": ""
 },
 "nbformat": 3,
 "nbformat_minor": 0,
 "worksheets": [
  {
   "cells": [
    {
     "cell_type": "markdown",
     "metadata": {},
     "source": [
      "This is the first **SciPy Conference in Argentina** (as far as I know, it is also the first one in Latin American).\n",
      "\n",
      "It will be held from **16 to 18th of May in Puerto Madryn**, at the Patagonia Argentina (more details at SciPyCon [homepage](http://scipycon.com.ar))."
     ]
    },
    {
     "cell_type": "markdown",
     "metadata": {},
     "source": [
      "<!-- TEASER_END -->"
     ]
    },
    {
     "cell_type": "markdown",
     "metadata": {},
     "source": [
      "I am very proud to have this kind of conference in my country, and I would like to **thanks** to the organizers (and the sponsors) for all their hard work to make it happens.\n",
      "\n",
      "The conference will have exciting talks, tutorials and poster presentations. You can check the **schedule** [here](http://scipycon.com.ar/schedule/)\n",
      "\n",
      "I will be presenting a **tutorial** called, **Python Cient\u00edfico: Episodio I (Scientific Python: Episode I)**. You can check the details [here](http://scipycon.com.ar/activities/).\n",
      "\n",
      "And I will be also presenting a **talk** called, **IPython notebook: el \"paper ejecutable\" (IPython notebook: the \"executable paper\")**.\n",
      "\n",
      "This conference will be a **boost** for our growing Scientific Pythonic Community and an exciting beginning!\n",
      "\n",
      "Why I am writing in English about a Spanish Conference? Because I want to **spread** the word about this conference as much as I can and because there are international speakers scheduled (and I **would love** to see more in the next conference!)\n",
      "\n",
      "I hope to see you there!\n",
      "\n",
      "Dami\u00e1n."
     ]
    }
   ],
   "metadata": {}
  }
 ]
}