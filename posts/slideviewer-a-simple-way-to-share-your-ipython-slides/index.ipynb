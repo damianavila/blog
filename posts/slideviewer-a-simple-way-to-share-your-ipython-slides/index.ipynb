{
 "cells": [
  {
   "cell_type": "markdown",
   "metadata": {},
   "source": [
    "**Short Notice**:\n",
    "\n",
    "**After some months of silence, I am back... A lot of things have happened in my life lately, some of them are really good things... some others don't. And all those things kept me very busy, but finally I have made me some time to write again! ;-)**\n",
    "\n",
    "OK, I have a long list of news, topics, ideas and developments I want to share with you, but we have to begin with one of them, and the chosen one is `Slideviewer`.\n",
    "<!-- TEASER_END -->\n",
    "\n",
    "When I was at **SciPy 2013**, one of the talks I presented was about the **IPython slides** (if you dont know what I am talking about, just check some of these [posts](../categories/slideshow.html)). And one of the last things I presented in that talk was an early prototype of **Slideviewer**, an [**NBviewer**](http://nbviewer.ipython.org/)'s clon, but able to render **IPython slides** instead of plain **IPython notebooks** (`.ipynb`).\n",
    "\n",
    "The main idea behind **Slideviewer** was to provide you an easy way to share your **IPython slides**. As I pointed out in older posts and comments, you can *deploy* your **IPython slides** (the slides.html file plus the **reveal.js** library) using **Github pages** or any other service, but with **Slideviewer**, you only need to host your `.ipynb` somewhere (ie, **Github** repo, gist, etc.), and just pass the url to the **Slideviewer** service (the same way you do it with the NBviewer service) which will render your `.ipynb` to an IPython slide *automagically*.\n",
    "\n",
    "**Slideviewer** will follow **NBviewer** updates once a week, as close as it can be, essentially because some things are relevant for both apps, but others don't.\n",
    "\n",
    "And, in the future, we can probably merge the **Slideviewer** app onto the **NBviewer** app, but we need to make some things first, so I think is useful to have a separate service running right now, to help people to easily spread their **IPython slides**.\n",
    "\n",
    "**Note** from the future: site no longer available, use nbviewer instead.\n",
    "\n",
    "**Slideviewer** lives here (for now): [http://slideviewer.herokuapp.com/](http://slideviewer.herokuapp.com/) and you can see it *iframed* below:"
   ]
  },
  {
   "cell_type": "markdown",
   "metadata": {},
   "source": [
    "<iframe src=\"http://slideviewer.herokuapp.com/\" width=\"800\" height=\"800\"></iframe>"
   ]
  },
  {
   "cell_type": "markdown",
   "metadata": {},
   "source": [
    "If you have an **IPython slides** worth to be included in the main page, just let me know and I will add it.\n",
    "\n",
    "**Note**: **Slideviewer** does not support `custom.css` from **Github** (because **Github** does not *serve* the css), but you can always use another place to host your `.ipynb` and `custom.css` or change the html source code pointing to another url where the css was deployed and served. If you need help with this issue, let me know. I will try to figure out a native solution soon. \n",
    "\n",
    "OK, I hope you find this service useful!\n",
    "\n",
    "See you soon.\n",
    "\n",
    "Damián"
   ]
  }
 ],
 "metadata": {
  "kernelspec": {
   "display_name": "Python 3",
   "language": "python",
   "name": "python3"
  },
  "language_info": {
   "codemirror_mode": {
    "name": "ipython",
    "version": 3
   },
   "file_extension": ".py",
   "mimetype": "text/x-python",
   "name": "python",
   "nbconvert_exporter": "python",
   "pygments_lexer": "ipython3",
   "version": "3.6.8"
  }
 },
 "nbformat": 4,
 "nbformat_minor": 1
}
