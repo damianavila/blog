{
 "metadata": {
  "name": ""
 },
 "nbformat": 3,
 "nbformat_minor": 0,
 "worksheets": [
  {
   "cells": [
    {
     "cell_type": "markdown",
     "metadata": {},
     "source": [
      "IPython slides are powered by [Reveal.js](https://github.com/hakimel/reveal.js/) library, you probably already know that. \n",
      "\n",
      "But... you probably don't know that we use [jsdelivr](http://www.jsdelivr.com/) CDN to load all the necessary js and css files. As a consequence, you don't need to download Reveal.js, but also, the speaker notes are not working by default.\n",
      "\n",
      "But... what happens, if you have low connectivity in the place where you will be presenting your talk (or if you want to use the speaker notes feature)?\n",
      "<!-- TEASER_END -->\n",
      "\n",
      "In this case, it would be better to use a local copy of the Reveal.js library. And you can easily configure this behavior using a config object from the IPython machinery.\n",
      "\n",
      "Below, you have one way to do it:"
     ]
    },
    {
     "cell_type": "code",
     "collapsed": false,
     "input": [
      "from IPython.nbconvert.exporters import SlidesExporter\n",
      "from IPython.config import Config\n",
      "\n",
      "from IPython.nbformat import current as nbformat\n",
      "\n",
      "infile = \"talk.ipynb\" # load the name of your slideshow\n",
      "outfile = \"talk.slides.html\"\n",
      "\n",
      "notebook = open(infile).read()\n",
      "notebook_json = nbformat.reads_json(notebook)\n",
      "\n",
      "# This is the config object I talked before: \n",
      "# After the 'url_prefix', you can set the location of your \n",
      "# local reveal.js library, i.e. if the reveal.js is located \n",
      "# in the same directory as your talk.slides.html, then \n",
      "# set 'url_prefix':'reveal.js'.\n",
      "\n",
      "c = Config({\n",
      "            'RevealHelpTransformer':{\n",
      "                'enabled':True,\n",
      "                'url_prefix':'reveal.js',\n",
      "                },                \n",
      "            })\n",
      "\n",
      "exportHtml = SlidesExporter(config=c)\n",
      "(body,resources) = exportHtml.from_notebook_node(notebook_json)\n",
      "\n",
      "open(outfile, 'w').write(body.encode('utf-8'))"
     ],
     "language": "python",
     "metadata": {},
     "outputs": [],
     "prompt_number": 1
    },
    {
     "cell_type": "markdown",
     "metadata": {},
     "source": [
      "Then, just serve the directory: \n",
      "\n",
      "`python -m SimpleHTTPServer 8000`\n",
      "\n",
      "open the browser and point it to `http://localhost:port`, ie:\n",
      "\n",
      "`xdg-open http://127.0.0.1:8000`\n",
      "\n",
      "OK, that's all... you don't need connectivity anymore ;-) OK, just kidding... he he!\n",
      "\n",
      "**NOTE**: If you are using master, it is even simpler... because now `--post serve` post-processor uses tornado to forward requests to the CDN if and only if local Reveal.js is unavailable (PR merged [here](https://github.com/ipython/ipython/pull/4048), thanks **MinRK**). So, just locate the `reveal.js` in the same directory as your talk.slides.html lives and run (as usually):\n",
      "\n",
      "`ipython nbconvert talk.ipynb --to slides --post serve`\n",
      "\n",
      "You can also point to another directory using the `--reveal-prefix` alias, ie:\n",
      "\n",
      "`ipython nbconvert talk.ipynb --to slides --post serve --reveal-prefix foo/reveal.js`\n",
      "\n",
      "Hope it helps.\n",
      "\n",
      "Dami\u00e1n."
     ]
    }
   ],
   "metadata": {}
  }
 ]
}