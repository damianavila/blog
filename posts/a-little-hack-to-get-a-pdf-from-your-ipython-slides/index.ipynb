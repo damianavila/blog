{
 "metadata": {
  "name": ""
 },
 "nbformat": 3,
 "nbformat_minor": 0,
 "worksheets": [
  {
   "cells": [
    {
     "cell_type": "markdown",
     "metadata": {},
     "source": [
      "A lot of users of the `slides` option in `IPython.nbconvert` asked me about how to get a pdf from the generated Reveal.js-based slideshow. \n",
      "\n",
      "To make the story short, here you have the detailed steps:\n",
      "<!-- TEASER_END -->\n",
      "\n",
      "* `cd` in the directory where your slideshow lives\n",
      "* add this `custom.css` file: [https://gist.github.com/damianavila/6211198](https://gist.github.com/damianavila/6211198)\n",
      "* run this little snippet: [https://gist.github.com/damianavila/6211211](https://gist.github.com/damianavila/6211211)\n",
      "* run `python -m SimpleHTTPServer 8001`\n",
      "* open Mozilla Firefox browser and point to `localhost:8001`\n",
      "* add `?print.pdf` to the end of the url (ie, `http://127.0.0.1:8001/your-ipynb.slides.html?print-pdf`)\n",
      "* print to pdf (use *Landscape* orientation)\n",
      "\n",
      "Do you want to get this little hack integrated to IPython? @fperez, the IPython BDFL does:\n",
      "\n",
      "<blockquote class=\"twitter-tweet\" data-conversation=\"none\" data-cards=\"hidden\" data-partner=\"tweetdeck\"><p><a href=\"https://twitter.com/damian_avila\">@damian_avila</a> <a href=\"https://twitter.com/profjsb\">@profjsb</a> ultimately we should fold that into master though...</p>&mdash; Fernando Perez (@fperez_org) <a href=\"https://twitter.com/fperez_org/statuses/373190058326519808\">August 29, 2013</a></blockquote>\n",
      "<script async src=\"//platform.twitter.com/widgets.js\" charset=\"utf-8\"></script>\n",
      "\n",
      "So, time to write some code and do a PR... in the meantime use this hack ;-)\n",
      "\n",
      "Dami\u00e1n."
     ]
    }
   ],
   "metadata": {}
  }
 ]
}