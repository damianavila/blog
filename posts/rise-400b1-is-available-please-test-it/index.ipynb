{
 "cells": [
  {
   "cell_type": "markdown",
   "metadata": {},
   "source": [
    "Quick post! I have beta packages available for you to test **RISE**, if you can test it that would be awesome!!\n",
    "\n",
    "In case you don't know about it, with **RISE** you get your **Jupyter** notebook rendered as a Reveal.js-based slideshow, where you can **execute** code on the fly or show to the audience whatever you can show/do inside the notebook itself (but in a \"slidy\" way).\n",
    "\n",
    "How you can get it?\n",
    "<!-- TEASER_END -->\n",
    "\n",
    "You have several ways to get it that I described here: https://github.com/damianavila/RISE#installation\n",
    "\n",
    "I don't want to repeat myself ;-) so go the the above link and check it.\n",
    "\n",
    "The 4.0.0 release essentially deals with packaging and stuff to be compatible with the latest mechanisms on the **Jupyter** notebook to install and enable *nbextensions* (and **RISE** is a *nbextension*). But also fixes bugs and provide some enhancements.\n",
    "\n",
    "Please report any issues with the beta here: https://github.com/damianavila/RISE/issues\n",
    "\n",
    "Have fun!!\n",
    "\n",
    "PS: I will write a more detailed post about **RISE** later. There are a lot of things to share about it!"
   ]
  }
 ],
 "metadata": {
  "kernelspec": {
   "display_name": "Python 3",
   "language": "python",
   "name": "python3"
  },
  "language_info": {
   "codemirror_mode": {
    "name": "ipython",
    "version": 3
   },
   "file_extension": ".py",
   "mimetype": "text/x-python",
   "name": "python",
   "nbconvert_exporter": "python",
   "pygments_lexer": "ipython3",
   "version": "3.6.1"
  },
  "nikola": {
   "category": "",
   "date": "2016-08-09 16:52:46 UTC-03:00",
   "description": "",
   "link": "",
   "slug": "rise-400b1-is-available-please-test-it",
   "tags": "python, pip, conda, linux, osx, win, Jupyter, reveal, slideshow, RISE",
   "title": "RISE 4.0.0b1 is available, please test it!",
   "type": "text"
  }
 },
 "nbformat": 4,
 "nbformat_minor": 1
}
