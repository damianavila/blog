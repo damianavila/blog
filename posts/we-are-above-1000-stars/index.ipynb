{
 "cells": [
  {
   "cell_type": "markdown",
   "metadata": {},
   "source": [
    "**Github** has a way to measure projects `popularity` through stars.\n",
    "\n",
    "And those stars are given by the users themselves.\n",
    "\n",
    "And we are just above a **remarkable** line... \n",
    "\n",
    "<!-- TEASER_END -->\n",
    "\n",
    "As you can see below (or in the **RISE** github [repo](https://github.com/damianavila/RISE)):\n",
    "\n",
    "![](../galleries/rise/1004.png)\n",
    "\n",
    "We are above **1000** stars!!!\n",
    "\n",
    "I just want to give a big **THANK YOU** to all the RISE users out there.\n",
    "\n",
    "See you soon!"
   ]
  }
 ],
 "metadata": {
  "kernelspec": {
   "display_name": "Python 3",
   "language": "python",
   "name": "python3"
  },
  "language_info": {
   "codemirror_mode": {
    "name": "ipython",
    "version": 3
   },
   "file_extension": ".py",
   "mimetype": "text/x-python",
   "name": "python",
   "nbconvert_exporter": "python",
   "pygments_lexer": "ipython3",
   "version": "3.6.8"
  },
  "nikola": {
   "category": "",
   "date": "2017-07-12 13:45:00 UTC-03:00",
   "description": "",
   "link": "",
   "slug": "we-are-above-1000-stars",
   "tags": "Jupyter, python, reveal, RISE, slideshow",
   "title": "We are above 1000 stars!",
   "type": "text"
  }
 },
 "nbformat": 4,
 "nbformat_minor": 2
}
