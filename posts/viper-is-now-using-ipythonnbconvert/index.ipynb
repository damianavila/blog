{
 "metadata": {
  "name": ""
 },
 "nbformat": 3,
 "nbformat_minor": 0,
 "worksheets": [
  {
   "cells": [
    {
     "cell_type": "markdown",
     "metadata": {},
     "source": [
      "As you know (if not, probably the following lines gives you an idea), **vIPer** was originally designed to export from *ipynb* files to:\n",
      "\n",
      "* a plain static html \n",
      "* a slideshow powered by Landslide\n",
      "\n",
      "With the last release, **IPython** support this kind of exportation using the well designed and easily extensible `IPython.nbconvert` library. Now, it is easier to incorporate the IPython machinery inside vIPer and support the exportation to several formats.\n",
      "<!-- TEASER_END -->\n",
      "\n",
      "**Note**: if you want to know more about vIPer, just see the following talk I gave about it at **SciPy 2013**."
     ]
    },
    {
     "cell_type": "markdown",
     "metadata": {},
     "source": [
      "<iframe width=\"640\" height=\"360\" src=\"//www.youtube.com/embed/NVf_giNcNro\" frameborder=\"0\" allowfullscreen></iframe>"
     ]
    },
    {
     "cell_type": "markdown",
     "metadata": {},
     "source": [
      "Up to now, I have replaced the old converters by the new ones: the `HTMLExporter` and the `SlidesExporter` from `IPython.nbconvert`. As a consequence, vIPer now supports the generation of **IPython slides** (deprecating the use of Landslide to get the html-powered slideshow... thank you very much to the Landslide developers for their work... and to make my life easier at the first days of vIPer).\n",
      "\n",
      "Remarkably, trying to serve the **IPython slides** inside **vIPer** was very educational, because `IPython.nbconvert` already supports the serve of the resulting slides, so I tried to use this functionality and, because I needed to work in parallel, this led me to work a little bit with `QtCore.QThreads`.\n",
      "\n",
      "So, I essentially sub-classed the `QtCore.QThread`:\n",
      "\n",
      "```\n",
      "class ServeThread(QtCore.QThread):\n",
      "    def __init__(self, extension, container):\n",
      "        QtCore.QThread.__init__(self)\n",
      "        self.container = container\n",
      "        self.extension = extension\n",
      "\n",
      "    def run(self):\n",
      "        localO = self.container.titleHistory[-1] + self.extension\n",
      "        self.container.server.open_in_browser = False\n",
      "        self.container.server(str(self.container.path) + '/' + localO) \n",
      "```\n",
      "\n",
      "**Note**: yes, I have to deal with the path in a better way, but I am too lazy to do it now ;-)\n",
      "\n",
      "And then, I have instantiated the `ServerThread` class accordingly to my needs:\n",
      "\n",
      "```\n",
      "class Converter:\n",
      "    def __init__(self, exporter, extension, container):\n",
      "        self.container = container\n",
      "        self.extension = extension\n",
      "        self.exporter = exporter\n",
      "\n",
      "        self.container.nbConverter(self.exporter, self.extension)\n",
      "        self.container.servePool.append(ServeThread(self.extension,\n",
      "                                                    self.container))\n",
      "        if len(self.container.servePool) == 1:\n",
      "            self.container.servePool[0].start()\n",
      "        else:\n",
      "            pass\n",
      "```\n",
      "\n",
      "It is important to highlight that I needed to call the `start()` method to *run* the `run()` method from the `ServeThread` class.\n",
      "\n",
      "And now, **vIPer** support serving the IPython slides automatically after the conversion step with just a click of a button.\n",
      "\n",
      "OK, just try **vIPer** ([Github repo](https://github.com/damianavila/vIPer)) and let me know any bug... and I hope you find the Qt-derived threads information useful, or at least, interesting! ;-)\n",
      "\n",
      "Dami\u00e1n"
     ]
    }
   ],
   "metadata": {}
  }
 ]
}