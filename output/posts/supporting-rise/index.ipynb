{
 "cells": [
  {
   "cell_type": "markdown",
   "metadata": {},
   "source": [
    "Hi folks!\n",
    "\n",
    "This is a little blog post requesting your support for **RISE**.\n",
    "\n",
    "### *What is RISE?*\n",
    "\n",
    "**RISE** is a **very** popular extension for the **Jupyter Notebook**.\n",
    "It lets you show your notebooks rendered as an **executable** `Reveal.js`-based slideshow.\n",
    "\n",
    "We have been working on **RISE** for several years and we are looking into its future and evolution.\n",
    "\n",
    "### How you can help us (with money ;-)\n",
    "\n",
    "You can **always** help us contributing to the project with your time (through code, documentation, testing, showing, using it) **BUT** we are currently looking for a *continuous flow* of money so we can spend time on a *daily* basis with **RISE**.\n",
    "\n",
    "Basically, you have 2-3 ways to fund **RISE** support and development:\n",
    "<!-- TEASER_END -->\n",
    "\n",
    "At [https://ko-fi.com/damianavila](https://ko-fi.com/damianavila) you can either:\n",
    "\n",
    "* Buy me some stars as general support (and you will be listed on [this blog support page](https://damianavila.github.io/blog/stories/support-me.html))\n",
    "* Buy a \"commission\" to support the accomplishment of diverse **RISE**-related goals (see each specific **RISE**-related commission for more details)\n",
    "\n",
    "We **highly** encourage you to choose one of the **RISE**-related available commissions.\n",
    "\n",
    "Press the *Commission me* button located below for more details on each commission.\n",
    "\n",
    "[![](../galleries/rise/commission.png)](https://ko-fi.com/damianavila/commissions)\n",
    "\n",
    "Currently, most (if not all) of my commissions are associated with **RISE** support and ongoing development.\n",
    "These are just a **one-time** commissions, so if you want to support us in a **continuous/recurrent** way, you can buy us a higher commission/tier (not monthly subscription available)!\n",
    "\n",
    "Btw, buying a commission will allow you to be listed on the [RISE supporters' page](https://rise.readthedocs.io/en/stable/support.html) (logos reserved for high tiers commissions).\n",
    "\n",
    "Alternatively, if you don't like this platform (or the associated electronic payment method) and you still want to support us or, maybe, you are a company and you need to process things outside of this platform, you can drop us a DM at `damian_avila`'s on [Twitter](https://twitter.com/damian_avila) or [Telegram](https://t.me/damian_avila) and we can figure it out better alternatives for you. As always, you can also reach us at our public [gitter channel](https://gitter.im/damianavila/RISE) to start the conversation.\n",
    "\n",
    "### Why you are asking for support?\n",
    "\n",
    "Essentially, because we want **RISE** to evolve, to shine, to keep helping people. We have a lot of concrete plans and also some very interesting ideas to explore and we want to make those happen. But those things need time to happen and time means money in this world...\n",
    "\n",
    "We are now trying this supporter-based model expecting not only people support but also companies' support, but we are open to trying several and multiple ways to fund **RISE** development and evolution, so if you have other ideas, just let's know!\n",
    "\n",
    "### Why you are asking for support NOW?\n",
    "\n",
    "The idea started several weeks ago because there were a lot of people requesting to support **RISE** somehow. So we developed a solution for them and any other who wants to support us. But then COVID-19 exploded and we thought it was not the proper time to ask for support. But people keep asking for a channel to support us and it seems COVID-19 will be on this world for a long time, so we decided to go ahead and ask for it.\n",
    "\n",
    "### Finally, a **BIG THANK YOU**!"
   ]
  }
 ],
 "metadata": {
  "kernelspec": {
   "display_name": "Python 3",
   "language": "python",
   "name": "python3"
  },
  "language_info": {
   "codemirror_mode": {
    "name": "ipython",
    "version": 3
   },
   "file_extension": ".py",
   "mimetype": "text/x-python",
   "name": "python",
   "nbconvert_exporter": "python",
   "pygments_lexer": "ipython3",
   "version": "3.6.10"
  },
  "nikola": {
   "category": "",
   "date": "2020-04-03 14:08:22 UTC-03:00",
   "description": "",
   "link": "",
   "slug": "supporting-rise",
   "tags": "RISE, slideshow, reveal, Jupyter, support, kofi, opensource",
   "title": "Supporting RISE",
   "type": "text"
  }
 },
 "nbformat": 4,
 "nbformat_minor": 4
}
