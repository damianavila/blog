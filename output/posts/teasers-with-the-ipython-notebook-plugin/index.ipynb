{
 "metadata": {
  "name": ""
 },
 "nbformat": 3,
 "nbformat_minor": 0,
 "worksheets": [
  {
   "cells": [
    {
     "cell_type": "markdown",
     "metadata": {},
     "source": [
      "Just a little tip...\n",
      "\n",
      "You know that Nikola support TEASERS... if not, you can read more about that here:\n",
      "[teasers_info](http://nikola.ralsina.com.ar/handbook.html#teasers).\n",
      "\n",
      "In a few words, if you don't want to show the complete content of your posts at the index page, but instead display only the beginning of them, you only need to add a \"magical comment\" in a markdown cell:\n",
      "\n",
      "<!-- TEASER_END -->\n",
      "\n",
      "`<!-- TEASER_END -->`\n",
      "\n",
      "And all the content after this \"magical comment\" will not be rendered at the index page.\n",
      "\n",
      "In this way, you can avoid the load of \"heavy\" things at the index and make your site main page loading faster... nice, don't you think?\n",
      "\n",
      "Dami\u00e1n."
     ]
    }
   ],
   "metadata": {}
  }
 ]
}