{
 "cells": [
  {
   "cell_type": "markdown",
   "metadata": {},
   "source": [
    "It is time to release some extensions I wrote the last weeks.\n",
    "And because it is **Friday**, and it is a great moment to begin with the \"relax\" and procrastination, I will release the tweet me extension...\n",
    "<!-- TEASER_END -->\n",
    "\n",
    "You don't have any idea what I am talking about? OK, a few words...\n",
    "Probably you know that spend a lot of time inside **IPython** notebooks and I was tired to switch windows to send or answer a tweet. So, I wrote a little *js* extension to capture the input of the selected cell and tweet it just pressing the *twitter* icon at the **IPython** toolbar.\n",
    "\n",
    "![](../galleries/twitter/1.png)\n",
    "\n",
    "But this *js* extension is **IPython**-powered itself, because I am using the **IPython** js machinery to execute *python* files calling the *python kernel*! Yes... it seems weird, but once you get the idea, you can achieve a **lot** of things. You can see the relevant part of the code below:"
   ]
  },
  {
   "cell_type": "code",
   "execution_count": 1,
   "metadata": {},
   "outputs": [
    {
     "name": "stdout",
     "output_type": "stream",
     "text": [
      "function tweetMe(path) {\r\n",
      "  var entry = IPython.notebook.get_selected_cell().get_text();\r\n",
      "  if (entry.length == 0) {\r\n",
      "    zeroMessager(); \r\n",
      "  }\r\n",
      "  if (entry.length > 0 && entry.length <= 140) {\r\n",
      "    IPython.notebook.kernel.execute('%bookmark root');\r\n",
      "    IPython.notebook.kernel.execute('%cd ' + path);\r\n",
      "    IPython.notebook.kernel.execute('%run tweet_helper.py \"' + entry + '\"');\r\n",
      "    IPython.notebook.kernel.execute('%cd -b root');\r\n",
      "    sucessMessager();\r\n",
      "  }\r\n",
      "  if (entry.length > 140) {\r\n",
      "    wrongMessager();\r\n",
      "  }\r\n",
      "}\r\n"
     ]
    }
   ],
   "source": [
    "!sed -n 59,74p /media/datos/Desarrollos/mIPyex/custom/tweet_me/main.js"
   ]
  },
  {
   "cell_type": "markdown",
   "metadata": {},
   "source": [
    "The secret is to use the `IPython.notebook.kernel.execute(whatever)` method and pass it whatever you want, even **IPython** *magics functions*! Yes again... too much *Inception* movie for the last weeks ;-)\n",
    "\n",
    "OK, the extension lives in this new repo: [mIPyex](https://github.com/damianavila/mIPyex), where I will upload the development versions of my own extensions. When I get them enough stable, I will make a copy of them in the [IPython notebook extensions](https://github.com/ipython-contrib/IPython-notebook-extensions) repo where you can get a lot of and useful interesting extensions.\n",
    "\n",
    "Do you want to try it?\n",
    "It is easy... just follow the README to install all the necessary tools (I used the [PTT](http://mike.verdone.ca/twitter/) library to deal with the Twitter API) and then just *click* the *twitter* button when you want to share something with the world!\n",
    "\n",
    "Hope you enjoy it a lot!\n",
    "\n",
    "Damián"
   ]
  },
  {
   "cell_type": "markdown",
   "metadata": {},
   "source": [
    "PD: I will use the next cell to tweet about this new blog post! ;-)"
   ]
  },
  {
   "cell_type": "markdown",
   "metadata": {},
   "source": [
    "New blog post!\n",
    "Tweet me... said an IPython notebook cell and I did it.\n",
    "http://goo.gl/ry9Umi"
   ]
  },
  {
   "cell_type": "markdown",
   "metadata": {},
   "source": [
    "Addendum: \n",
    "You can now send tweets from cells with multi-line content (my first implementation only worked with one-line strings)."
   ]
  },
  {
   "cell_type": "markdown",
   "metadata": {},
   "source": [
    "Addendum 2: You have not only a button but also a keyboard shortcut to activate the Tweet me extension: ALT + T."
   ]
  }
 ],
 "metadata": {
  "kernelspec": {
   "display_name": "Python 3",
   "language": "python",
   "name": "python3"
  },
  "language_info": {
   "codemirror_mode": {
    "name": "ipython",
    "version": 3
   },
   "file_extension": ".py",
   "mimetype": "text/x-python",
   "name": "python",
   "nbconvert_exporter": "python",
   "pygments_lexer": "ipython3",
   "version": "3.6.8"
  }
 },
 "nbformat": 4,
 "nbformat_minor": 1
}
