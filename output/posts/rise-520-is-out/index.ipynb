{
 "cells": [
  {
   "cell_type": "markdown",
   "metadata": {},
   "source": [
    "We're pleased to announce the release of RISE 5.2.0!\n",
    "\n",
    "**RISE** let's you show yout **Jupyter** notebook rendered as an **executable** Reveal.js-based slideshow. It is your very same notebook but in a *slidy* way!\n",
    "<!-- TEASER_END -->\n",
    "\n",
    "*How you can get it?*\n",
    "\n",
    "If you are a **conda/anaconda** user, you can install it with `conda install -c damianavila82 rise`.\n",
    "\n",
    "For further information about other installations procedures, please check https://damianavila.github.io/RISE/installation.html.\n",
    "\n",
    "*What are the new goodies?*\n",
    "\n",
    "This released was mainly focused in some source code cleanup and normalization, several fixes and enhancements in the documentation, new default values for the ``auto_select`` and ``start_slideshow_at`` config options and a scroll-aware behavior for the output observer.\n",
    "\n",
    "You can see a detailed changelog at https://damianavila.github.io/RISE/changelog.html\n",
    "\n",
    "Please report any issues at https://github.com/damianavila/RISE/issues\n",
    "\n",
    "And I hope you enjoy the RISE experience!"
   ]
  }
 ],
 "metadata": {
  "kernelspec": {
   "display_name": "Python 3",
   "language": "python",
   "name": "python3"
  },
  "language_info": {
   "codemirror_mode": {
    "name": "ipython",
    "version": 3
   },
   "file_extension": ".py",
   "mimetype": "text/x-python",
   "name": "python",
   "nbconvert_exporter": "python",
   "pygments_lexer": "ipython3",
   "version": "3.6.3"
  },
  "nikola": {
   "category": "",
   "date": "2018-02-04 23:45:53 UTC-03:00",
   "description": "",
   "link": "",
   "slug": "rise-520-is-out",
   "tags": "conda, Jupyter, linux, osx, pip, python, reveal, RISE, slideshow, win",
   "title": "RISE 5.2.0 is out!",
   "type": "text"
  }
 },
 "nbformat": 4,
 "nbformat_minor": 2
}
