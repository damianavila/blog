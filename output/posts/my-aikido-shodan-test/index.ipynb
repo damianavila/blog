{
 "cells": [
  {
   "cell_type": "markdown",
   "metadata": {},
   "source": [
    "Do you want to see how an [**Aikido**](https://en.wikipedia.org/wiki/Aikido) Shodan test looks like?\n",
    "Well, this is your opportunity!!\n",
    "You just need to keep reading for a little bit ;-)\n",
    "<!-- TEASER_END -->\n",
    "\n",
    "We had a 2 days **Aikido** and **Iaido** [seminar](http://cordobaaikikai.com.ar/#!/-seminario-corbal-2018/) taught by [Shihan Ricardo Corbal](http://asaikido.com.ar/ricardo-corbal-sensei/).\n",
    "\n",
    "Yesterday, after two really nice and crowded classes, we had some kyu and dan tests.\n",
    "And I tested for the **Shodan** degree (1st black belt in **Aikido**).\n",
    "\n",
    "This is the conclusion of a long journey... or, actually the beginning!\n",
    "\n",
    "I started to practice **Aikido** in 1999 under **Sensei Oscar Medina**.\n",
    "And I practiced there for about 5 years.\n",
    "But for several reasons, included the tragic death of my **Sensei** and friend in a traffic accident, I discontinued my practice.\n",
    "Then, a lot of happened in my life, and after several years, in 2016 (yes, about 11 years later) I restarted to practice again in [**Córdoba Aikikai**](http://cordobaaikikai.com.ar/#!/-home/) (previously known as Kogarashi dojo) under the teaching of **Sensei José Delgado** and **Sensei Eugenio Fernández**, and more recently also under the teaching of **Sensei Nico Coll**.\n",
    "I practiced the whole 2016, but 2017 surprised me with a lot of international and national travels, so I re-restarted again in 2018.\n",
    "\n",
    "So, after about 7-8 years of discontinued practice, I finally was ready to test for the **Shodan** degree.\n",
    "\n",
    "I want to thank a lot of people who helped me in this phase:\n",
    "\n",
    "* **Sensei Oscar Medina**, who introduced me to the art of **Aikido** and became one of my most beloved friends (I miss you!)\n",
    "* **Sensei José** and **Sensei Eugenio**, who opened me the doors of Kogarashi and re-introduce me in the **Aikido** practice. Those two guys are wonderful human beings and friends\n",
    "* **Sensei Nico**, who recently joined José and Eugenio to start a new journey called **Córdoba Aikikai** (Sensei, thanks for being my uke in the test!)\n",
    "* All the **Córdoba Aikikai community**, a lot of people who are transiting their own paths in **Aikido** helping each other on a daily basis\n",
    "* **Shihan Ricardo Corbal**, who kindly provided us with this teachings and took my test (thanks for the post-test tips, I will work hard on those points to make them better) \n",
    "* **Daniela**, my love, who is really supportive and helped me in all this process\n",
    "\n",
    "OK, this is video, in case you want to see some action ;-)\n",
    "\n",
    "<iframe width=\"560\" height=\"315\" src=\"https://www.youtube.com/embed/qoaF-I3YznM?rel=0\" frameborder=\"0\" allow=\"autoplay; encrypted-media\" allowfullscreen></iframe>\n",
    "\n",
    "As I said before, this is just the **beginning** of a new phase in my **Aikido** practice and I am pretty sure I will enjoy it!"
   ]
  }
 ],
 "metadata": {
  "kernelspec": {
   "display_name": "Python 3",
   "language": "python",
   "name": "python3"
  },
  "language_info": {
   "codemirror_mode": {
    "name": "ipython",
    "version": 3
   },
   "file_extension": ".py",
   "mimetype": "text/x-python",
   "name": "python",
   "nbconvert_exporter": "python",
   "pygments_lexer": "ipython3",
   "version": "3.6.3"
  },
  "nikola": {
   "category": "",
   "date": "2018-09-16 09:58:09 UTC-03:00",
   "description": "",
   "link": "",
   "slug": "my-aikido-shodan-test",
   "tags": "Aikido, Shodan, cordobaaikikai, asaikido",
   "title": "My Aikido Shodan test",
   "type": "text"
  }
 },
 "nbformat": 4,
 "nbformat_minor": 2
}
