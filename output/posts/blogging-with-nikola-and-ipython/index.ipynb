{
 "cells": [
  {
   "cell_type": "markdown",
   "metadata": {},
   "source": [
    "> **Alert!** This post is outdated, please `goto` ;-) this [link](../posts/ipython-plugin-for-nikola-updated.html) to get updated information."
   ]
  },
  {
   "cell_type": "markdown",
   "metadata": {},
   "source": [
    "**NOTE**: Obviously, this post was written in the IPython notebook and was rendered by Nikola (helped by nbconvert)."
   ]
  },
  {
   "cell_type": "markdown",
   "metadata": {},
   "source": [
    "**INGREDIENTS**:"
   ]
  },
  {
   "cell_type": "markdown",
   "metadata": {},
   "source": [
    "* [Nikola](https://github.com/ralsina/nikola)\n",
    "\n",
    "**NOTE: The theme was tested with Nikola version [5.1](https://github.com/ralsina/nikola/tags)**\n",
    "\n",
    "* [IPython](https://github.com/ipython/ipython)\n",
    "* [site-ipython](https://github.com/damianavila/site-ipython-theme-for-Nikola.git) theme for Nikola \n",
    "* [compile_ipynb](https://github.com/damianavila/compile_ipynb-for-Nikola.git) for Nikola "
   ]
  },
  {
   "cell_type": "markdown",
   "metadata": {},
   "source": [
    "<!-- TEASER_END -->"
   ]
  },
  {
   "cell_type": "markdown",
   "metadata": {},
   "source": [
    "**STEPS**:"
   ]
  },
  {
   "cell_type": "markdown",
   "metadata": {},
   "source": [
    "* Install Nikola and IPython (probably you have IPython installed if you are reading this post).\n",
    "* Install the [site-ipython theme](https://github.com/damianavila/site-ipython-theme-for-Nikola.git) in your Nikola instalation. You can see some the documentation about how to do it [here](http://nikola.ralsina.com.ar/handbook.html).\n",
    "\n",
    "NOTE: Another way to do it is copying the site-ipython theme inside the nikola/data/themes folder BEFORE installing Nikola. \n",
    "\n",
    "**NOTE2: The recommended way to do it would be copying the site-ipython theme inside your_site after initialization of your_site. See below.**\n",
    "\n",
    "* Initialize your_site:\n",
    "\n",
    "`nikola init your_site`\n",
    "\n",
    "you can ask for \n",
    "\n",
    "`nikola --help` \n",
    "\n",
    "for other available options.\n",
    "\n",
    "* Create a plugins folder inside your_site\n",
    "* Copy the compile_ipynb plugin (compile_ipynb.plugin file and the compile_ipynb folder, which are is located inside the extra-plugins folder in the Nikola master) in your_site/plugins/ folder.\n",
    "* Then, download the custom nbconvert and nbformat from [here](https://github.com/damianavila/compile_ipynb-for-Nikola.git) and put them inside your_site/plugins/compile_ipynb/ folder.\n",
    "* Finally, you have to put: \n",
    "\n",
    "```\n",
    "post_pages = (\n",
    "    (\"posts/*.ipynb\", \"posts\", \"post.tmpl\", True),\n",
    "    (\"stories/*.ipynb\", \"stories\", \"story.tmpl\", False),\n",
    ")\n",
    "```\n",
    "\n",
    "and\n",
    "\n",
    "    THEME = 'site-ipython'\n",
    "\n",
    "in your conf.py file of your_site (you can modified the other pieces inside conf.py according to your needs)."
   ]
  },
  {
   "cell_type": "markdown",
   "metadata": {},
   "source": [
    "### NOTE: This setup is done only once time a life... hehe"
   ]
  },
  {
   "cell_type": "markdown",
   "metadata": {},
   "source": [
    "**USE**:"
   ]
  },
  {
   "cell_type": "markdown",
   "metadata": {},
   "source": [
    "* First create a new post: \n",
    "\n",
    "`nikola new_post -f ipynb`"
   ]
  },
  {
   "cell_type": "markdown",
   "metadata": {},
   "source": [
    "**NOTE**: **IGNORE** the -2 option in nikola new_page (it is no sense with the current implementation)."
   ]
  },
  {
   "cell_type": "markdown",
   "metadata": {},
   "source": [
    "You will be asked for a title (you can also add the title and tags in the previous call)."
   ]
  },
  {
   "cell_type": "markdown",
   "metadata": {},
   "source": [
    "Then, two files will be created by Nikola in the /posts folder of your_site: a meta file containing title, slug, time, tags (you can modified them with any text processor) and a **naive** ipynb file with the corresponding title."
   ]
  },
  {
   "cell_type": "markdown",
   "metadata": {},
   "source": [
    "You can init the `ipython notebook` inside this folder and modified the *\"post\"* notebook as you wish (do not forget to save the changes inside your notebook)."
   ]
  },
  {
   "cell_type": "markdown",
   "metadata": {},
   "source": [
    "* Finally, just: \n",
    "\n",
    "`nikola build`"
   ]
  },
  {
   "cell_type": "markdown",
   "metadata": {},
   "source": [
    "and deploy the output folder containing your_site... to see it locally: \n",
    "\n",
    "`nikola serve`"
   ]
  },
  {
   "cell_type": "markdown",
   "metadata": {},
   "source": [
    "**That's it all, my friend!**"
   ]
  },
  {
   "cell_type": "markdown",
   "metadata": {},
   "source": [
    "If you have any doubt, just tell me: [@damianavila](https://twitter.com/damian_avila)\n",
    "\n",
    "Cheers,\n",
    "\n",
    "Damián"
   ]
  },
  {
   "cell_type": "markdown",
   "metadata": {},
   "source": [
    "PS: And now some cells to show you this is areal notebook..."
   ]
  },
  {
   "cell_type": "code",
   "execution_count": 1,
   "metadata": {},
   "outputs": [
    {
     "data": {
      "text/plain": [
       "u'/home/damian/Desarrollos/To_PR/SITIOS/Damian_blog_nikola/posts'"
      ]
     },
     "execution_count": 1,
     "metadata": {},
     "output_type": "execute_result"
    }
   ],
   "source": [
    "pwd"
   ]
  },
  {
   "cell_type": "code",
   "execution_count": 2,
   "metadata": {},
   "outputs": [
    {
     "name": "stdout",
     "output_type": "stream",
     "text": [
      "\n",
      "Welcome to pylab, a matplotlib-based Python environment [backend: module://IPython.zmq.pylab.backend_inline].\n",
      "For more information, type 'help(pylab)'.\n"
     ]
    }
   ],
   "source": [
    "%pylab inline"
   ]
  },
  {
   "cell_type": "code",
   "execution_count": 3,
   "metadata": {},
   "outputs": [
    {
     "data": {
      "image/png": "[encoded data removed]"
     },
     "metadata": {},
     "output_type": "display_data"
    }
   ],
   "source": [
    "x = linspace(0, 3*pi, 500)\n",
    "plot(x, sin(x**2))\n",
    "title('A simple chirp');"
   ]
  },
  {
   "cell_type": "code",
   "execution_count": 4,
   "metadata": {},
   "outputs": [
    {
     "ename": "ZeroDivisionError",
     "evalue": "integer division or modulo by zero",
     "output_type": "error",
     "traceback": [
      "\u001b[1;31m---------------------------------------------------------------------------\u001b[0m\n\u001b[1;31mZeroDivisionError\u001b[0m                         Traceback (most recent call last)",
      "\u001b[1;32m<ipython-input-4-dc39888fd1d2>\u001b[0m in \u001b[0;36m<module>\u001b[1;34m()\u001b[0m\n\u001b[0;32m      1\u001b[0m \u001b[0mx\u001b[0m \u001b[1;33m=\u001b[0m \u001b[1;36m1\u001b[0m\u001b[1;33m\u001b[0m\u001b[0m\n\u001b[0;32m      2\u001b[0m \u001b[0my\u001b[0m \u001b[1;33m=\u001b[0m \u001b[1;36m4\u001b[0m\u001b[1;33m\u001b[0m\u001b[0m\n\u001b[1;32m----> 3\u001b[1;33m \u001b[0mz\u001b[0m \u001b[1;33m=\u001b[0m \u001b[0my\u001b[0m\u001b[1;33m/\u001b[0m\u001b[1;33m(\u001b[0m\u001b[1;36m1\u001b[0m\u001b[1;33m-\u001b[0m\u001b[0mx\u001b[0m\u001b[1;33m)\u001b[0m\u001b[1;33m\u001b[0m\u001b[0m\n\u001b[0m",
      "\u001b[1;31mZeroDivisionError\u001b[0m: integer division or modulo by zero"
     ]
    }
   ],
   "source": [
    "x = 1\n",
    "y = 4\n",
    "z = y/(1-x)"
   ]
  },
  {
   "cell_type": "markdown",
   "metadata": {},
   "source": [
    "Courtesy of MathJax, you can include mathematical expressions both inline: \n",
    "$e^{i\\pi} + 1 = 0$  and displayed:\n",
    "\n",
    "$$e^x=\\sum_{i=0}^\\infty \\frac{1}{i!}x^i$$"
   ]
  },
  {
   "cell_type": "code",
   "execution_count": 5,
   "metadata": {},
   "outputs": [
    {
     "data": {
      "text/html": [
       "<img src=\"http://python.org/images/python-logo.gif\" />"
      ],
      "text/plain": [
       "<IPython.core.display.Image at 0xa13b74c>"
      ]
     },
     "execution_count": 5,
     "metadata": {},
     "output_type": "execute_result"
    }
   ],
   "source": [
    "from IPython.display import Image\n",
    "Image(url='http://python.org/images/python-logo.gif')"
   ]
  },
  {
   "cell_type": "code",
   "execution_count": 6,
   "metadata": {},
   "outputs": [
    {
     "data": {
      "text/html": [
       "\n",
       "            <iframe\n",
       "                width=\"400\"\n",
       "                height=\"300\"\n",
       "                src=\"http://www.youtube.com/embed/1j_HxD4iLn8\"\n",
       "                frameborder=\"0\"\n",
       "                allowfullscreen\n",
       "            ></iframe>\n",
       "        "
      ],
      "text/plain": [
       "<IPython.lib.display.YouTubeVideo at 0xa7d0bcc>"
      ]
     },
     "execution_count": 6,
     "metadata": {},
     "output_type": "execute_result"
    }
   ],
   "source": [
    "from IPython.display import YouTubeVideo\n",
    "# a talk about IPython at Sage Days at U. Washington, Seattle.\n",
    "# Video credit: William Stein.\n",
    "YouTubeVideo('1j_HxD4iLn8')"
   ]
  },
  {
   "cell_type": "markdown",
   "metadata": {},
   "source": [
    "OK, enough... see you soon!"
   ]
  }
 ],
 "metadata": {
  "kernelspec": {
   "display_name": "Python 3",
   "language": "python",
   "name": "python3"
  },
  "language_info": {
   "codemirror_mode": {
    "name": "ipython",
    "version": 3
   },
   "file_extension": ".py",
   "mimetype": "text/x-python",
   "name": "python",
   "nbconvert_exporter": "python",
   "pygments_lexer": "ipython3",
   "version": "3.6.8"
  }
 },
 "nbformat": 4,
 "nbformat_minor": 1
}
