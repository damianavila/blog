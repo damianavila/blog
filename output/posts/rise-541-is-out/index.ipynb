{
 "cells": [
  {
   "cell_type": "markdown",
   "metadata": {},
   "source": [
    "We're pleased to announce the release of **RISE** 5.4.1!\n",
    "\n",
    "**RISE** lets you show your **Jupyter** notebook rendered as an **executable** `Reveal.js`-based slideshow. It is your very same notebook but in a *slidy* way!\n",
    "<!-- TEASER_END -->\n",
    "\n",
    "*How you can get it?*\n",
    "\n",
    "If you are a **conda/anaconda** user, you can install it with `conda install -c conda-forge rise`.\n",
    "\n",
    "For further information about other installations procedures, please check https://rise.readthedocs.io/en/docs_hot_fixes/installation.html.\n",
    "\n",
    "*What are the latest news?*\n",
    "\n",
    "This released was mainly focused on `setup.py` enhancements, documentation updates (mainly in the PDF section), compatibility fixes, and two new nice features: **chalkboard** functionality and **speaker notes**!!\n",
    "\n",
    "You can see a detailed changelog at https://rise.readthedocs.io/en/docs_hot_fixes/changelog.html\n",
    "\n",
    "Please report any issues at https://github.com/damianavila/RISE/issues\n",
    "\n",
    "And we really hope you enjoy the RISE experience!"
   ]
  }
 ],
 "metadata": {
  "kernelspec": {
   "display_name": "Python 3",
   "language": "python",
   "name": "python3"
  },
  "language_info": {
   "codemirror_mode": {
    "name": "ipython",
    "version": 3
   },
   "file_extension": ".py",
   "mimetype": "text/x-python",
   "name": "python",
   "nbconvert_exporter": "python",
   "pygments_lexer": "ipython3",
   "version": "3.6.8"
  },
  "nikola": {
   "category": "",
   "date": "2018-08-25 15:44:17 UTC-03:00",
   "description": "",
   "link": "",
   "slug": "rise-541-is-out",
   "tags": "python, Jupyter, linux, osx, win, conda, pip, reveal, RISE, slideshow",
   "title": "RISE 5.4.1 is out!",
   "type": "text"
  }
 },
 "nbformat": 4,
 "nbformat_minor": 2
}
