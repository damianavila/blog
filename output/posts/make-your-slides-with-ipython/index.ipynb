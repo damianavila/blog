{
 "metadata": {
  "name": ""
 },
 "nbformat": 3,
 "nbformat_minor": 0,
 "worksheets": [
  {
   "cells": [
    {
     "cell_type": "markdown",
     "metadata": {},
     "source": [
      "With the integration of nbconvert inside IPython, the last 1.0 release has the possibility to export the ipynb to other formats such as rst, markdown, latex, html and slides ([info](http://ipython.org/ipython-doc/stable/interactive/nbconvert.html)).\n",
      "\n",
      "The slides option generates a Reveal.js-powered HTML slideshow, like this one:\n",
      "<!-- TEASER_END -->"
     ]
    },
    {
     "cell_type": "markdown",
     "metadata": {},
     "source": [
      "<iframe src=\"http://damianavila.github.io/scipy2013_talks/index.html\" width=800 height=600></iframe>"
     ]
    },
    {
     "cell_type": "markdown",
     "metadata": {},
     "source": [
      "These are my slides from the talk I gave at SciPy 2013 (Texas) featuring this exporter I previously developed in the old nbconvert project and now merged (and available) in the last release (1.0) of IPython.\n",
      "\n",
      "You can also see the video of the talk:"
     ]
    },
    {
     "cell_type": "markdown",
     "metadata": {},
     "source": [
      "<iframe width=\"640\" height=\"360\" src=\"//www.youtube.com/embed/rBS6hmiK-H8\" frameborder=\"0\" allowfullscreen></iframe>"
     ]
    },
    {
     "cell_type": "markdown",
     "metadata": {},
     "source": [
      "As you can see, before I had to use an independent nbconvert library... now is easier ;-)\n",
      "\n",
      "Just one line:\n",
      "\n",
      "`ipython nbconvert your_slides.ipynb --to slides`\n",
      "\n",
      "But, the resulting slideshow has to be served by an HTTP server. Because, we care of you ;-), just add --post serve at the command-line:\n",
      "\n",
      "`ipython nbconvert your_slides.ipynb --to slides --post serve`\n",
      "\n",
      "And your browser will open a tab containing your slides...\n",
      "\n",
      "There is a lot of possibility from here... but I will write some of them later.\n",
      "\n",
      "Enjoy it!\n",
      "\n",
      "Dami\u00e1n\n",
      "\n",
      "PS: Please report any bug or give me you feedback to make this tool better!"
     ]
    }
   ],
   "metadata": {}
  }
 ]
}