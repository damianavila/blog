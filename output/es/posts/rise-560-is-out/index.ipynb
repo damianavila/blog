{
 "cells": [
  {
   "cell_type": "markdown",
   "metadata": {},
   "source": [
    "We're pleased to announce the release of **RISE** 5.6.0!\n",
    "\n",
    "### *What is RISE?*\n",
    "\n",
    "**RISE** lets you show your **Jupyter** notebook rendered as an **executable** `Reveal.js`-based slideshow.\n",
    "\n",
    "It is your very same notebook but in a *slidy* way!\n",
    "<!-- TEASER_END -->\n",
    "\n",
    "### *How you can get it?*\n",
    "\n",
    "If you are a **conda/anaconda** user, you can install it with `conda install -c conda-forge rise`.\n",
    "\n",
    "If you are a **pip** user, you can install it with `pip install rise`.\n",
    "\n",
    "For further information about the installation process, please check [here](https://rise.readthedocs.io/en/maint-5.6/installation.html).\n",
    "\n",
    "### *What are the latest news?*\n",
    "\n",
    "This released was mainly focused on:\n",
    "\n",
    "* We now rely on `reveal.js` 3.8.0\n",
    "* We now support \"dark\" reveal.js themes (nice... isn't it ;-)\n",
    "\n",
    "![](../galleries/rise/dark_slides.png)\n",
    "\n",
    "* other minor bug fixes and enhancements (CSS, build, docs)!\n",
    "\n",
    "You can see a detailed changelog [here](https://rise.readthedocs.io/en/maint-5.6/changelog.html#changes).\n",
    "\n",
    "Please report any issues at https://github.com/damianavila/RISE/issues.\n",
    "\n",
    "Finally, we **really** hope you continue enjoying the **RISE** experience!\n",
    "\n",
    "**PS**: We just realized we never ANN'ed the release of **RISE** 5.5.1 on July. I was a really minor patch release to fix an annoying bug with some keyboard shortcuts. Very sorry about that missed ANN!"
   ]
  }
 ],
 "metadata": {
  "kernelspec": {
   "display_name": "Python 3",
   "language": "python",
   "name": "python3"
  },
  "language_info": {
   "codemirror_mode": {
    "name": "ipython",
    "version": 3
   },
   "file_extension": ".py",
   "mimetype": "text/x-python",
   "name": "python",
   "nbconvert_exporter": "python",
   "pygments_lexer": "ipython3",
   "version": "3.6.10"
  },
  "nikola": {
   "category": "",
   "date": "2019-11-14 16:08:38 UTC-03:00",
   "description": "",
   "link": "",
   "slug": "rise-560-is-out",
   "tags": "conda, Jupyter, linux, osx, pip, python, reveal, RISE, slideshow, win",
   "title": "RISE 5.6.0 is out!",
   "type": "text"
  }
 },
 "nbformat": 4,
 "nbformat_minor": 2
}
