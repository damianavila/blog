{
 "metadata": {
  "name": ""
 },
 "nbformat": 3,
 "nbformat_minor": 0,
 "worksheets": [
  {
   "cells": [
    {
     "cell_type": "markdown",
     "metadata": {},
     "source": [
      "**Note**: Post only in spanish (but also interesting!)\n",
      "\n",
      "Hace un par de semanas, terminando el mes de Octubre, se llev\u00f3 a cabo en la ciudad de Rosario, la 5\u00b0 Conferencia Anual de Python Argentina - [PyConAr 2013](http://ar.pycon.org/).\n",
      "\n",
      "En esta oportunidad, present\u00e9 dos charlas:\n",
      "<!-- TEASER_END -->\n",
      "\n",
      "* la cl\u00e1sica, *Introducci\u00f3n a Python Cient\u00edfico* ([slides](http://damianavila.github.io/pyconar2013_talks/1_Python_Cientifico_Intro.slides.html#/)), \n",
      "* la nueva, *IPython-fu: el camino de la \"nbconversi\u00f3n\"* ([slides](http://damianavila.github.io/pyconar2013_talks/IPython_fu_talk.slides.html#/)).\n",
      "\n",
      "Me sent\u00ed muy c\u00f3modo dictando las dos charlas, y encima me di el gusto de \"meter\" una charla \u00edntegra del notebook de IPython, sobre el cual vengo \"pregonando\" hace rato.\n",
      "\n",
      "Por otro lado, gracias al esfuerzo puesto en juego por la organizaci\u00f3n del evento, tenemos [videograbaci\u00f3n](http://www.youtube.com/channel/UCpufJ3XcqCGoPTxQX46W-UQ) de toda la conferencia. \n",
      "\n",
      "A continuaci\u00f3n, les adjunto los videos de mis charlas... por si se perdieron alguna:"
     ]
    },
    {
     "cell_type": "markdown",
     "metadata": {},
     "source": [
      "* Introducci\u00f3n a Python Cient\u00edfico\n",
      "\n",
      "<iframe width=\"640\" height=\"360\" src=\"//www.youtube.com/embed/17DPZlKQDk8\" frameborder=\"0\" allowfullscreen></iframe>"
     ]
    },
    {
     "cell_type": "markdown",
     "metadata": {},
     "source": [
      "* IPython-fu: el camino de la \"nbconversi\u00f3n\"\n",
      "\n",
      "<iframe width=\"640\" height=\"360\" src=\"//www.youtube.com/embed/4-O5NZKD3hI\" frameborder=\"0\" allowfullscreen></iframe>"
     ]
    },
    {
     "cell_type": "markdown",
     "metadata": {},
     "source": [
      "Una vez m\u00e1s, participar en la PyConAr fue una gran experiencia, no s\u00f3lo desde el punto de vista t\u00e9cnico, sino tambi\u00e9n, y m\u00e1s importante a\u00fan, desde el punto de vista humano.\n",
      "\n",
      "A\u00fan resta saber d\u00f3nde ser\u00e1 la pr\u00f3xima edici\u00f3n.\n",
      "\n",
      "\u00a1All\u00ed estaremos!\n",
      "\n",
      "Dami\u00e1n"
     ]
    }
   ],
   "metadata": {}
  }
 ]
}