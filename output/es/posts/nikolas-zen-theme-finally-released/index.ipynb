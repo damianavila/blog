{
 "cells": [
  {
   "cell_type": "markdown",
   "metadata": {},
   "source": [
    "Just a quick update... Some weeks ago I [blogged](../posts/a-new-nikolas-theme-for-my-site-zen.html) about my new **Nikola**'s theme family called **Zen**. In fact, you are seeing the `zen-ipython` theme powering my blog right now.\n",
    "\n",
    "I have used them for several days without any remarkable issue, so I decided to release them at the **Nikola**'s [theme repository](https://github.com/getnikola/nikola-themes).\n",
    "\n",
    "There, you will see three **Zen** themes:\n",
    "\n",
    "* `zen`, based in *mako* templates\n",
    "* `zen-jinja`, the same *zen* theme but based (obviously) in *jinja* templates\n",
    "* `zen-ipython`, a *jinja*-based *zen* theme suited to be used with the IPython notebooks.\n",
    "<!-- TEASER_END -->\n",
    "\n",
    "As you know, you can easily install them using the following command inside your **Nikola** site folder:\n",
    "\n",
    "`nikola install_theme zen` \n",
    "\n",
    "(or `zen-jinja`... or `zen-ipython`, or whatever theme available at http://themes.getnikola.com/). \n",
    "\n",
    "I have developed the **Zen** theme family with a *high customization* concept in my mind... but this approach has a cost because you need to use a *proper* `conf.py` file to run them ok (the default one will not work, but you can find a working example looking at my blog `conf.py` [file](https://github.com/damianavila/damian_blog/blob/master/conf.py).\n",
    "\n",
    "OK, it's all for this post. \n",
    "\n",
    "Enjoy the **Zen** themes and, as usually, report me any problem...\n",
    "\n",
    "Damián"
   ]
  }
 ],
 "metadata": {
  "kernelspec": {
   "display_name": "Python 3",
   "language": "python",
   "name": "python3"
  },
  "language_info": {
   "codemirror_mode": {
    "name": "ipython",
    "version": 3
   },
   "file_extension": ".py",
   "mimetype": "text/x-python",
   "name": "python",
   "nbconvert_exporter": "python",
   "pygments_lexer": "ipython3",
   "version": "3.6.8"
  }
 },
 "nbformat": 4,
 "nbformat_minor": 1
}
