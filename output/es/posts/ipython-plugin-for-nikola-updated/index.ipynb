{
 "metadata": {
  "name": ""
 },
 "nbformat": 3,
 "nbformat_minor": 0,
 "worksheets": [
  {
   "cells": [
    {
     "cell_type": "markdown",
     "metadata": {},
     "source": [
      "**I am pleased to announce the new version of the IPython plugin for Nikola.**\n",
      "\n",
      "This new version has been incorporated into Nikola master a few weeks ago, so it is now available in the last release of **Nikola, 5.5.1.**\n",
      "\n",
      "Now that **IPython** has achieved the **1.0 release**, and with the incorporation of nbconvert as a part of the IPython machinery, the IPython plugin no longer needs to use a customized version of the old nbconvert, instead it is now using the the power of the new **IPython.nbconvert** infrastructure to export the ipynb files to HTML pieces to be rendered by **Nikola**.\n",
      "\n",
      "With the simplification of the infrastructure, it is now easier to setup your blog to use the plugin following this five steps:\n",
      "<!-- TEASER_END -->\n",
      "\n",
      "**Note**: I will explain from the ground, you probably can skip some steps if you are an **IPython** and **Nikola** user...\n",
      "\n",
      "1. **Install** (you can do it using `pip install` inside a virtualenv):\n",
      "  * IPython 1.0 (also pyzmq, tornado and jinja2, as notebook dependencies)\n",
      "  * Nikola 5.5.1\n",
      "  * Requests\n",
      "  * Sphinx\n",
      " \n",
      "2. **Init** your site:\n",
      "  * `nikola init your_blog`\n",
      "  * cd in your_blog\n",
      " \n",
      "3. **Download** the **IPython** theme:\n",
      "  * `nikola install_theme -l` to list all the available themes in Nikola\n",
      "  * `nikola install_theme jinja-site-ipython` or any theme with the `ipython` word in their names ie, you have a `xkcd-site-ipython` theme if you want a **xkcd sytling** for your blog ;-).\n",
      "\n",
      "**Note**: Beware of the available sub_themes because probably you will need some css adjustments to use it. You can also write your custom theme if you want ;-).\n",
      "\n",
      "4. **Modify** your `conf.py` file:\n",
      "  * add the following lines to your post_pages:\n",
      "  \n",
      "      `(\"posts/*.ipynb\", \"posts\", \"post.tmpl\", True),`\n",
      "      `(\"stories/*.ipynb\", \"stories\", \"story.tmpl\", False),`\n",
      "  * and make explicit to use the IPython theme:\n",
      "  \n",
      "      `THEME = 'jinja-site-ipython'`\n",
      "\n",
      "**Note**: You have to do all this four steps just once, then you will only do step 5 for writing your post.\n",
      "\n",
      "5. **Finally**:\n",
      "  * To write a new post, just: `nikola new_post -f ipynb` (you can avoid `-f ipynb` if you have only ipynb references in your post_pages).\n",
      "  * Then, `nikola build` to build the site and `nikola serve` to see it.\n",
      " \n",
      "Easier, don't you think?\n",
      "\n",
      "Ok, if you need any help or find any bug, just let us known open an issue on github or blame on me here ;-)\n",
      "\n",
      "Cheers.\n",
      "\n",
      "Dami\u00e1n"
     ]
    }
   ],
   "metadata": {}
  }
 ]
}