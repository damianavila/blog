{
 "metadata": {
  "name": ""
 },
 "nbformat": 3,
 "nbformat_minor": 0,
 "worksheets": [
  {
   "cells": [
    {
     "cell_type": "markdown",
     "metadata": {},
     "source": [
      "Do you want to **easily** deploy your site to Github pages?\n",
      "\n",
      "OK, here we go...\n",
      "\n",
      "1. You have to upload your complete blog/site to a new Github repository (you know how to do it... if not, probably you need to learn some things before try this one, hehe). As a plus, now your blog/site is version-controlled!\n",
      "\n",
      "2. Almost for sure, your site/blog lives in the master branch of the new repository, but you need to generated a `gh-pages` branch to push your `build` or `output` folder, I mean your site/blog content to deploy... not all the machinery of your site/blog platform (**Nikola** in my case):\n",
      "<!-- TEASER_END -->\n",
      "\n",
      "  * `git checkout -b gh-pages`\n",
      "  * `git rm -rf .`\n",
      "  * `git commit -am \"First commit to gh-pages branch\"`\n",
      "  * `git push origin gh-pages`\n",
      "\n",
      "3. Now, we will use a **git-subtree** technique to push the `build` or `output` content to the `gh-pages` branch:\n",
      "\n",
      "  * `git checkout master`\n",
      "  * ```git push origin `git subtree split --prefix output gh-pages`:gh-pages --force```\n",
      "    \n",
      "    **Sweet** line... uhh ;-) \n",
      "\n",
      "4. Finally, you will need to run the following line every time you want to update your site/blog!\n",
      "\n",
      "  * `git subtree push --prefix output origin gh-pages`\n",
      "\n",
      "**Note**: Are you getting `git` errors? Just use the **sweet** line again and *force* the update...  \n",
      "\n",
      "If you are using **Nikola**, you can add some of this lines to the `DEPLOY_COMMANDS` in your conf.py file and just run `nikola deploy` after building your site/blog.\n",
      "\n",
      "More easier... impossible... ;-)\n",
      "\n",
      "Dami\u00e1n.\n",
      "\n",
      "**UPDATE**: Not enough happy with step 3 and 4 (essentially because of some `git` errors), I figured out a cleaner solution:\n",
      "\n",
      "New 3. Now, we will use a **git-subtree** technique to push the `build` or `output` content to the `gh-pages` branch. You will need to run the following lines every time you want to update your site/blog!\n",
      "\n",
      "  * `git checkout master` # you can avoid this line if you are in master...\n",
      "  * `git subtree split --prefix output -b gh-pages` # create a local gh-pages branch containing the splitted output folder\n",
      "  * `git push -f origin gh-pages:gh-pages` # force the push of the gh-pages branch to the remote gh-pages branch at origin\n",
      "  * `git branch -D gh-pages` #  delete the local gh-pages because you will need it: [ref](https://github.com/git/git/blob/master/contrib/subtree/git-subtree.txt#L203)"
     ]
    }
   ],
   "metadata": {}
  }
 ]
}