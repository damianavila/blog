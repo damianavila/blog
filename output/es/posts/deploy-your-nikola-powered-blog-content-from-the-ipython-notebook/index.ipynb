{
 "cells": [
  {
   "cell_type": "markdown",
   "metadata": {},
   "source": [
    "Following the idea to release all the extensions I had working on in the last few weeks/months, today I will release an old but very useful **IPython** notebook extension for people blogging with **Nikola**: the *nikola_deploy* extension.\n",
    "<!-- TEASER_END -->\n",
    "\n",
    "Yes, I am always very original picking the names of the extensions ;-). A pic to illustrate the extension button at the toolbar:\n",
    "\n",
    "![](../galleries/deploy/1.png)\n",
    "\n",
    ">**Note**: Nikola supports the ipynb file as an input... and using the IPython.nbconvert machinery it is able to render the static HTML representation of your ipynbs inside the complete infrastructure of a powerful static site engine.\n",
    "\n",
    "First, to know some things about my blogging workflow using **IPython**, **Nikola**, **git** and **gh-pages**, I suggest you to re-read these previous posts:\n",
    "\n",
    "* [Bidirectional IPython-Nikola workflow to write your blog post](../posts/bidirectional-ipython-nikola-workflow-to-write-your-blog-post.html)\n",
    "* [One line deployment of your site to gh-pages](../posts/one-line-deployment-of-your-site-to-gh-pages.html)\n",
    "\n",
    "OK, coming back to the extension, the idea behind this one is very simple: I will call the `nikola deploy` command from inside the **IPython** notebook using our beloved `IPython.notebook.kernel.execute` method, and also taking the advantage of *passing* commands to the underlying system just pre-pending with the `!` mark. The relevant lines are below:\n",
    "\n",
    "```javascript\n",
    "36\t  if (clean==\"True\") {\n",
    "37\t    IPython.notebook.kernel.execute('!nikola clean');\n",
    "38\t  }\n",
    "39\t  IPython.notebook.kernel.execute('!nikola build');\n",
    "40\t  IPython.notebook.kernel.execute('!nikola deploy');\n",
    "```\n",
    "\n",
    "After writing the content of my post following the workflow explained in previous posts, I just click on the *nikola_deploy* extension button and the site is *cleaned* (if you choose this option to True in the config file, please set it to False if you want a quick building), *built* and *deployed* **automagically** ;-)\n",
    "\n",
    "And that's all... the complete code below:"
   ]
  },
  {
   "cell_type": "code",
   "execution_count": 1,
   "metadata": {},
   "outputs": [
    {
     "name": "stdout",
     "output_type": "stream",
     "text": [
      "     1\t/*\r\n",
      "     2\t* ----------------------------------------------------------------------------\r\n",
      "     3\t* Copyright (c) 2013 - Damián Avila\r\n",
      "     4\t*\r\n",
      "     5\t* Distributed under the terms of the Modified BSD License.\r\n",
      "     6\t*\r\n",
      "     7\t* A little extension to deploy a nikola site/blog from the IPython notebook.\r\n",
      "     8\t* -----------------------------------------------------------------------------\r\n",
      "     9\t*/\r\n",
      "    10\t\r\n",
      "    11\tfunction messager() {\r\n",
      "    12\t  var message = $('<div/>').append(\r\n",
      "    13\t                  $(\"<p/></p>\").addClass('dialog').html(\r\n",
      "    14\t                    \"Your ipynb-based site/blog post is being deployed now...\"\r\n",
      "    15\t                    )\r\n",
      "    16\t                ).append(\r\n",
      "    17\t                  $(\"<p/></p>\").addClass('dialog').html(\r\n",
      "    18\t                    \"We clean (configurable), build and deploy your Nikola \" +\r\n",
      "    19\t                    \"site/blog for you!\"\r\n",
      "    20\t                    )\r\n",
      "    21\t                );\r\n",
      "    22\t\r\n",
      "    23\t  IPython.dialog.modal({\r\n",
      "    24\t    title : \"Nikola deployment\",\r\n",
      "    25\t    body : message,\r\n",
      "    26\t    buttons : {\r\n",
      "    27\t        OK : {class: \"btn-danger\"}\r\n",
      "    28\t    }\r\n",
      "    29\t  });\r\n",
      "    30\t\r\n",
      "    31\t}\r\n",
      "    32\t\r\n",
      "    33\tfunction nikolaDeploy(path, clean) {\r\n",
      "    34\t  IPython.notebook.kernel.execute('%bookmark root');\r\n",
      "    35\t  IPython.notebook.kernel.execute('%cd ' + path);\r\n",
      "    36\t  if (clean==\"True\") {\r\n",
      "    37\t    IPython.notebook.kernel.execute('!nikola clean');\r\n",
      "    38\t  }\r\n",
      "    39\t  IPython.notebook.kernel.execute('!nikola build');\r\n",
      "    40\t  IPython.notebook.kernel.execute('!nikola deploy');\r\n",
      "    41\t  IPython.notebook.kernel.execute('%cd -b root');\r\n",
      "    42\t  messager();\r\n",
      "    43\t}\r\n",
      "    44\t\r\n",
      "    45\tdefine(function() {\r\n",
      "    46\t  return {\r\n",
      "    47\t    parameters: function setup(param1, param2) {\r\n",
      "    48\t      IPython.toolbar.add_buttons_group([\r\n",
      "    49\t        {\r\n",
      "    50\t        'label'   : 'Deploy Nikola site/blog',\r\n",
      "    51\t        'icon'    : 'icon-upload-alt',\r\n",
      "    52\t        'callback': function(){nikolaDeploy(param1, param2)},\r\n",
      "    53\t        'id'      : 'start_nikola_deploy'\r\n",
      "    54\t        },\r\n",
      "    55\t      ])\r\n",
      "    56\t    }\r\n",
      "    57\t  }\r\n",
      "    58\t});\r\n"
     ]
    }
   ],
   "source": [
    "cat -n /media/datos/Desarrollos/mIPyex/custom/nikola_deploy/main.js"
   ]
  },
  {
   "cell_type": "markdown",
   "metadata": {},
   "source": [
    "Again, the extension lives in this new repo: [mIPyex](https://github.com/damianavila/mIPyex), where I will upload the development versions of my own extensions. When I get them enough stable, I will make a copy of them in the [IPython notebook extensions](https://github.com/ipython-contrib/IPython-notebook-extensions) repo where you can get a lot of and useful interesting extensions.\n",
    "\n",
    "OK, as you can see... it is very simple to blog with **IPython** and **Nikola**, so I invite you to try it *now* and let me know any ideas, comments or critics.\n",
    "\n",
    "Enjoy!\n",
    "\n",
    "Damián"
   ]
  }
 ],
 "metadata": {
  "kernelspec": {
   "display_name": "Python 3",
   "language": "python",
   "name": "python3"
  },
  "language_info": {
   "codemirror_mode": {
    "name": "ipython",
    "version": 3
   },
   "file_extension": ".py",
   "mimetype": "text/x-python",
   "name": "python",
   "nbconvert_exporter": "python",
   "pygments_lexer": "ipython3",
   "version": "3.6.8"
  }
 },
 "nbformat": 4,
 "nbformat_minor": 1
}
