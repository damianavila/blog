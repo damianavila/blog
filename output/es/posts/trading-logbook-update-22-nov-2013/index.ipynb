{
 "cells": [
  {
   "cell_type": "markdown",
   "metadata": {},
   "source": [
    "OK, logging my trades in the **forex** market, as I promised in the last post.\n",
    "\n",
    "FYI, I am a daily trader, so you will see me holding positions over several days.\n",
    "Last week, I performed some *real account trades* accordingly to my models, opening positions at several currencies pairs. You can see the detailed information in the table below:\n",
    "<!-- TEASER_END -->\n",
    "\n",
    "Ticket      |Date                   |Transaction    |Currency Pair|    Price|Relative Balance\n",
    "------------|-----------------------|---------------|-----------|-----------|----------------\n",
    "1362844650 \t|2013-11-20 23:00:22 \t|Close Trade \t|USD/CHF \t|0.91738 \t|1.08\n",
    "1362844642 \t|2013-11-20 23:00:16 \t|Close Trade \t|EUR/CHF \t|1.23149 \t|1.05\n",
    "1360865177 \t|2013-11-19 01:04:03 \t|Sell Market \t|AUD/USD \t|0.93788 \t|1.05\n",
    "1360865168 \t|2013-11-19 01:03:59 \t|Close Trade \t|NZD/USD \t|0.83213 \t|1.05\n",
    "1360033467 \t|2013-11-18 02:06:02 \t|Buy Market \t|EUR/CHF \t|1.23416 \t|1.03\n",
    "1360033461 \t|2013-11-18 02:05:58 \t|Buy Market \t|USD/CHF \t|0.91494 \t|1.03\n",
    "1360032042 \t|2013-11-18 02:00:11 \t|Buy Market \t|AUD/USD \t|0.93982 \t|1.03\n",
    "1360032001 \t|2013-11-18 02:00:06 \t|Sell Market \t|NZD/USD \t|0.83540 \t|1.04\n",
    "1356809252 \t|2013-11-13 21:27:53 \t|Sell Market \t|AUD/USD \t|0.93724 \t|1.04\n",
    "1356809209 \t|2013-11-13 21:27:47 \t|Sell Market \t|GBP/AUD \t|1.71226 \t|1.04\n",
    "\n",
    "As you can see, I have yet some open positions because I am waiting to see how these positions evolve over the next week and, obviously, because my models do not signal me to close these trades... yet ;-)\n",
    "\n",
    "As a plus, I have added a new column to the table containing my *Relative Balance* (because it is not probably a good idea that you know my current balance), and after this week, we have an overall net profit of **8%**. You have to take into account that I have set up this account to trade at a high risk profile... so *understand this net profit in terms of this high risk*.\n",
    "\n",
    "Finally, I have also decided to **live tweet** the trades from this account, so if you follow me on [twitter](https://twitter.com/damian_avila), you will see these trades on real time, or you can wait to the Fridays when I will post another sheet of this sort of logbook.\n",
    "\n",
    "Good weekend!\n",
    "\n",
    "Damián."
   ]
  }
 ],
 "metadata": {
  "kernelspec": {
   "display_name": "Python 3",
   "language": "python",
   "name": "python3"
  },
  "language_info": {
   "codemirror_mode": {
    "name": "ipython",
    "version": 3
   },
   "file_extension": ".py",
   "mimetype": "text/x-python",
   "name": "python",
   "nbconvert_exporter": "python",
   "pygments_lexer": "ipython3",
   "version": "3.6.1"
  }
 },
 "nbformat": 4,
 "nbformat_minor": 1
}
