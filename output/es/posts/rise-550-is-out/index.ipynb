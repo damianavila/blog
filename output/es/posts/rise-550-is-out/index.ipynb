{
 "cells": [
  {
   "cell_type": "markdown",
   "metadata": {},
   "source": [
    "We're pleased to announce the release of **RISE** 5.5.0!\n",
    "\n",
    "### *What is RISE?*\n",
    "\n",
    "**RISE** lets you show your **Jupyter** notebook rendered as an **executable** `Reveal.js`-based slideshow.\n",
    "\n",
    "It is your very same notebook but in a *slidy* way!\n",
    "<!-- TEASER_END -->\n",
    "\n",
    "### *How you can get it?*\n",
    "\n",
    "If you are a **conda/anaconda** user, you can install it with `conda install -c conda-forge rise`.\n",
    "\n",
    "If you are a **pip** user, you can install it with `pip install rise`.\n",
    "\n",
    "> Starting from this release, `pip install rise` will install everything you need, no more additional steps such as `jupyter nbextension install`.\n",
    "\n",
    "For further information about the installation process, please check https://rise.readthedocs.io/en/stable/installation.html.\n",
    "\n",
    "### *What are the latest news?*\n",
    "\n",
    "This released was mainly focused on:\n",
    "\n",
    "* support nbextension installation straight from `setup.py` \n",
    "* fix versioning issues and support compatible versions for npm and python\n",
    "* documentation updates (chalkboard and speaker notes) and some other documentation fixes\n",
    "* improvements on keyboard shortcuts and fixes for the \"auto-select\" feature\n",
    "* and more!!!\n",
    "\n",
    "You can see a detailed changelog at https://rise.readthedocs.io/en/stable/changelog.html#changes.\n",
    "\n",
    "Please report any issues at https://github.com/damianavila/RISE/issues\n",
    "\n",
    "Finally, we **really** hope you continue enjoying the **RISE** experience!"
   ]
  }
 ],
 "metadata": {
  "kernelspec": {
   "display_name": "Python 3",
   "language": "python",
   "name": "python3"
  },
  "language_info": {
   "codemirror_mode": {
    "name": "ipython",
    "version": 3
   },
   "file_extension": ".py",
   "mimetype": "text/x-python",
   "name": "python",
   "nbconvert_exporter": "python",
   "pygments_lexer": "ipython3",
   "version": "3.6.8"
  },
  "nikola": {
   "category": "",
   "date": "2019-04-27 13:39:26 UTC-03:00",
   "description": "",
   "link": "",
   "slug": "rise-550-is-out",
   "tags": "conda, Jupyter, linux, osx, pip, python, reveal, RISE, slideshow, win",
   "title": "RISE 5.5.0 is out!",
   "type": "text"
  }
 },
 "nbformat": 4,
 "nbformat_minor": 2
}
