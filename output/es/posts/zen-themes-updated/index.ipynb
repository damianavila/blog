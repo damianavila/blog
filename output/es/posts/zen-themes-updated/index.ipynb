{
 "metadata": {
  "name": "",
  "signature": "sha256:b953effc014b5da357eaabb604a9f5a20eeb99f0b74fb48f4521e24421e91606"
 },
 "nbformat": 3,
 "nbformat_minor": 0,
 "worksheets": [
  {
   "cells": [
    {
     "cell_type": "markdown",
     "metadata": {},
     "source": [
      "OK, time to recap some things... As you know, [**Nikola**](http://getnikola.com/) 7.0.0 was released some weeks ago. It has a lot of improvements, bug fixes and new features. I recommend you to download and try it!\n",
      "As part of the release, we paid attention to update all the plugins and themes inside the **Nikola Github organization** (don't forget you can contribute with your own [plugins](https://github.com/getnikola/plugins) and [themes](https://github.com/getnikola/nikola-themes)!). So, I updated my own themes, in particular, the **Zen** ones.\n",
      "<!-- TEASER_END -->\n",
      "\n",
      "As you also now, **IPython 2.x** was released just some weeks ago too. So, I took into account this two releases and updated the **Zen** themes to be compatible with both of them.\n",
      "As a consequence of the update, the `zen-ipython` theme has change a little bit, some bugs were fixed and some features enabled. You can probably has noticed that if you visit my blog in the last two weeks. If you did not notice, first, buy some glasses ;-), and then, take a tour, visit some of my old posts (there are interesting new comments every week) and enjoy the new theme.\n",
      "\n",
      "And... don't forget! You can get the **Zen** themes very easily. First, to list all the available themes at the **Nikola** themes repo:"
     ]
    },
    {
     "cell_type": "code",
     "collapsed": false,
     "input": [
      "!nikola install_theme -l"
     ],
     "language": "python",
     "metadata": {},
     "outputs": [
      {
       "output_type": "stream",
       "stream": "stdout",
       "text": [
        "Themes:\r\n",
        "-------\r\n",
        "blogtxt\r\n",
        "bootstrap3-gradients\r\n",
        "bootstrap3-gradients-jinja\r\n",
        "ipython\r\n",
        "ipython-xkcd\r\n",
        "monospace\r\n",
        "oldfashioned\r\n",
        "planetoid\r\n",
        "readable\r\n",
        "reveal\r\n",
        "reveal-jinja\r\n",
        "zen\r\n",
        "zen-ipython\r\n",
        "zen-jinja\r\n"
       ]
      },
      {
       "output_type": "stream",
       "stream": "stdout",
       "text": [
        "\u001b[0m"
       ]
      }
     ],
     "prompt_number": 1
    },
    {
     "cell_type": "markdown",
     "metadata": {},
     "source": [
      "Of course, don't use the `!` at the beginning of the line if you are outside **IPython**. \n",
      "\n",
      "To install one of them, just write:"
     ]
    },
    {
     "cell_type": "code",
     "collapsed": false,
     "input": [
      "!nikola install_theme zen-ipython"
     ],
     "language": "python",
     "metadata": {},
     "outputs": [
      {
       "output_type": "stream",
       "stream": "stdout",
       "text": [
        "\u001b[33;01m[2014-05-30T18:28:23Z] WARNING: Nikola: Cannot load theme \"zen-ipython\", using 'bootstrap' instead.\r\n",
        "\u001b[39;49;00m"
       ]
      },
      {
       "output_type": "stream",
       "stream": "stdout",
       "text": [
        "\u001b[37m[2014-05-30T18:28:24Z] INFO: install_theme: Downloading: http://themes.getnikola.com/v7/zen-ipython.zip\r\n",
        "\u001b[39;49;00m"
       ]
      },
      {
       "output_type": "stream",
       "stream": "stdout",
       "text": [
        "\u001b[37m[2014-05-30T18:28:24Z] INFO: install_theme: Extracting: zen-ipython into themes\r\n",
        "\u001b[39;49;00m\u001b[33;01m[2014-05-30T18:28:24Z] NOTICE: install_theme: This theme has a sample config file.  Integrate it with yours in order to make this theme work!\r\n",
        "\u001b[39;49;00mContents of the conf.py.sample file:\r\n",
        "\r\n"
       ]
      },
      {
       "output_type": "stream",
       "stream": "stdout",
       "text": [
        "    NAVIGATION_LINKS\u001b[39;49;00m \u001b[39;49;00m=\u001b[39;49;00m \u001b[39;49;00m{\u001b[39;49;00m\r\n",
        "        \u001b[39;49;00mDEFAULT_LANG\u001b[39;49;00m:\u001b[39;49;00m \u001b[39;49;00m(\u001b[39;49;00m\r\n",
        "            \u001b[39;49;00m(\u001b[39;49;00m\u001b[33m'\u001b[39;49;00m\u001b[33m/index.html\u001b[39;49;00m\u001b[33m'\u001b[39;49;00m,\u001b[39;49;00m \u001b[39;49;00m\u001b[33m'\u001b[39;49;00m\u001b[33mHome\u001b[39;49;00m\u001b[33m'\u001b[39;49;00m,\u001b[39;49;00m \u001b[39;49;00m\u001b[33m'\u001b[39;49;00m\u001b[33micon-home\u001b[39;49;00m\u001b[33m'\u001b[39;49;00m)\u001b[39;49;00m,\u001b[39;49;00m\r\n",
        "            \u001b[39;49;00m(\u001b[39;49;00m\u001b[33m'\u001b[39;49;00m\u001b[33m/archive.html\u001b[39;49;00m\u001b[33m'\u001b[39;49;00m,\u001b[39;49;00m \u001b[39;49;00m\u001b[33m'\u001b[39;49;00m\u001b[33mArchives\u001b[39;49;00m\u001b[33m'\u001b[39;49;00m,\u001b[39;49;00m \u001b[39;49;00m\u001b[33m'\u001b[39;49;00m\u001b[33micon-folder-open-alt\u001b[39;49;00m\u001b[33m'\u001b[39;49;00m)\u001b[39;49;00m,\u001b[39;49;00m\r\n",
        "            \u001b[39;49;00m(\u001b[39;49;00m\u001b[33m'\u001b[39;49;00m\u001b[33m/categories/index.html\u001b[39;49;00m\u001b[33m'\u001b[39;49;00m,\u001b[39;49;00m \u001b[39;49;00m\u001b[33m'\u001b[39;49;00m\u001b[33mTags\u001b[39;49;00m\u001b[33m'\u001b[39;49;00m,\u001b[39;49;00m \u001b[39;49;00m\u001b[33m'\u001b[39;49;00m\u001b[33micon-tags\u001b[39;49;00m\u001b[33m'\u001b[39;49;00m)\u001b[39;49;00m,\u001b[39;49;00m\r\n",
        "            \u001b[39;49;00m(\u001b[39;49;00m\u001b[33m'\u001b[39;49;00m\u001b[33m/rss.xml\u001b[39;49;00m\u001b[33m'\u001b[39;49;00m,\u001b[39;49;00m \u001b[39;49;00m\u001b[33m'\u001b[39;49;00m\u001b[33mRSS\u001b[39;49;00m\u001b[33m'\u001b[39;49;00m,\u001b[39;49;00m \u001b[39;49;00m\u001b[33m'\u001b[39;49;00m\u001b[33micon-rss\u001b[39;49;00m\u001b[33m'\u001b[39;49;00m)\u001b[39;49;00m,\u001b[39;49;00m\r\n",
        "            \u001b[39;49;00m(\u001b[39;49;00m\u001b[33m'\u001b[39;49;00m\u001b[33mhttp://getnikola.com\u001b[39;49;00m\u001b[33m'\u001b[39;49;00m,\u001b[39;49;00m \u001b[39;49;00m\u001b[33m'\u001b[39;49;00m\u001b[33mAbout me\u001b[39;49;00m\u001b[33m'\u001b[39;49;00m,\u001b[39;49;00m \u001b[39;49;00m\u001b[33m'\u001b[39;49;00m\u001b[33micon-user\u001b[39;49;00m\u001b[33m'\u001b[39;49;00m)\u001b[39;49;00m,\u001b[39;49;00m\r\n",
        "            \u001b[39;49;00m(\u001b[39;49;00m\u001b[33m'\u001b[39;49;00m\u001b[33mhttps://twitter.com/getnikola\u001b[39;49;00m\u001b[33m'\u001b[39;49;00m,\u001b[39;49;00m \u001b[39;49;00m\u001b[33m'\u001b[39;49;00m\u001b[33mMy Twitter\u001b[39;49;00m\u001b[33m'\u001b[39;49;00m,\u001b[39;49;00m \u001b[39;49;00m\u001b[33m'\u001b[39;49;00m\u001b[33micon-twitter\u001b[39;49;00m\u001b[33m'\u001b[39;49;00m)\u001b[39;49;00m,\u001b[39;49;00m\r\n",
        "            \u001b[39;49;00m(\u001b[39;49;00m\u001b[33m'\u001b[39;49;00m\u001b[33mhttps://github.com/getnikola\u001b[39;49;00m\u001b[33m'\u001b[39;49;00m,\u001b[39;49;00m \u001b[39;49;00m\u001b[33m'\u001b[39;49;00m\u001b[33mMy Github\u001b[39;49;00m\u001b[33m'\u001b[39;49;00m,\u001b[39;49;00m \u001b[39;49;00m\u001b[33m'\u001b[39;49;00m\u001b[33micon-github\u001b[39;49;00m\u001b[33m'\u001b[39;49;00m)\u001b[39;49;00m,\u001b[39;49;00m\r\n",
        "        \u001b[39;49;00m)\u001b[39;49;00m\r\n",
        "    }\u001b[39;49;00m\r\n",
        "\r\n",
        "\u001b[37m[2014-05-30T18:28:24Z] INFO: install_theme: Downloading: http://themes.getnikola.com/v7/zen-jinja.zip\r\n",
        "\u001b[39;49;00m"
       ]
      },
      {
       "output_type": "stream",
       "stream": "stdout",
       "text": [
        "\u001b[37m[2014-05-30T18:28:26Z] INFO: install_theme: Extracting: zen-jinja into themes\r\n",
        "\u001b[39;49;00m\u001b[33;01m[2014-05-30T18:28:26Z] NOTICE: install_theme: This theme has a sample config file.  Integrate it with yours in order to make this theme work!\r\n",
        "\u001b[39;49;00mContents of the conf.py.sample file:\r\n",
        "\r\n"
       ]
      },
      {
       "output_type": "stream",
       "stream": "stdout",
       "text": [
        "    NAVIGATION_LINKS\u001b[39;49;00m \u001b[39;49;00m=\u001b[39;49;00m \u001b[39;49;00m{\u001b[39;49;00m\r\n",
        "        \u001b[39;49;00mDEFAULT_LANG\u001b[39;49;00m:\u001b[39;49;00m \u001b[39;49;00m(\u001b[39;49;00m\r\n",
        "            \u001b[39;49;00m(\u001b[39;49;00m\u001b[33m'\u001b[39;49;00m\u001b[33m/index.html\u001b[39;49;00m\u001b[33m'\u001b[39;49;00m,\u001b[39;49;00m \u001b[39;49;00m\u001b[33m'\u001b[39;49;00m\u001b[33mHome\u001b[39;49;00m\u001b[33m'\u001b[39;49;00m,\u001b[39;49;00m \u001b[39;49;00m\u001b[33m'\u001b[39;49;00m\u001b[33micon-home\u001b[39;49;00m\u001b[33m'\u001b[39;49;00m)\u001b[39;49;00m,\u001b[39;49;00m\r\n",
        "            \u001b[39;49;00m(\u001b[39;49;00m\u001b[33m'\u001b[39;49;00m\u001b[33m/archive.html\u001b[39;49;00m\u001b[33m'\u001b[39;49;00m,\u001b[39;49;00m \u001b[39;49;00m\u001b[33m'\u001b[39;49;00m\u001b[33mArchives\u001b[39;49;00m\u001b[33m'\u001b[39;49;00m,\u001b[39;49;00m \u001b[39;49;00m\u001b[33m'\u001b[39;49;00m\u001b[33micon-folder-open-alt\u001b[39;49;00m\u001b[33m'\u001b[39;49;00m)\u001b[39;49;00m,\u001b[39;49;00m\r\n",
        "            \u001b[39;49;00m(\u001b[39;49;00m\u001b[33m'\u001b[39;49;00m\u001b[33m/categories/index.html\u001b[39;49;00m\u001b[33m'\u001b[39;49;00m,\u001b[39;49;00m \u001b[39;49;00m\u001b[33m'\u001b[39;49;00m\u001b[33mTags\u001b[39;49;00m\u001b[33m'\u001b[39;49;00m,\u001b[39;49;00m \u001b[39;49;00m\u001b[33m'\u001b[39;49;00m\u001b[33micon-tags\u001b[39;49;00m\u001b[33m'\u001b[39;49;00m)\u001b[39;49;00m,\u001b[39;49;00m\r\n",
        "            \u001b[39;49;00m(\u001b[39;49;00m\u001b[33m'\u001b[39;49;00m\u001b[33m/rss.xml\u001b[39;49;00m\u001b[33m'\u001b[39;49;00m,\u001b[39;49;00m \u001b[39;49;00m\u001b[33m'\u001b[39;49;00m\u001b[33mRSS\u001b[39;49;00m\u001b[33m'\u001b[39;49;00m,\u001b[39;49;00m \u001b[39;49;00m\u001b[33m'\u001b[39;49;00m\u001b[33micon-rss\u001b[39;49;00m\u001b[33m'\u001b[39;49;00m)\u001b[39;49;00m,\u001b[39;49;00m\r\n",
        "            \u001b[39;49;00m(\u001b[39;49;00m\u001b[33m'\u001b[39;49;00m\u001b[33mhttp://getnikola.com\u001b[39;49;00m\u001b[33m'\u001b[39;49;00m,\u001b[39;49;00m \u001b[39;49;00m\u001b[33m'\u001b[39;49;00m\u001b[33mAbout me\u001b[39;49;00m\u001b[33m'\u001b[39;49;00m,\u001b[39;49;00m \u001b[39;49;00m\u001b[33m'\u001b[39;49;00m\u001b[33micon-user\u001b[39;49;00m\u001b[33m'\u001b[39;49;00m)\u001b[39;49;00m,\u001b[39;49;00m\r\n",
        "            \u001b[39;49;00m(\u001b[39;49;00m\u001b[33m'\u001b[39;49;00m\u001b[33mhttps://twitter.com/getnikola\u001b[39;49;00m\u001b[33m'\u001b[39;49;00m,\u001b[39;49;00m \u001b[39;49;00m\u001b[33m'\u001b[39;49;00m\u001b[33mMy Twitter\u001b[39;49;00m\u001b[33m'\u001b[39;49;00m,\u001b[39;49;00m \u001b[39;49;00m\u001b[33m'\u001b[39;49;00m\u001b[33micon-twitter\u001b[39;49;00m\u001b[33m'\u001b[39;49;00m)\u001b[39;49;00m,\u001b[39;49;00m\r\n",
        "            \u001b[39;49;00m(\u001b[39;49;00m\u001b[33m'\u001b[39;49;00m\u001b[33mhttps://github.com/getnikola\u001b[39;49;00m\u001b[33m'\u001b[39;49;00m,\u001b[39;49;00m \u001b[39;49;00m\u001b[33m'\u001b[39;49;00m\u001b[33mMy Github\u001b[39;49;00m\u001b[33m'\u001b[39;49;00m,\u001b[39;49;00m \u001b[39;49;00m\u001b[33m'\u001b[39;49;00m\u001b[33micon-github\u001b[39;49;00m\u001b[33m'\u001b[39;49;00m)\u001b[39;49;00m,\u001b[39;49;00m\r\n",
        "        \u001b[39;49;00m)\u001b[39;49;00m\r\n",
        "    }\u001b[39;49;00m\r\n",
        "\r\n",
        "\u001b[33;01m[2014-05-30T18:28:26Z] NOTICE: install_theme: Remember to set THEME=\"zen-ipython\" in conf.py to use this theme.\r\n",
        "\u001b[39;49;00m"
       ]
      },
      {
       "output_type": "stream",
       "stream": "stdout",
       "text": [
        "\u001b[0m"
       ]
      }
     ],
     "prompt_number": 2
    },
    {
     "cell_type": "markdown",
     "metadata": {},
     "source": [
      "and your theme will be available at the themes folder in your site.\n",
      "\n",
      "OK, short post for today, more coming soon.\n",
      "\n",
      "Dami\u00e1n."
     ]
    }
   ],
   "metadata": {}
  }
 ]
}