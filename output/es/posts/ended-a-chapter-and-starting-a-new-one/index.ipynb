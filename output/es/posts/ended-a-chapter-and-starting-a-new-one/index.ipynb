{
 "cells": [
  {
   "cell_type": "markdown",
   "id": "4efc12b3",
   "metadata": {},
   "source": [
    "A long time without writing any stuff, I know...\n",
    "\n",
    "But here you have me, again, writing a few lines from the top of my head.\n",
    "\n",
    "And this time to let you know about some personal updates.\n",
    "\n",
    "<!-- TEASER_END -->"
   ]
  },
  {
   "cell_type": "markdown",
   "id": "829ddf2e-c3e8-484d-9dae-09fcd567426c",
   "metadata": {},
   "source": [
    "I joined [2i2c](https://2i2c.org/) on April 2021 after experiencing successful and enriching chapters in company-like and university-like environments. **2i2c** is a non-for-profit organization with the [mission](https://2i2c.org/mission/) to make research and education more impactful, accessible, and delightful by developing, operating, and supporting infrastructure for interactive computing. I started as an **OSIE** (Open Source Infrastructure Engineer) and eventually became an **Engineering Manager** for the Engineering team.\n",
    "\n",
    "During all these years at **2i2c**, I had the opportunity to build super impactful stuff, side-by-side, with [**AWESOME** people](https://2i2c.org/organization/).\n",
    "And I really appreciate and enjoyed that opportunity.\n",
    "But some months ago, and after a lot of thinking, I realized I needed some real **break**/**resting** time to re-align myself, think about the future, and potentially **explore** new worlds.\n",
    "And without a clear cut that would have been impossible, so I decided to leave **2i2c** by the end of August.\n",
    "\n",
    "It was emotionally demanding not only because of all the **great connections** I have with the **2i2c** team members, some of them even older than the organization itself, but also because I believe in the impactfulness of (and I care about) **2i2c**'s mission.\n",
    "But after the initial impact, a nice holiday on the beach, a lot of time with **my family** and a lot of time with **myself** (and out of the daily \"voragine\"), I am now feeling invigorated and excited about the idea of new challenges lying ahead.\n",
    "\n",
    "This is actually the first time in years I do not have something lined up before departing from the organization I was part of.\n",
    "That was a **conscientious decision** so I could explore different ideas, concepts, and potential new paths before choosing what the new chapter was gonna be about.\n",
    "\n",
    "I am still **exploring** the broad space (although I do think that exploration phase is sunsetting), so if you have some interesting ideas/problems/challenges (there is a lot of new and exciting stuff being built out there!) and you believe my [knowledge and expertise](https://www.linkedin.com/in/damian-avila/) can help you to push forward those ones, you can reach me at `damianavila AT gmail DOT com` (or you can also drop me a DM on [X](https://x.com/damian_avila) or [Telegram](https://t.me/damian_avila) or [LinkedIn](https://www.linkedin.com/in/damian-avila/)). \n",
    "\n",
    "Thanks for the precious time you spent reading my words!"
   ]
  },
  {
   "cell_type": "markdown",
   "id": "642b7f58-9e78-4b3e-a08d-e9b55fd333eb",
   "metadata": {},
   "source": [
    "PS: My current short term plan is to keep pushing on some personal projects I am actively working on (in addition to finishing the exploration phase) but I am open to start doing **super interesting things** if the **right opportunity** arises ;-)"
   ]
  }
 ],
 "metadata": {
  "kernelspec": {
   "display_name": "Python 3 (ipykernel)",
   "language": "python",
   "name": "python3"
  },
  "language_info": {
   "codemirror_mode": {
    "name": "ipython",
    "version": 3
   },
   "file_extension": ".py",
   "mimetype": "text/x-python",
   "name": "python",
   "nbconvert_exporter": "python",
   "pygments_lexer": "ipython3",
   "version": "3.13.0"
  },
  "nikola": {
   "category": "",
   "date": "2024-11-11 20:01:16 UTC-03:00",
   "description": "",
   "link": "",
   "slug": "ended-a-chapter-and-starting-a-new-one",
   "tags": "life, 2i2c, Jupyter, opensource",
   "title": "Ended a chapter... and starting a new one?",
   "type": "text"
  }
 },
 "nbformat": 4,
 "nbformat_minor": 5
}
