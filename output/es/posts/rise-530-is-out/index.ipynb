{
 "cells": [
  {
   "cell_type": "markdown",
   "metadata": {},
   "source": [
    "We're pleased to announce the release of **RISE** 5.3.0!\n",
    "\n",
    "**RISE** lets you show your **Jupyter** notebook rendered as an **executable** `Reveal.js`-based slideshow. It is your very same notebook but in a *slidy* way!\n",
    "<!-- TEASER_END -->\n",
    "\n",
    "*How you can get it?*\n",
    "\n",
    "If you are a **conda/anaconda** user, you can install it with `conda install -c damianavila82 rise`.\n",
    "\n",
    "For further information about other installations procedures, please check http://rise.readthedocs.io/en/stable/installation.html.\n",
    "\n",
    "*What are the new goodies?*\n",
    "\n",
    "This released was mainly focused on a general documentation review, fixes and improvements (now we have the docs deployed with readthedocs), a general `setup.py` review, simplification and improvement, **RISE** compliance with the `nbextensions_configurator` project, and auto enabling behavior when installing with pip, plus some other specific bugfixes and enhancements.\n",
    "\n",
    "You can see a detailed changelog at http://rise.readthedocs.io/en/stable/changelog.html#changes\n",
    "\n",
    "Please report any issues at https://github.com/damianavila/RISE/issues\n",
    "\n",
    "And we really hope you enjoy the RISE experience!"
   ]
  }
 ],
 "metadata": {
  "kernelspec": {
   "display_name": "Python 3",
   "language": "python",
   "name": "python3"
  },
  "language_info": {
   "codemirror_mode": {
    "name": "ipython",
    "version": 3
   },
   "file_extension": ".py",
   "mimetype": "text/x-python",
   "name": "python",
   "nbconvert_exporter": "python",
   "pygments_lexer": "ipython3",
   "version": "3.6.3"
  },
  "nikola": {
   "category": "",
   "date": "2018-05-28 14:43:15 UTC-03:00",
   "description": "",
   "link": "",
   "slug": "rise-530-is-out",
   "tags": "python, Jupyter, linux, osx, win, conda, pip, reveal, RISE, slideshow",
   "title": "RISE 5.3.0 is out!",
   "type": "text"
  }
 },
 "nbformat": 4,
 "nbformat_minor": 2
}
