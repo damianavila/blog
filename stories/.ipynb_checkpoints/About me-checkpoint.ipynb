{
 "cells": [
  {
   "cell_type": "code",
   "execution_count": 1,
   "metadata": {},
   "outputs": [
    {
     "name": "stdout",
     "output_type": "stream",
     "text": [
      "\n",
      "I am a Software Developer, Data Scientist and Quantitative Analyst from Córdoba, Argentina.\n",
      "\n",
      "My main focus of interests is Data Science, Finance, Education, Data Visualization and the Jupyter ecosystem.\n",
      "\n"
     ]
    }
   ],
   "source": [
    "import about_me"
   ]
  },
  {
   "cell_type": "markdown",
   "metadata": {},
   "source": [
    "### This is currenly outdated as of Nov 2024, it will be updated soon!\n",
    "---\n",
    "\n",
    "To give you a little bit more of context, I am originally a Biochemist that because of life, started to write code around 8 years ago.\n",
    "\n",
    "During all these years, I have made meaningful contributions to several popular Open Source projects such as:\n",
    "\n",
    "* [**Jupyter**](https://jupyter.org/) (core developer and *Steering Council* member)\n",
    "* [**Nikola**](https://getnikola.com/) (administrator and contributor)\n",
    "* [**Bokeh**](https://docs.bokeh.org/) (contributor)\n",
    "\n",
    "Additionally, I have also started several projects being [**RISE**](https://rise.readthedocs.io/) (a \"live\" slideshow for the **Jupyter Notebook**) the most popular one.\n",
    "\n",
    "I use to write some technical stuff on this blog (I also write a little bit of non-technical stuff, but you can filter out those with the tags if you are not interested on those topics).\n",
    "\n",
    "Moreover, you can find a lot of my talks and tutorials in *Youtube*, but let me hightlight two recent ones I really like ;-)\n",
    "\n",
    "* [Current RISE capabilities and its evolution into the future | JupyterCon 2018](https://youtu.be/Gx2TnIdt0hw) (English)\n",
    "* [Keynote: La R[*]volución de Jupyter | SciPyLA 2019 ](https://youtu.be/Uobe-csdb_A) (Spanish)\n",
    "\n",
    "\n",
    "Recently, I started to explore diverse and multiple ways to fund my contributions to the Open Source world, so if you want to support my work, please visit these pages: \n",
    "\n",
    "* https://damianavila.github.io/blog/stories/support-me.html (Damian-specific funding for exploring new ideas)\n",
    "* https://rise.readthedocs.io/en/stable/support.html (RISE-specific funding)\n",
    "\n",
    "OK, I think this is all for now.\n",
    "\n",
    "I hope you enjoy my site!\n",
    "\n",
    "Best,"
   ]
  }
 ],
 "metadata": {
  "kernelspec": {
   "display_name": "Python 3 (ipykernel)",
   "language": "python",
   "name": "python3"
  },
  "language_info": {
   "codemirror_mode": {
    "name": "ipython",
    "version": 3
   },
   "file_extension": ".py",
   "mimetype": "text/x-python",
   "name": "python",
   "nbconvert_exporter": "python",
   "pygments_lexer": "ipython3",
   "version": "3.13.0"
  },
  "nikola": {
   "category": "",
   "date": "2020-03-17 21:29:12 UTC-03:00",
   "description": "",
   "link": "",
   "slug": "about-me",
   "tags": "Damian, Avila",
   "title": "About me",
   "type": "text"
  }
 },
 "nbformat": 4,
 "nbformat_minor": 4
}
