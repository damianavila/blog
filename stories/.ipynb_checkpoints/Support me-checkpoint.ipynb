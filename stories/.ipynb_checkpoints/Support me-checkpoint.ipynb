{
 "cells": [
  {
   "cell_type": "markdown",
   "metadata": {},
   "source": [
    "### This is currenly outdated as of Nov 2024, it will be updated soon!\n",
    "---\n",
    "\n",
    "I am currently looking for a continuous flow of money so I can spend more of my daily time on the Open Source arena, particularly developing and supporting **RISE** and other Jupyter-related projects, and exploring some new ideas...\n",
    "\n",
    "Basically, you have 2-3 ways to fund some of my work.\n",
    "\n",
    "At https://ko-fi.com/damianavila you can either:\n",
    "\n",
    "* Buy me some stars as general support (and you will be listed on this page)\n",
    "* Buy a \"commission\" to support the accomplishment of diverse goals (see each specific commission for more details)\n",
    "\n",
    "As I said, these commissions are intended to support the accomplishment of diverse goals.\n",
    "Currently, most of them are associated with **RISE** support and ongoing development.\n",
    "This is just a **one-time** commission, so if you want to support me in a **continuous/recurrent** way, you can buy a higher commission/tier (not monthly subscription available)!\n",
    "\n",
    "If you are interested in supporting **RISE** evolution, I **highly** encourage you to choose one of the **RISE**-related available commissions. Press the \"Commission Me\" button (or visit this page: https://ko-fi.com/damianavila/commissions) for more details on each commission. Btw, buying a commission will allow you to be listed on the supporters' page at the **RISE** site (logos reserved for high tiers commissions).\n",
    "\n",
    "Finally, if you don't like this platform (or the associated electronic payment method) and you still want to support my work or, maybe, you are a company and you need to process things outside of this platform, you can drop me a DM at `@damian_avila` on [Twitter](https://twitter.com/damian_avila) or [Telegram](https://t.me/damian_avila) and we can figure it out better alternatives for you. You can also reach me at **damianavila AT gmail DOT com**, if you are from the old guard ;-)\n",
    "\n",
    "Thank **YOU**!"
   ]
  }
 ],
 "metadata": {
  "kernelspec": {
   "display_name": "Python 3 (ipykernel)",
   "language": "python",
   "name": "python3"
  },
  "language_info": {
   "codemirror_mode": {
    "name": "ipython",
    "version": 3
   },
   "file_extension": ".py",
   "mimetype": "text/x-python",
   "name": "python",
   "nbconvert_exporter": "python",
   "pygments_lexer": "ipython3",
   "version": "3.13.0"
  }
 },
 "nbformat": 4,
 "nbformat_minor": 4
}
