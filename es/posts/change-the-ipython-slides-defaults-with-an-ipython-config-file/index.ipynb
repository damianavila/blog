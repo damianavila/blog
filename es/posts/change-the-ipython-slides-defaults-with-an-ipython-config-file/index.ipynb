{
 "metadata": {
  "name": ""
 },
 "nbformat": 3,
 "nbformat_minor": 0,
 "worksheets": [
  {
   "cells": [
    {
     "cell_type": "markdown",
     "metadata": {},
     "source": [
      "Some people are asking me how to change the IPython slides's defaults. You can see the description of the request [here](http://stackoverflow.com/questions/18820253/modifying-reveal-js-defaults-in-ipython-notebook-slide-generation). Essentially, he wants to change the default transition between the slides.\n",
      "\n",
      "To solve this question, we introduce the notion of IPython config files, which let us easily change *things* inside `IPython.nbconvert` (the library where the IPython slides lives) to achieve our desires, at least in the slideshow generation issue ;-)\n",
      "\n",
      "First of all, you need to know some details:\n",
      "<!-- TEASER_END -->\n",
      "\n",
      "* The IPython slides are generated using a series of **Jinja** templates, so we are going to modify one of the templates to render the slideshow accordingly with our own defaults.\n",
      "* The `IPython.nbconvert` library was developed taking into account the need from some users to use customized *things* (where *thing* will be a **template** in this case, but we could modify other parts of `IPython.nbconvert`, probably I will cover this ideas in other posts).\n",
      "* The IPython machinery is very configurable through a **Traitlets** system! And because of this feature, `IPython.nbconvert` is able to take a custom config file and use it to render our IPython slides (or any other `IPython.nbconvert` *formats*).\n",
      "\n",
      "OK, can you show me an example config file? Of course, here we go:"
     ]
    },
    {
     "cell_type": "code",
     "collapsed": false,
     "input": [
      "!cat /media/datos/Ejemplos/slides_config.py"
     ],
     "language": "python",
     "metadata": {},
     "outputs": [
      {
       "output_type": "stream",
       "stream": "stdout",
       "text": [
        "c = get_config()\r\n",
        "\r\n",
        "c.Exporter.template_file = 'default_transition'\r\n"
       ]
      }
     ],
     "prompt_number": 1
    },
    {
     "cell_type": "markdown",
     "metadata": {},
     "source": [
      "From the IPython docs:\n",
      "\n",
      ">A configuration file is simply a pure Python file that sets the attributes of a global, pre-created configuration object. This configuration object is a Config instance. While in a configuration file, to get a reference to this object, simply call the get_config() function. We inject this function into the global name-space that the configuration file is executed in,\n",
      "\n",
      "So, we have to call the `get_config()` function and then use a custom template called `'default_transition'` and assign it to `c.Exporter.template_file` attribute.\n",
      "\n",
      "Oh, we need to write the `'default_transition'` template yet, so here we go... again:"
     ]
    },
    {
     "cell_type": "code",
     "collapsed": false,
     "input": [
      "!cat /media/datos/Ejemplos/default_transition.tpl"
     ],
     "language": "python",
     "metadata": {},
     "outputs": [
      {
       "output_type": "stream",
       "stream": "stdout",
       "text": [
        "{%- extends 'slides_reveal.tpl' -%}\r\n",
        "\r\n",
        "\r\n",
        "{% block body %}\r\n",
        "\r\n",
        "{{ super() }}\r\n",
        "\r\n",
        "<script>\r\n",
        "\r\n",
        "Reveal.initialize({\r\n",
        "\r\n",
        "    // Display controls in the bottom right corner\r\n",
        "    //controls: true,\r\n",
        "\r\n",
        "    // Display a presentation progress bar\r\n",
        "    //progress: true,\r\n",
        "\r\n",
        "    // Push each slide change to the browser history\r\n",
        "    //history: false,\r\n",
        "\r\n",
        "    // Enable keyboard shortcuts for navigation\r\n",
        "    //keyboard: true,\r\n",
        "\r\n",
        "    // Enable touch events for navigation\r\n",
        "    //touch: true,\r\n",
        "\r\n",
        "    // Enable the slide overview mode\r\n",
        "    //overview: true,\r\n",
        "\r\n",
        "    // Vertical centering of slides\r\n",
        "    //center: true,\r\n",
        "\r\n",
        "    // Loop the presentation\r\n",
        "    //loop: false,\r\n",
        "\r\n",
        "    // Change the presentation direction to be RTL\r\n",
        "    //rtl: false,\r\n",
        "\r\n",
        "    // Number of milliseconds between automatically proceeding to the\r\n",
        "    // next slide, disabled when set to 0, this value can be overwritten\r\n",
        "    // by using a data-autoslide attribute on your slides\r\n",
        "    //autoSlide: 0,\r\n",
        "\r\n",
        "    // Enable slide navigation via mouse wheel\r\n",
        "    //mouseWheel: false,\r\n",
        "\r\n",
        "    // Transition style\r\n",
        "    transition: 'concave', // default/cube/page/concave/zoom/linear/fade/none\r\n",
        "\r\n",
        "    // Transition speed\r\n",
        "    //transitionSpeed: 'default', // default/fast/slow\r\n",
        "\r\n",
        "    // Transition style for full page backgrounds\r\n",
        "    //backgroundTransition: 'default', // default/linear/none\r\n",
        "\r\n",
        "    // Theme\r\n",
        "    theme: 'sky' // available themes are in /css/theme\r\n",
        "\r\n",
        "});\r\n",
        "\r\n",
        "</script>\r\n",
        "\r\n",
        "{% endblock body %}\r\n"
       ]
      }
     ],
     "prompt_number": 2
    },
    {
     "cell_type": "markdown",
     "metadata": {},
     "source": [
      "In the first line, `{%- extends 'slides_reveal.tpl' -%}` tells to the **Jinja** system that we are going to extend *slides_reveal* template (the default one, which `IPython.nbconvert` uses to build our common slides by default). Then, inside the `{% block body %}`, we call `super()`:\n",
      "\n",
      "From the *Jinja* docs:\n",
      "\n",
      ">Super Blocks\n",
      "It\u2019s possible to render the contents of the parent block by calling super. \n",
      "\n",
      "We did it in this way because we want to render all the parent content and, after that, add our own content, essentially a config script for Reveal.js, calling `Reveal.initialize`.\n",
      "\n",
      "OK, I have written a lot of configurable options you can play with, but I only left uncommented (and hence, they will be applied) the `transition: 'concave'` and `theme: 'sky'` options with my new choices, you can use your own ones.\n",
      "\n",
      "Finally, you have to use the `IPython.nbconvert` library from command line, as usual, but pointing to the IPython config file you pretend to apply:\n",
      "\n",
      "`ipython nbconvert your_talk.ipynb --to slides --post serve --config slides_config.py`\n",
      "\n",
      "And you are done!\n",
      "\n",
      "**NOTE**: Don't forget to put your *ipynb*, *slides_config.py* and *default_transition.tpl* files in the same folder where you will run the `IPython.nbconvert` command. \n",
      "\n",
      "As you can see, the potentiality of this system (**Jinja** templating plus a powerful config system) is really big! We can achieve awesome *things* in a very easy way!\n",
      "\n",
      "Any help, just let me know!\n",
      "\n",
      "**Addemdum**: the use of `default_transition.tpl` generates an invalid but useful final html document. The cause behind this issue is the script containing the `Reveal.initialize` function, which is located after the closing `body` tag. All modern browser render this sort of invalid html witout any difficult. But a commenter arose this issue and I think is important to make it available in the post itself.\n",
      "\n",
      "Dami\u00e1n"
     ]
    }
   ],
   "metadata": {}
  }
 ]
}