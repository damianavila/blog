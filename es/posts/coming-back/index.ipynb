{
 "cells": [
  {
   "cell_type": "markdown",
   "metadata": {},
   "source": [
    "OK... two years since my last post... exactly. Time goes fast, really fast! And a lot of things happened in the last two years.\n",
    "\n",
    "<!-- TEASER_END -->\n",
    "\n",
    "I am planning to write about those past things... about the experience I acquired during this time. But I am also interested into discuss new and exciting things, not only in the technical side, but also in other aspects of my interests and feelings.\n",
    "\n",
    "I am hoping to write at least one post per week. Time constraints are really against this frequency but I will try it!\n",
    "\n",
    "Let's do a quick update:\n",
    "* My son, Facundo, is 3 years old now... and he's my Sun.\n",
    "* I live at Cordoba now... with my fiance, and my Moon, Daniela.\n",
    "* I have a lovely kitty called Bituinas (between us ;-)\n",
    "* I still do Software Development (for a living and for free) and I enjoy it a lot.\n",
    "* I am still involved with the [Jupyter](http://jupyter.org/) project. I am a Jupyter core developer and a Jupyter Steering Council member. [RISE](https://github.com/damianavila/RISE), the live Jupyter slideshow machinery, is widely used but I need to give it more love (and time).\n",
    "* Now, I am a gluten-free guy and because of that, I have lost weight and improved my arterial tension measurements ;-)\n",
    "* Recently, I restarted to practice Aikido.\n",
    "\n",
    "And a lot of other things I should mention but I don't want to make this too long.\n",
    "\n",
    "So... welcome back... again!"
   ]
  }
 ],
 "metadata": {
  "kernelspec": {
   "display_name": "Python 3",
   "language": "python",
   "name": "python3"
  },
  "language_info": {
   "codemirror_mode": {
    "name": "ipython",
    "version": 3
   },
   "file_extension": ".py",
   "mimetype": "text/x-python",
   "name": "python",
   "nbconvert_exporter": "python",
   "pygments_lexer": "ipython3",
   "version": "3.5.1"
  },
  "nikola": {
   "category": "",
   "date": "2016-05-30 18:33:11 UTC-03:00",
   "description": "",
   "link": "",
   "slug": "coming-back",
   "tags": "blog, IPython, Jupyter, RISE, Aikido, Facu, Daniela",
   "title": "Coming back",
   "type": "text"
  }
 },
 "nbformat": 4,
 "nbformat_minor": 0
}
