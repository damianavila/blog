{
 "metadata": {
  "name": ""
 },
 "nbformat": 3,
 "nbformat_minor": 0,
 "worksheets": [
  {
   "cells": [
    {
     "cell_type": "markdown",
     "metadata": {},
     "source": [
      "Some days ago, [Aru Sahni](https://plus.google.com/106780152352450272697/about) wrote to [Nikola's](https://groups.google.com/forum/#!forum/nikola-discuss) forum and posted a link to his site... I really like the theme he was using so I though to take it as a starting point to develop my own theme.\n",
      "<!-- TEASER_END -->\n",
      "\n",
      "I had to re-wrote some things to accommodate the templates to the last Nikola v6.0.0 release (in fact, I usually use master from Github, but I recommend you to use the released code for production), and to make the theme more generic one and easy to re-use by others.\n",
      "\n",
      "I got a clean and (I think) *easy to read* theme, with awesome icons (Font-awesome's if you didn't recognize yet), supporting both desktops/laptops and mobile devices and... I like it very much ;-)\n",
      "\n",
      "It was a great exercise to learn more about html, js, css and less (a very interesting approach to deal with css).\n",
      "\n",
      "I will publish the generic **zen** theme and the **zen-ipython** theme (which I'm using and you are seeing... right now) at the [Nikola theme](https://github.com/ralsina/nikola-themes) repository in a few days, after some more testing and customization.\n",
      "\n",
      "Thanks again Aru Sahni, you are in some way the trigger for this theme... and very fun hours I experienced developing and learning by doing.\n",
      "\n",
      "Dami\u00e1n.\n",
      "\n",
      "PS: If you have any to say about the overall design, ideas for improvements, things you hate about this theme, just let me know in the comments. Thanks."
     ]
    }
   ],
   "metadata": {}
  }
 ]
}