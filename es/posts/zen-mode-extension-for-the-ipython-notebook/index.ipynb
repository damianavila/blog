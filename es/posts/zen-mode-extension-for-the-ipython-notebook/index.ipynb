{
 "cells": [
  {
   "cell_type": "markdown",
   "metadata": {},
   "source": [
    "I write a lot stuff inside the IPython notebook.\n",
    "\n",
    "And I thought it would be great to have a *sort* of **Zen mode** for the notebook...\n",
    "\n",
    "I mean, a *peaceful* user interface to write my blog posts (and other stuff, of course).\n",
    "\n",
    "So I wrote a little js extension which give me this **Zen mode**.\n",
    "\n",
    "You can see some screen shots below:\n",
    "<!-- TEASER_END -->"
   ]
  },
  {
   "cell_type": "markdown",
   "metadata": {},
   "source": [
    "![](../galleries/zenmode/pic1.png)"
   ]
  },
  {
   "cell_type": "markdown",
   "metadata": {},
   "source": [
    "![](../galleries/zenmode/pic2.png)"
   ]
  },
  {
   "cell_type": "markdown",
   "metadata": {},
   "source": [
    "And a little video showing the extension in action:"
   ]
  },
  {
   "cell_type": "markdown",
   "metadata": {},
   "source": [
    "<iframe width=\"640\" height=\"360\" src=\"//www.youtube.com/embed/eVi5aXEipBQ\" frameborder=\"0\" allowfullscreen></iframe>"
   ]
  },
  {
   "cell_type": "markdown",
   "metadata": {},
   "source": [
    "Do you want it? You can get it! \n",
    "\n",
    "It is available inside the IPython-notebook-extensions [repo](https://github.com/ipython-contrib/IPython-notebook-extensions) under the IPython-contrib organization [1].\n",
    "\n",
    "In the custom.js file you can select which background image do you want to use (there are some available inside the extension, but you can also use your own image ;-)).\n",
    "\n",
    "Enjoy it!\n",
    "\n",
    "Damián\n",
    "\n",
    "PS: As usual, open any issue (bug or idea) at the Github repo (or report me here at the comments). Thanks!\n",
    "\n",
    "[1] [https://github.com/ipython-contrib/IPython-notebook-extensions](https://github.com/ipython-contrib/IPython-notebook-extensions)"
   ]
  }
 ],
 "metadata": {
  "kernelspec": {
   "display_name": "Python 3",
   "language": "python",
   "name": "python3"
  },
  "language_info": {
   "codemirror_mode": {
    "name": "ipython",
    "version": 3
   },
   "file_extension": ".py",
   "mimetype": "text/x-python",
   "name": "python",
   "nbconvert_exporter": "python",
   "pygments_lexer": "ipython3",
   "version": "3.6.8"
  }
 },
 "nbformat": 4,
 "nbformat_minor": 1
}
