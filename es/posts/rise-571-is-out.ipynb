{
 "cells": [
  {
   "cell_type": "markdown",
   "metadata": {},
   "source": [
    "We're pleased to announce the release of **RISE** 5.7.1!\n",
    "\n",
    "### *What is RISE?*\n",
    "\n",
    "**RISE** lets you show your **Jupyter** notebook rendered as an **executable** `Reveal.js`-based slideshow.\n",
    "\n",
    "It is your very same notebook but in a *slidy* way!\n",
    "<!-- TEASER_END -->\n",
    "\n",
    "### *How you can get it?*\n",
    "\n",
    "If you are a **conda/anaconda** user, you can install it with `conda install -c conda-forge rise`.\n",
    "\n",
    "If you are a **pip** user, you can install it with `pip install rise`.\n",
    "\n",
    "For further information about the installation process, please check [here](https://rise.readthedocs.io/en/stable/installation.html).\n",
    "\n",
    "### *What are the latest news?*\n",
    "\n",
    "**Wait!** Latest release was 5.6.1, where is **RISE** 5.7.0?\n",
    "\n",
    "We shipped 5.7.0 a few days ago and we found some issues that deserved immediate patches and a new shiny release.\n",
    "This is why you have **RISE** 5.7.1 available now.\n",
    "\n",
    "So, these releases were mainly focused on:\n",
    "\n",
    "* Adding color support to the chalkboard \n",
    "* Upload to reveal.js 3.9.2\n",
    "* Fix not working notes keyboard shortcut (5.7.0 bug)\n",
    "* Fix buttons disappearance (5.7.0 bug)\n",
    "* New setting rise.show_buttons_on_startup (#561)\n",
    "* Enforce notebook >= 6.0\n",
    "* Add a new support page in the documentation\n",
    "* New sources layout, in anticipation for a future jlab extension: sources are now split between rise-reveal that contains an npm package that wraps the official reveal.js for our needs, and classic that contains the actual code for the RISE classic extension.\n",
    "\n",
    "You can see a detailed changelog [here](https://rise.readthedocs.io/en/stable/changelog.html#changes).\n",
    "\n",
    "And remember, please report any issues at https://github.com/damianavila/RISE/issues.\n",
    "\n",
    "### *What's next?*\n",
    "\n",
    "You should keep staying tuned, we will have very exciting news sooner than later!"
   ]
  }
 ],
 "metadata": {
  "kernelspec": {
   "display_name": "Python 3",
   "language": "python",
   "name": "python3"
  },
  "language_info": {
   "codemirror_mode": {
    "name": "ipython",
    "version": 3
   },
   "file_extension": ".py",
   "mimetype": "text/x-python",
   "name": "python",
   "nbconvert_exporter": "python",
   "pygments_lexer": "ipython3",
   "version": "3.6.10"
  },
  "nikola": {
   "category": "",
   "date": "2020-10-30 11:52:24 UTC-03:00",
   "description": "",
   "link": "",
   "slug": "rise-571-is-out",
   "tags": "conda, Jupyter, linux, osx, pip, python, reveal, RISE, slideshow, win",
   "title": "RISE 5.7.1 is out!",
   "type": "text"
  }
 },
 "nbformat": 4,
 "nbformat_minor": 4
}
