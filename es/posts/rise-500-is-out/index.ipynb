{
 "cells": [
  {
   "cell_type": "markdown",
   "metadata": {},
   "source": [
    "We're pleased to announce the release of RISE 5.0.0!\n",
    "\n",
    "\n",
    "**RISE** let's you show yout **Jupyter** notebook rendered as an **executable** Reveal.js-based slideshow. It is your very same notebook but in a *slidy* way!\n",
    "\n",
    "*How you can get it?*\n",
    "<!-- TEASER_END -->\n",
    "\n",
    "If you live in the **conda/anaconda ecosystem**, you can install it with `conda install -c damianavila82 rise`.\n",
    "\n",
    "For further information about other installations, check https://github.com/damianavila/RISE#installation.\n",
    "\n",
    "This released was focused in updating **Reveal.js** to the latest (3.5.0) and fix several bugs in the config mechanism. We also re-did the scrolling feature and, *finally*, we built the python 3.6 conda packages.\n",
    "\n",
    "Please report any issues here: https://github.com/damianavila/RISE/issues\n",
    "\n",
    "And enjoy it!\n",
    "\n",
    "**PS**: If you are using/developing **RISE** from master (I **strongly** recommend you to use the packaged solutions if you don't want to develop on it), it would a good idea to reinstall the whole thing from scratch to avoid collisions between the previous way to get Reveal.js and the current one. For more information about the *development installation*, please check https://github.com/damianavila/RISE#development"
   ]
  }
 ],
 "metadata": {
  "kernelspec": {
   "display_name": "Python 3",
   "language": "python",
   "name": "python3"
  },
  "language_info": {
   "codemirror_mode": {
    "name": "ipython",
    "version": 3
   },
   "file_extension": ".py",
   "mimetype": "text/x-python",
   "name": "python",
   "nbconvert_exporter": "python",
   "pygments_lexer": "ipython3",
   "version": "3.6.1"
  },
  "nikola": {
   "category": "",
   "date": "2017-06-13 08:18:35 UTC-03:00",
   "description": "",
   "link": "",
   "slug": "rise-500-is-out",
   "tags": "python, pip, conda, linux, osx, win, Jupyter, reveal, slideshow, RISE",
   "title": "RISE 5.0.0 is out!",
   "type": "text"
  }
 },
 "nbformat": 4,
 "nbformat_minor": 2
}
