{
 "cells": [
  {
   "cell_type": "markdown",
   "metadata": {},
   "source": [
    "We're pleased to announce the release of **RISE** 5.6.1!\n",
    "\n",
    "### *What is RISE?*\n",
    "\n",
    "**RISE** lets you show your **Jupyter** notebook rendered as an **executable** `Reveal.js`-based slideshow.\n",
    "\n",
    "It is your very same notebook but in a *slidy* way!\n",
    "<!-- TEASER_END -->\n",
    "\n",
    "### *How you can get it?*\n",
    "\n",
    "If you are a **conda/anaconda** user, you can install it with `conda install -c conda-forge rise`.\n",
    "\n",
    "If you are a **pip** user, you can install it with `pip install rise`.\n",
    "\n",
    "For further information about the installation process, please check [here](https://rise.readthedocs.io/en/stable/installation.html).\n",
    "\n",
    "### *What are the latest news?*\n",
    "\n",
    "This released was mainly focused on:\n",
    "\n",
    "* Remove accent in setup.py that was occasionally breaking installation (yes, my name making troubles again ;-)\n",
    "* Properly load companion css when running with Jupytext enabled (we need to be compatible with new and exciting project under the Jupyter ecosystem)\n",
    "* Experimental feature to allow users to change the keyboard shortcuts attached to internal reveal functions (more info at https://rise.readthedocs.io/en/stable/customize.html#native-keyboard-shortcuts-for-reveal-js-and-reveal-js-plug-ins, thanks again Thies Hecker for contributing this feature!)\n",
    "\n",
    "You can see a detailed changelog [here](https://rise.readthedocs.io/en/stable/changelog.html#changes).\n",
    "\n",
    "And remember, please report any issues at https://github.com/damianavila/RISE/issues.\n",
    "\n",
    "### *What's next?*\n",
    "\n",
    "Stay tuned, we will have very exciting news soon!"
   ]
  }
 ],
 "metadata": {
  "kernelspec": {
   "display_name": "Python 3",
   "language": "python",
   "name": "python3"
  },
  "language_info": {
   "codemirror_mode": {
    "name": "ipython",
    "version": 3
   },
   "file_extension": ".py",
   "mimetype": "text/x-python",
   "name": "python",
   "nbconvert_exporter": "python",
   "pygments_lexer": "ipython3",
   "version": "3.6.10"
  },
  "nikola": {
   "category": "",
   "date": "2020-02-21 18:30:45 UTC-03:00",
   "description": "",
   "link": "",
   "slug": "rise-561-is-out",
   "tags": "conda, Jupyter, linux, osx, pip, python, reveal, RISE, slideshow, win",
   "title": "RISE 5.6.1 is out!",
   "type": "text"
  }
 },
 "nbformat": 4,
 "nbformat_minor": 4
}
