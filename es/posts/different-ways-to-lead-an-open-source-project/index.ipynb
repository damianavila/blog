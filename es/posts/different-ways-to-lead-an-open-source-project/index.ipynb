{
 "metadata": {
  "name": ""
 },
 "nbformat": 3,
 "nbformat_minor": 0,
 "worksheets": [
  {
   "cells": [
    {
     "cell_type": "markdown",
     "metadata": {},
     "source": [
      "Just a few lines, to trigger the discussion... to describe my point, I will pick two projects I have contributed (and I want to contribute even more): `IPython` and `Nikola`.\n",
      "\n",
      "Some months ago, **Brian Granger**, a core developer from the `IPython` project gave a [talk](http://nbviewer.ipython.org/urls/raw.github.com/ellisonbg/talk-scipy2013/master/FeaturesAndScope.ipynb) at `SciPy 2013` where he said:\n",
      "<!-- TEASER_END -->\n",
      "\n",
      "> Make features fight hard to be accepted and implemented. Communicate to the community and developers that the default answer to new feature requests is no (it's not personal!). Don't even consider implementation until the much of the community is crying \"we absolutely must have this.\"\n",
      "\n",
      "Some days ago, **Roberto Alsina**, a core developer from the `Nikola` project made a blog [post](http://ralsina.me/weblog/posts/being-an-inclusive-project-and-how-github-saved-my-day.html) where he said:\n",
      "\n",
      "> If you propose something you are getting heard and I am giving the proposal a fair shake. I may reject it, but not out of hand, but instead after some thought. And if I am unsure, it\u2019s accepted. I would rather get something I am not fond of than drive out a contributor because I may change my mind, but a contributor that\u2019s gone is not coming back.\n",
      "\n",
      "Both projects are very successful, however they seems to go in opposite directions in the way they deal with features and contributors.\n",
      "\n",
      "Probably they are living in different \"times\"... I mean, I see a \"pattern\" here: \n",
      "\n",
      "`Nikola`, the younger, is toward the \"left\" side, embracing the \"radical\" view of the \u201cuniverse\u201d, whereas `IPython`, the older, is toward the \"right\" side, embracing the  \"conservative\" view...\n",
      "\n",
      "Let me be clear, **I am not saying anything about the political ideas of those developers**, I do not even know their political ideas... I just described a pattern I saw before with people, but it seems to be also relevant for open source projects.\n",
      "\n",
      "I will probably write more about that, but I would like to know you ideas ;-)\n",
      "\n",
      "Like I said at the beginning, just a few lines, to trigger the discussion...\n",
      "\n",
      "Dami\u00e1n."
     ]
    }
   ],
   "metadata": {}
  }
 ]
}