{
 "cells": [
  {
   "cell_type": "markdown",
   "metadata": {},
   "source": [
    "This is a very short but important post!\n",
    "\n",
    "As you probably know, this blog can be found as a subdomain of `oquanta.info`.\n",
    "\n",
    "Starting **Jan 23rd, 2019**, I will be abandoning that domain name because *GoDaddy* is asking me **unreasonable** prices for renewal... and, actually, I am not using that domain except for the blog itself.\n",
    "\n",
    "As you probably know as well, for several years, this blog has been hosted in `gh-pages`, so I will just use the default and expected URL provided by *Github*: https://damianavila.github.io/blog\n",
    "\n",
    "Please, make sure to **bookmark/save/link** the correct URL if you want to keep reading about some of my stuff ;-)\n",
    "\n",
    "Have a great start of the week!"
   ]
  }
 ],
 "metadata": {
  "kernelspec": {
   "display_name": "Python 3",
   "language": "python",
   "name": "python3"
  },
  "language_info": {
   "codemirror_mode": {
    "name": "ipython",
    "version": 3
   },
   "file_extension": ".py",
   "mimetype": "text/x-python",
   "name": "python",
   "nbconvert_exporter": "python",
   "pygments_lexer": "ipython3",
   "version": "3.6.7"
  },
  "nikola": {
   "category": "",
   "date": "2019-01-20 21:51:03 UTC-03:00",
   "description": "",
   "link": "",
   "slug": "abandoning-the-oquanta-domain-name",
   "tags": "blog, gh-pages",
   "title": "Abandoning the oquanta domain name",
   "type": "text"
  }
 },
 "nbformat": 4,
 "nbformat_minor": 2
}
