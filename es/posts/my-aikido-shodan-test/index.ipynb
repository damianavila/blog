{
 "cells": [
  {
   "cell_type": "markdown",
   "metadata": {},
   "source": [
    "Querés saber como se ve un examen de [**Aikido**](https://en.wikipedia.org/wiki/Aikido) para 1er Dan? Bueno, esta es tu oportunidad! Solo necesitás seguir leyendo un ratito más ;-)\n",
    "<!-- TEASER_END -->\n",
    "\n",
    "Tuvimos un [seminario](http://cordobaaikikai.com.ar/#!/-seminario-corbal-2018/) de **Aikido** e **Iaido** durante dos días dictado por el [Shihan Ricardo Corbal](http://asaikido.com.ar/ricardo-corbal-sensei/).\n",
    "Ayer, al término de dos clases muy buenas (y llenas de gente) se tomaron exámenes para kyus y danes. Y rendí para el grado de **Shodan** (1er cinturón negro de **Aikido**).\n",
    "\n",
    "Este es final de un largo camino... o realidad, el comienzo!\n",
    "\n",
    "Empecé a practicar **Aikido** en 1999 bajo la dirección de **Sensei Oscar Medina**. Y practiqué allí durante (más o menos) 5 años. Pero por varias razones, incluyendo la trágica muerte de mi **Sensei** y amigo en un accidente de tránsito, dejé la práctica. Pasaron muchas cosas en mi vida, pero luego de muchos años, en 2016 (si, 11 años después) retomé la práctica en [**Córdoba Aikikai**](http://cordobaaikikai.com.ar/#!/-home/) (conocido previamente como Kogarashi dojo) bajo la dirección de **Sensei José Delgado** y **Sensei Eugenio Fernández**, y más recientemente, bajo la dirección de **Sensei Nico Coll**. Practiqué durante todo el 2016, pero 2017 me sorprendió con muchos viajes nacionales e internacionales, por lo que retomé la práctica nuevamente en 2018.\n",
    "\n",
    "Por lo tanto, después de 7-8 años de práctica discontinuada, finalmente estaba listo para rendir para el grado de **Shodan**.\n",
    "\n",
    "Quisiera agradecer a muchas personas que me ayudaron en esta fase:\n",
    "\n",
    "* **Sensei Oscar Medina**, quién me introdujo al Arte del **Aikido** y se transformó en uno de mis mejores amigos (te extraño, Oscar!)\n",
    "* **Sensei José** y **Sensei Eugenio**, quienes me abrieron las puertas de Kogarashi y me re-introdujeron a la práctica del **Aikido**. Estos tipos son seres maravillosos y amigos\n",
    "* **Sensei Nico**, quien recientemente, junto con José y Eugenio, comenzaron un nuevo camino llamado **Córdoba Aikikai** (Sensei, gracias por ser mi uke en el examen!)\n",
    "* Toda la **comunidad** de **Córdoba Aikikai**, gente recorriendo sus propios caminos en el **Aikido** y ayudándose mutuamente en el día a día.\n",
    "* **Shihan Ricardo Corbal**, que nos dejó sus enseñanzas y fue quién me tomó el examen (gracias por los consejos post-examen, trabajaré en esos puntos para mejorarlos)\n",
    "* **Daniela**, mi amor, que me aguanta y me ha ayudado en todo este proceso\n",
    "\n",
    "OK, este es el video, en caso de que quieran ver un poco de acción ;-)\n",
    "\n",
    "<iframe width=\"560\" height=\"315\" src=\"https://www.youtube.com/embed/qoaF-I3YznM?rel=0\" frameborder=\"0\" allow=\"autoplay; encrypted-media\" allowfullscreen></iframe>\n",
    "\n",
    "Como he dicho anteriormente, este es solo el **comienzo** de una nueva fase en mi práctica de **Aikido**... y estoy seguro de que la disfrutaré!"
   ]
  }
 ],
 "metadata": {
  "kernelspec": {
   "display_name": "Python 3",
   "language": "python",
   "name": "python3"
  },
  "language_info": {
   "codemirror_mode": {
    "name": "ipython",
    "version": 3
   },
   "file_extension": ".py",
   "mimetype": "text/x-python",
   "name": "python",
   "nbconvert_exporter": "python",
   "pygments_lexer": "ipython3",
   "version": "3.6.3"
  },
  "nikola": {
   "category": "",
   "date": "2018-09-16 09:58:09 UTC-03:00",
   "description": "",
   "link": "",
   "slug": "my-aikido-shodan-test",
   "tags": "Aikido, Shodan, cordobaaikikai, asaikido",
   "title": "Mi examen de Aikido para 1er Dan",
   "type": "text"
  }
 },
 "nbformat": 4,
 "nbformat_minor": 2
}
