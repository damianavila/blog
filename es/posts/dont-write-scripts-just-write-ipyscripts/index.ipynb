{
 "metadata": {
  "name": ""
 },
 "nbformat": 3,
 "nbformat_minor": 0,
 "worksheets": [
  {
   "cells": [
    {
     "cell_type": "markdown",
     "metadata": {},
     "source": [
      "I usually have some repetitive tasks in my daily work-flow. You probably have some of those too. To save some minutes from your day, you probably write little scripts to do these jobs. \n",
      "\n",
      "I used to do that... but now I am only writing little IPython notebooks to do these simple jobs, I call them *ipyscripts* (yes, I won a prize for originality, he he!).\n",
      "\n",
      "These *ipyscripts* are IPython-powered, so we can use all the IPython's machinery to do complex things in a simple way...\n",
      "<!-- TEASER_END -->\n",
      "\n",
      "In fact, you are reading a example *ipyscript*, because this is an IPython notebook (and a blog post too), and the following example deal with a repetitive task I do frequently: the *git update* of some projects (I contribute to some of them, I follow some others).\n",
      "\n",
      "First, I load a simple list with the projects I want to update:"
     ]
    },
    {
     "cell_type": "code",
     "collapsed": false,
     "input": [
      "list_of_projects = [\"ipython\", \n",
      "                    \"kilink\", \n",
      "                    \"live_reveal\", \n",
      "                    \"nbviewer\", \n",
      "                    \"nikola\", \n",
      "                    \"reveal.js\"]"
     ],
     "language": "python",
     "metadata": {},
     "outputs": [],
     "prompt_number": 1
    },
    {
     "cell_type": "markdown",
     "metadata": {},
     "source": [
      "Second, I save my current directory using the IPython bookmark system:"
     ]
    },
    {
     "cell_type": "code",
     "collapsed": false,
     "input": [
      "%bookmark root"
     ],
     "language": "python",
     "metadata": {},
     "outputs": [],
     "prompt_number": 2
    },
    {
     "cell_type": "markdown",
     "metadata": {},
     "source": [
      "Third, I define a function to deal with the *git update* itself:"
     ]
    },
    {
     "cell_type": "code",
     "collapsed": false,
     "input": [
      "def update(folder):\n",
      "    %cd {folder}\n",
      "    !git status\n",
      "    !git checkout master\n",
      "    !git remote -v\n",
      "    !git pull origin\n",
      "    %cd -b root"
     ],
     "language": "python",
     "metadata": {},
     "outputs": [],
     "prompt_number": 3
    },
    {
     "cell_type": "markdown",
     "metadata": {},
     "source": [
      "You can see here how I am using a lot of tricks from the IPython machinery to make a lot of things in a couple of lines.\n",
      "\n",
      "The main idea is `cd` into a specific project folder. I use the braces to pass python variables and expressions to the shell. In this case, I will pass an element of the `list_of_projects`, I mean the name of the folder containing the desired project. Then, I do the *git* stuff, just prepending the command with the `!` sign to pass them to the underlying shell. Finally, I `cd` into the main directory to get the things prepared to the next loop.\n",
      "\n",
      "Fourth, I do a simple `for` loop to iterate through the elements inside the `list_of_projects` and to do the *git update* in each of these projects."
     ]
    },
    {
     "cell_type": "code",
     "collapsed": false,
     "input": [
      "for i in xrange(len(list_of_projects)):\n",
      "    update(list_of_projects[i])\n",
      "    print \"---------------------------------\""
     ],
     "language": "python",
     "metadata": {},
     "outputs": [
      {
       "output_type": "stream",
       "stream": "stdout",
       "text": [
        "/media/datos/Desarrollos/ipython\n",
        "# En la rama master\r\n",
        "nothing to commit, working directory clean\r\n"
       ]
      },
      {
       "output_type": "stream",
       "stream": "stdout",
       "text": [
        "Ya est\u00e1 en \u00abmaster\u00bb\r\n"
       ]
      },
      {
       "output_type": "stream",
       "stream": "stdout",
       "text": [
        "damianavila\tgit@github.com:damianavila/ipython.git (fetch)\r\n",
        "damianavila\tgit@github.com:damianavila/ipython.git (push)\r\n",
        "origin\tgit@github.com:ipython/ipython.git (fetch)\r\n",
        "origin\tgit@github.com:ipython/ipython.git (push)\r\n"
       ]
      },
      {
       "output_type": "stream",
       "stream": "stdout",
       "text": [
        "Already up-to-date.\r\n"
       ]
      },
      {
       "output_type": "stream",
       "stream": "stdout",
       "text": [
        "(bookmark:root) -> /media/datos/Desarrollos\n",
        "/media/datos/Desarrollos\n",
        "---------------------------------\n",
        "/media/datos/Desarrollos/kilink\n",
        "# En la rama master\r\n",
        "nothing to commit, working directory clean\r\n"
       ]
      },
      {
       "output_type": "stream",
       "stream": "stdout",
       "text": [
        "Ya est\u00e1 en \u00abmaster\u00bb\r\n"
       ]
      },
      {
       "output_type": "stream",
       "stream": "stdout",
       "text": [
        "damianavila\tgit@github.com:damianavila/kilink.git (fetch)\r\n",
        "damianavila\tgit@github.com:damianavila/kilink.git (push)\r\n",
        "origin\tgit@github.com:facundobatista/kilink.git (fetch)\r\n",
        "origin\tgit@github.com:facundobatista/kilink.git (push)\r\n"
       ]
      },
      {
       "output_type": "stream",
       "stream": "stdout",
       "text": [
        "Already up-to-date.\r\n"
       ]
      },
      {
       "output_type": "stream",
       "stream": "stdout",
       "text": [
        "(bookmark:root) -> /media/datos/Desarrollos\n",
        "/media/datos/Desarrollos\n",
        "---------------------------------\n",
        "/media/datos/Desarrollos/live_reveal\n",
        "# En la rama master\r\n",
        "nothing to commit, working directory clean\r\n"
       ]
      },
      {
       "output_type": "stream",
       "stream": "stdout",
       "text": [
        "Ya est\u00e1 en \u00abmaster\u00bb\r\n"
       ]
      },
      {
       "output_type": "stream",
       "stream": "stdout",
       "text": [
        "origin\tgit@github.com:ipython-contrib/live_reveal.git (fetch)\r\n",
        "origin\tgit@github.com:ipython-contrib/live_reveal.git (push)\r\n"
       ]
      },
      {
       "output_type": "stream",
       "stream": "stdout",
       "text": [
        "Already up-to-date.\r\n"
       ]
      },
      {
       "output_type": "stream",
       "stream": "stdout",
       "text": [
        "(bookmark:root) -> /media/datos/Desarrollos\n",
        "/media/datos/Desarrollos\n",
        "---------------------------------\n",
        "/media/datos/Desarrollos/nbviewer\n",
        "# En la rama master\r\n",
        "nothing to commit, working directory clean\r\n"
       ]
      },
      {
       "output_type": "stream",
       "stream": "stdout",
       "text": [
        "Ya est\u00e1 en \u00abmaster\u00bb\r\n"
       ]
      },
      {
       "output_type": "stream",
       "stream": "stdout",
       "text": [
        "heroku\tgit@heroku.com:zarara.git (fetch)\r\n",
        "heroku\tgit@heroku.com:zarara.git (push)\r\n",
        "origin\tgit@github.com:ipython/nbviewer.git (fetch)\r\n",
        "origin\tgit@github.com:ipython/nbviewer.git (push)\r\n",
        "zarara\tgit@heroku.com:zarara.git (fetch)\r\n",
        "zarara\tgit@heroku.com:zarara.git (push)\r\n"
       ]
      },
      {
       "output_type": "stream",
       "stream": "stdout",
       "text": [
        "Already up-to-date.\r\n"
       ]
      },
      {
       "output_type": "stream",
       "stream": "stdout",
       "text": [
        "(bookmark:root) -> /media/datos/Desarrollos\n",
        "/media/datos/Desarrollos\n",
        "---------------------------------\n",
        "/media/datos/Desarrollos/nikola\n",
        "# En la rama master\r\n",
        "nothing to commit, working directory clean\r\n"
       ]
      },
      {
       "output_type": "stream",
       "stream": "stdout",
       "text": [
        "Ya est\u00e1 en \u00abmaster\u00bb\r\n"
       ]
      },
      {
       "output_type": "stream",
       "stream": "stdout",
       "text": [
        "damianavila\tgit@github.com:damianavila/nikola.git (fetch)\r\n",
        "damianavila\tgit@github.com:damianavila/nikola.git (push)\r\n",
        "origin\tgit@github.com:getnikola/nikola.git (fetch)\r\n",
        "origin\tgit@github.com:getnikola/nikola.git (push)\r\n"
       ]
      },
      {
       "output_type": "stream",
       "stream": "stdout",
       "text": [
        "Already up-to-date.\r\n"
       ]
      },
      {
       "output_type": "stream",
       "stream": "stdout",
       "text": [
        "(bookmark:root) -> /media/datos/Desarrollos\n",
        "/media/datos/Desarrollos\n",
        "---------------------------------\n",
        "/media/datos/Desarrollos/reveal.js\n",
        "# En la rama master\r\n",
        "nothing to commit, working directory clean\r\n"
       ]
      },
      {
       "output_type": "stream",
       "stream": "stdout",
       "text": [
        "Ya est\u00e1 en \u00abmaster\u00bb\r\n"
       ]
      },
      {
       "output_type": "stream",
       "stream": "stdout",
       "text": [
        "origin\tgit@github.com:hakimel/reveal.js.git (fetch)\r\n",
        "origin\tgit@github.com:hakimel/reveal.js.git (push)\r\n"
       ]
      },
      {
       "output_type": "stream",
       "stream": "stdout",
       "text": [
        "Already up-to-date.\r\n"
       ]
      },
      {
       "output_type": "stream",
       "stream": "stdout",
       "text": [
        "(bookmark:root) -> /media/datos/Desarrollos\n",
        "/media/datos/Desarrollos\n",
        "---------------------------------\n"
       ]
      }
     ],
     "prompt_number": 4
    },
    {
     "cell_type": "markdown",
     "metadata": {},
     "source": [
      "---\n",
      "\n",
      "**ADDENDUM**: \n",
      "\n",
      "You can actually do:\n",
      "\n",
      "```python\n",
      "for i in list_of_projects: \n",
      "    update(i)\n",
      "print \"---------------------------------\"\n",
      "```\n",
      "\n",
      "But, this is an example, and I wanted to emphasize the fact that you can pass complex arguments inside the braces... Thanks Lex for your comment, I forgot to add this explanation!\n",
      "\n",
      "---\n",
      "\n",
      "And that's all! The next time you have to do this task, just run this notebook (properly customized for your projects) and you will get the job done!\n",
      "\n",
      "**NOTE**: And now, the *icing on the cake*... if you are in IPython master, you do not even need to open the notebook to run it... just open an IPython console or notebook and write the next sentence:\n",
      "\n",
      "`%run your_ipyscript.ipynb`\n",
      "\n",
      "Yes, you can use the `%run` magic to *run* all the code cells from the notebook you pass as an argument ;-) Niceeeeeeeeeee!\n",
      "\n",
      "**NOTE 2**: There is an ongoing [PR](https://github.com/ipython/ipython/pull/4634) to make this *%run* notebook extensive to notebooks containing non-code cells.\n",
      "\n",
      "OK, I hope you enjoy this post. And I also hope you begin to write *ipyscripts*.\n",
      "\n",
      "See you!\n",
      "\n",
      "Dami\u00e1n"
     ]
    }
   ],
   "metadata": {}
  }
 ]
}