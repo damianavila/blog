{
 "metadata": {
  "name": ""
 },
 "nbformat": 3,
 "nbformat_minor": 0,
 "worksheets": [
  {
   "cells": [
    {
     "cell_type": "markdown",
     "metadata": {},
     "source": [
      "This is the last post of this year, so I try to do my best to give you something interesting to think about...\n",
      "\n",
      "In this case, I will show you *my git workflow*... and you know there are a lot of workflows out there... and probably better than mine, but I just want to share with you the place where I find myself comfortable.\n",
      "\n",
      "And yes... *my git workflow* is also powered by **IPython** (I am very repetitive when I love a project!).\n",
      "And it is a *semi-automatic* one, using the **IPython** notebooks (*ipynbs*) as a sort of templates, transforming them into a new conceptual entity: the **ipytmpl** (and yes, I love to invent names too!).\n",
      "<!-- TEASER_END -->\n",
      "\n",
      "Because my workflow have essentially two cycles, in this post, I will show you the general set up of the environment and the first *Short* cycle, leaving the second *Extended* cycle (and other details) for other post (after the new year, of course).\n",
      "\n",
      "I will also show you my workflow with a *real* **PR** (pull-request) to the **IPython** project.\n",
      "\n",
      "Are you ready? Here we go..."
     ]
    },
    {
     "cell_type": "heading",
     "level": 2,
     "metadata": {},
     "source": [
      "Get everything ready..."
     ]
    },
    {
     "cell_type": "markdown",
     "metadata": {},
     "source": [
      "First, we need to set up the environment to make our work:"
     ]
    },
    {
     "cell_type": "markdown",
     "metadata": {},
     "source": [
      "* Check the current working directory:"
     ]
    },
    {
     "cell_type": "code",
     "collapsed": false,
     "input": [
      "%pwd"
     ],
     "language": "python",
     "metadata": {},
     "outputs": [
      {
       "metadata": {},
       "output_type": "pyout",
       "prompt_number": 1,
       "text": [
        "u'/media/datos/Desarrollos'"
       ]
      }
     ],
     "prompt_number": 1
    },
    {
     "cell_type": "markdown",
     "metadata": {},
     "source": [
      "* Make a new folder to isolate our work and cd into it:"
     ]
    },
    {
     "cell_type": "code",
     "collapsed": false,
     "input": [
      "!mkdir devel_example"
     ],
     "language": "python",
     "metadata": {},
     "outputs": [],
     "prompt_number": 2
    },
    {
     "cell_type": "code",
     "collapsed": false,
     "input": [
      "%cd devel_example/"
     ],
     "language": "python",
     "metadata": {},
     "outputs": [
      {
       "output_type": "stream",
       "stream": "stdout",
       "text": [
        "/media/datos/Desarrollos/devel_example\n"
       ]
      }
     ],
     "prompt_number": 3
    },
    {
     "cell_type": "markdown",
     "metadata": {},
     "source": [
      "> **NOTE**: You can avoid these steps opening the notebook in the proper directory, but in this case I want to have the example isolated to not overwrite my current development environment."
     ]
    },
    {
     "cell_type": "markdown",
     "metadata": {},
     "source": [
      "* Load variables with useful information:"
     ]
    },
    {
     "cell_type": "code",
     "collapsed": false,
     "input": [
      "project_name = \"ipython\"\n",
      "project_remote = \"git://github.com/ipython/ipython.git\"\n",
      "project_remote_name = \"origin\"\n",
      "my_fork_remote = \"git@github.com:damianavila/ipython.git\"\n",
      "my_fork_remote_name = \"damianavila\""
     ],
     "language": "python",
     "metadata": {},
     "outputs": [],
     "prompt_number": 4
    },
    {
     "cell_type": "markdown",
     "metadata": {},
     "source": [
      "* Clone the project and connect the local repo with my **Github** fork:"
     ]
    },
    {
     "cell_type": "code",
     "collapsed": false,
     "input": [
      "# Get a read-only copy of the project\n",
      "!git clone $project_remote\n",
      "\n",
      "# cd into the local project folder\n",
      "%cd $project_name\n",
      "\n",
      "# Link the local repo with my Github fork\n",
      "!git remote add $my_fork_remote_name $my_fork_remote\n",
      "\n",
      "# Check remotes\n",
      "!git remote -v"
     ],
     "language": "python",
     "metadata": {},
     "outputs": [
      {
       "output_type": "stream",
       "stream": "stdout",
       "text": [
        "Clonar en \u00abipython\u00bb...\r\n"
       ]
      },
      {
       "output_type": "stream",
       "stream": "stdout",
       "text": [
        "remote: Reusing existing pack: 96757, done.\u001b[K\r\n",
        "remote: Counting objects: 82, done.\u001b[K\r\n",
        "remote: Compressing objects:   1% (1/82)   \u001b[K\r",
        "remote: Compressing objects:   2% (2/82)   \u001b[K\r",
        "remote: Compressing objects:   3% (3/82)   \u001b[K\r",
        "remote: Compressing objects:   4% (4/82)   \u001b[K\r",
        "remote: Compressing objects:   6% (5/82)   \u001b[K\r",
        "remote: Compressing objects:   7% (6/82)   \u001b[K\r",
        "remote: Compressing objects:   8% (7/82)   \u001b[K\r"
       ]
      },
      {
       "output_type": "stream",
       "stream": "stdout",
       "text": [
        "remote: Compressing objects:   9% (8/82)   \u001b[K\r",
        "remote: Compressing objects:  10% (9/82)   \u001b[K\r",
        "remote: Compressing objects:  12% (10/82)   \u001b[K\r",
        "remote: Compressing objects:  13% (11/82)   \u001b[K\r",
        "remote: Compressing objects:  14% (12/82)   \u001b[K\r",
        "remote: Compressing objects:  15% (13/82)   \u001b[K\r",
        "remote: Compressing objects:  17% (14/82)   \u001b[K\r",
        "remote: Compressing objects:  18% (15/82)   \u001b[K\r",
        "remote: Compressing objects:  19% (16/82)   \u001b[K\r",
        "remote: Compressing objects:  20% (17/82)   \u001b[K\r",
        "remote: Compressing objects:  21% (18/82)   \u001b[K\r",
        "remote: Compressing objects:  23% (19/82)   \u001b[K\r",
        "remote: Compressing objects:  24% (20/82)   \u001b[K\r",
        "remote: Compressing objects:  25% (21/82)   \u001b[K\r",
        "remote: Compressing objects:  26% (22/82)   \u001b[K\r",
        "remote: Compressing objects:  28% (23/82)   \u001b[K\r",
        "remote: Compressing objects:  29% (24/82)   \u001b[K\r",
        "remote: Compressing objects:  30% (25/82)   \u001b[K\r",
        "remote: Compressing objects:  31% (26/82)   \u001b[K\r",
        "remote: Compressing objects:  32% (27/82)   \u001b[K\r",
        "remote: Compressing objects:  34% (28/82)   \u001b[K\r",
        "remote: Compressing objects:  35% (29/82)   \u001b[K\r",
        "remote: Compressing objects:  36% (30/82)   \u001b[K\r",
        "remote: Compressing objects:  37% (31/82)   \u001b[K\r",
        "remote: Compressing objects:  39% (32/82)   \u001b[K\r",
        "remote: Compressing objects:  40% (33/82)   \u001b[K\r",
        "remote: Compressing objects:  41% (34/82)   \u001b[K\r",
        "remote: Compressing objects:  42% (35/82)   \u001b[K\r",
        "remote: Compressing objects:  43% (36/82)   \u001b[K\r",
        "remote: Compressing objects:  45% (37/82)   \u001b[K\r",
        "remote: Compressing objects:  46% (38/82)   \u001b[K\r",
        "remote: Compressing objects:  47% (39/82)   \u001b[K\r",
        "remote: Compressing objects:  48% (40/82)   \u001b[K\r",
        "remote: Compressing objects:  50% (41/82)   \u001b[K\r",
        "remote: Compressing objects:  51% (42/82)   \u001b[K\r",
        "remote: Compressing objects:  52% (43/82)   \u001b[K\r",
        "remote: Compressing objects:  53% (44/82)   \u001b[K\r",
        "remote: Compressing objects:  54% (45/82)   \u001b[K\r",
        "remote: Compressing objects:  56% (46/82)   \u001b[K\r",
        "remote: Compressing objects:  57% (47/82)   \u001b[K\r",
        "remote: Compressing objects:  58% (48/82)   \u001b[K\r",
        "remote: Compressing objects:  59% (49/82)   \u001b[K\r",
        "remote: Compressing objects:  60% (50/82)   \u001b[K\r",
        "remote: Compressing objects:  62% (51/82)   \u001b[K\r",
        "remote: Compressing objects:  63% (52/82)   \u001b[K\r",
        "remote: Compressing objects:  64% (53/82)   \u001b[K\r",
        "remote: Compressing objects:  65% (54/82)   \u001b[K\r",
        "remote: Compressing objects:  67% (55/82)   \u001b[K\r",
        "remote: Compressing objects:  68% (56/82)   \u001b[K\r",
        "remote: Compressing objects:  69% (57/82)   \u001b[K\r",
        "remote: Compressing objects:  70% (58/82)   \u001b[K\r",
        "remote: Compressing objects:  71% (59/82)   \u001b[K\r",
        "remote: Compressing objects:  73% (60/82)   \u001b[K\r",
        "remote: Compressing objects:  74% (61/82)   \u001b[K\r",
        "remote: Compressing objects:  75% (62/82)   \u001b[K\r",
        "remote: Compressing objects:  76% (63/82)   \u001b[K\r",
        "remote: Compressing objects:  78% (64/82)   \u001b[K\r",
        "remote: Compressing objects:  79% (65/82)   \u001b[K\r",
        "remote: Compressing objects:  80% (66/82)   \u001b[K\r",
        "remote: Compressing objects:  81% (67/82)   \u001b[K\r",
        "remote: Compressing objects:  82% (68/82)   \u001b[K\r",
        "remote: Compressing objects:  84% (69/82)   \u001b[K\r",
        "remote: Compressing objects:  85% (70/82)   \u001b[K\r",
        "remote: Compressing objects:  86% (71/82)   \u001b[K\r",
        "remote: Compressing objects:  87% (72/82)   \u001b[K\r",
        "remote: Compressing objects:  89% (73/82)   \u001b[K\r",
        "remote: Compressing objects:  90% (74/82)   \u001b[K\r",
        "remote: Compressing objects:  91% (75/82)   \u001b[K\r",
        "remote: Compressing objects:  92% (76/82)   \u001b[K\r",
        "remote: Compressing objects:  93% (77/82)   \u001b[K\r",
        "remote: Compressing objects:  95% (78/82)   \u001b[K\r",
        "remote: Compressing objects:  96% (79/82)   \u001b[K\r",
        "remote: Compressing objects:  97% (80/82)   \u001b[K\r",
        "remote: Compressing objects:  98% (81/82)   \u001b[K\r",
        "remote: Compressing objects: 100% (82/82)   \u001b[K\r",
        "remote: Compressing objects: 100% (82/82), done.\u001b[K\r\n"
       ]
      },
      {
       "output_type": "stream",
       "stream": "stdout",
       "text": [
        "Receiving objects:   0% (1/96839)   \r"
       ]
      },
      {
       "output_type": "stream",
       "stream": "stdout",
       "text": [
        "Receiving objects:   0% (838/96839), 180.00 KiB | 163 KiB/s   \r"
       ]
      },
      {
       "output_type": "stream",
       "stream": "stdout",
       "text": [
        "Receiving objects:   1% (969/96839), 180.00 KiB | 163 KiB/s   \r"
       ]
      },
      {
       "output_type": "stream",
       "stream": "stdout",
       "text": [
        "Receiving objects:   2% (1937/96839), 356.00 KiB | 220 KiB/s   \r"
       ]
      },
      {
       "output_type": "stream",
       "stream": "stdout",
       "text": [
        "Receiving objects:   2% (2517/96839), 532.00 KiB | 248 KiB/s   \r"
       ]
      },
      {
       "output_type": "stream",
       "stream": "stdout",
       "text": [
        "Receiving objects:   3% (2906/96839), 532.00 KiB | 248 KiB/s   \r"
       ]
      },
      {
       "output_type": "stream",
       "stream": "stdout",
       "text": [
        "Receiving objects:   4% (3874/96839), 724.00 KiB | 271 KiB/s   \r"
       ]
      },
      {
       "output_type": "stream",
       "stream": "stdout",
       "text": [
        "Receiving objects:   4% (4028/96839), 724.00 KiB | 271 KiB/s   \r"
       ]
      },
      {
       "output_type": "stream",
       "stream": "stdout",
       "text": [
        "Receiving objects:   5% (4842/96839), 916.00 KiB | 281 KiB/s   \r"
       ]
      },
      {
       "output_type": "stream",
       "stream": "stdout",
       "text": [
        "Receiving objects:   6% (5811/96839), 1.11 MiB | 302 KiB/s   \r"
       ]
      },
      {
       "output_type": "stream",
       "stream": "stdout",
       "text": [
        "Receiving objects:   6% (5934/96839), 1.11 MiB | 302 KiB/s   \r"
       ]
      },
      {
       "output_type": "stream",
       "stream": "stdout",
       "text": [
        "Receiving objects:   7% (6779/96839), 1.36 MiB | 321 KiB/s   \r"
       ]
      },
      {
       "output_type": "stream",
       "stream": "stdout",
       "text": [
        "Receiving objects:   8% (7748/96839), 1.63 MiB | 338 KiB/s   \r"
       ]
      },
      {
       "output_type": "stream",
       "stream": "stdout",
       "text": [
        "Receiving objects:   8% (8211/96839), 1.63 MiB | 338 KiB/s   \r"
       ]
      },
      {
       "output_type": "stream",
       "stream": "stdout",
       "text": [
        "Receiving objects:   9% (8716/96839), 1.63 MiB | 338 KiB/s   \r"
       ]
      },
      {
       "output_type": "stream",
       "stream": "stdout",
       "text": [
        "Receiving objects:  10% (9684/96839), 1.93 MiB | 388 KiB/s   \r"
       ]
      },
      {
       "output_type": "stream",
       "stream": "stdout",
       "text": [
        "Receiving objects:  10% (10510/96839), 2.19 MiB | 420 KiB/s   \r"
       ]
      },
      {
       "output_type": "stream",
       "stream": "stdout",
       "text": [
        "Receiving objects:  11% (10653/96839), 2.19 MiB | 420 KiB/s   \r"
       ]
      },
      {
       "output_type": "stream",
       "stream": "stdout",
       "text": [
        "Receiving objects:  12% (11621/96839), 2.19 MiB | 420 KiB/s   \r"
       ]
      },
      {
       "output_type": "stream",
       "stream": "stdout",
       "text": [
        "Receiving objects:  13% (12590/96839), 2.54 MiB | 453 KiB/s   \r"
       ]
      },
      {
       "output_type": "stream",
       "stream": "stdout",
       "text": [
        "Receiving objects:  14% (13558/96839), 2.54 MiB | 453 KiB/s   \r"
       ]
      },
      {
       "output_type": "stream",
       "stream": "stdout",
       "text": [
        "Receiving objects:  14% (14032/96839), 2.97 MiB | 508 KiB/s   \r"
       ]
      },
      {
       "output_type": "stream",
       "stream": "stdout",
       "text": [
        "Receiving objects:  15% (14526/96839), 2.97 MiB | 508 KiB/s   \r"
       ]
      },
      {
       "output_type": "stream",
       "stream": "stdout",
       "text": [
        "Receiving objects:  16% (15495/96839), 3.47 MiB | 572 KiB/s   \r",
        "Receiving objects:  16% (15566/96839), 3.47 MiB | 572 KiB/s   \r"
       ]
      },
      {
       "output_type": "stream",
       "stream": "stdout",
       "text": [
        "Receiving objects:  17% (16463/96839), 4.04 MiB | 661 KiB/s   \r"
       ]
      },
      {
       "output_type": "stream",
       "stream": "stdout",
       "text": [
        "Receiving objects:  17% (17318/96839), 4.71 MiB | 756 KiB/s   \r"
       ]
      },
      {
       "output_type": "stream",
       "stream": "stdout",
       "text": [
        "Receiving objects:  17% (17390/96839), 6.39 MiB | 1.01 MiB/s   \r"
       ]
      },
      {
       "output_type": "stream",
       "stream": "stdout",
       "text": [
        "Receiving objects:  18% (17432/96839), 7.40 MiB | 1.17 MiB/s   \r"
       ]
      },
      {
       "output_type": "stream",
       "stream": "stdout",
       "text": [
        "Receiving objects:  18% (17660/96839), 8.42 MiB | 1.33 MiB/s   \r"
       ]
      },
      {
       "output_type": "stream",
       "stream": "stdout",
       "text": [
        "Receiving objects:  18% (17826/96839), 10.43 MiB | 1.62 MiB/s   \r"
       ]
      },
      {
       "output_type": "stream",
       "stream": "stdout",
       "text": [
        "Receiving objects:  19% (18400/96839), 11.39 MiB | 1.74 MiB/s   \r"
       ]
      },
      {
       "output_type": "stream",
       "stream": "stdout",
       "text": [
        "Receiving objects:  20% (19368/96839), 11.39 MiB | 1.74 MiB/s   \r"
       ]
      },
      {
       "output_type": "stream",
       "stream": "stdout",
       "text": [
        "Receiving objects:  21% (20337/96839), 12.39 MiB | 1.83 MiB/s   \r"
       ]
      },
      {
       "output_type": "stream",
       "stream": "stdout",
       "text": [
        "Receiving objects:  21% (21161/96839), 12.39 MiB | 1.83 MiB/s   \r"
       ]
      },
      {
       "output_type": "stream",
       "stream": "stdout",
       "text": [
        "Receiving objects:  22% (21305/96839), 12.39 MiB | 1.83 MiB/s   \r"
       ]
      },
      {
       "output_type": "stream",
       "stream": "stdout",
       "text": [
        "Receiving objects:  22% (21760/96839), 13.82 MiB | 1.66 MiB/s   \r"
       ]
      },
      {
       "output_type": "stream",
       "stream": "stdout",
       "text": [
        "Receiving objects:  22% (21963/96839), 13.88 MiB | 1.49 MiB/s   \r"
       ]
      },
      {
       "output_type": "stream",
       "stream": "stdout",
       "text": [
        "Receiving objects:  22% (22221/96839), 14.14 MiB | 1.12 MiB/s   \r"
       ]
      },
      {
       "output_type": "stream",
       "stream": "stdout",
       "text": [
        "Receiving objects:  23% (22273/96839), 14.14 MiB | 1.12 MiB/s   \r"
       ]
      },
      {
       "output_type": "stream",
       "stream": "stdout",
       "text": [
        "Receiving objects:  23% (23228/96839), 14.57 MiB | 820 KiB/s   \r",
        "Receiving objects:  24% (23242/96839), 14.57 MiB | 820 KiB/s   \r"
       ]
      },
      {
       "output_type": "stream",
       "stream": "stdout",
       "text": [
        "Receiving objects:  24% (23563/96839), 15.26 MiB | 562 KiB/s   \r"
       ]
      },
      {
       "output_type": "stream",
       "stream": "stdout",
       "text": [
        "Receiving objects:  25% (24210/96839), 15.64 MiB | 437 KiB/s   \r"
       ]
      },
      {
       "output_type": "stream",
       "stream": "stdout",
       "text": [
        "Receiving objects:  25% (24276/96839), 16.49 MiB | 561 KiB/s   \r"
       ]
      },
      {
       "output_type": "stream",
       "stream": "stdout",
       "text": [
        "Receiving objects:  25% (24281/96839), 16.95 MiB | 641 KiB/s   \r"
       ]
      },
      {
       "output_type": "stream",
       "stream": "stdout",
       "text": [
        "Receiving objects:  25% (24393/96839), 18.11 MiB | 814 KiB/s   \r"
       ]
      },
      {
       "output_type": "stream",
       "stream": "stdout",
       "text": [
        "Receiving objects:  26% (25179/96839), 18.80 MiB | 923 KiB/s   \r"
       ]
      },
      {
       "output_type": "stream",
       "stream": "stdout",
       "text": [
        "Receiving objects:  27% (26147/96839), 18.80 MiB | 923 KiB/s   \r"
       ]
      },
      {
       "output_type": "stream",
       "stream": "stdout",
       "text": [
        "Receiving objects:  28% (27115/96839), 18.80 MiB | 923 KiB/s   \r",
        "Receiving objects:  28% (27486/96839), 19.55 MiB | 1.00 MiB/s   \r"
       ]
      },
      {
       "output_type": "stream",
       "stream": "stdout",
       "text": [
        "Receiving objects:  29% (28084/96839), 19.55 MiB | 1.00 MiB/s   \r"
       ]
      },
      {
       "output_type": "stream",
       "stream": "stdout",
       "text": [
        "Receiving objects:  30% (29052/96839), 19.55 MiB | 1.00 MiB/s   \r"
       ]
      },
      {
       "output_type": "stream",
       "stream": "stdout",
       "text": [
        "Receiving objects:  31% (30021/96839), 19.55 MiB | 1.00 MiB/s   \r"
       ]
      },
      {
       "output_type": "stream",
       "stream": "stdout",
       "text": [
        "Receiving objects:  32% (30989/96839), 19.55 MiB | 1.00 MiB/s   \r"
       ]
      },
      {
       "output_type": "stream",
       "stream": "stdout",
       "text": [
        "Receiving objects:  32% (31754/96839), 20.81 MiB | 1.12 MiB/s   \r"
       ]
      },
      {
       "output_type": "stream",
       "stream": "stdout",
       "text": [
        "Receiving objects:  33% (31957/96839), 20.81 MiB | 1.12 MiB/s   \r"
       ]
      },
      {
       "output_type": "stream",
       "stream": "stdout",
       "text": [
        "Receiving objects:  34% (32926/96839), 20.81 MiB | 1.12 MiB/s   \r"
       ]
      },
      {
       "output_type": "stream",
       "stream": "stdout",
       "text": [
        "Receiving objects:  35% (33894/96839), 21.17 MiB | 1.10 MiB/s   \r"
       ]
      },
      {
       "output_type": "stream",
       "stream": "stdout",
       "text": [
        "Receiving objects:  36% (34863/96839), 21.17 MiB | 1.10 MiB/s   \r"
       ]
      },
      {
       "output_type": "stream",
       "stream": "stdout",
       "text": [
        "Receiving objects:  36% (35541/96839), 21.17 MiB | 1.10 MiB/s   \r"
       ]
      },
      {
       "output_type": "stream",
       "stream": "stdout",
       "text": [
        "Receiving objects:  37% (35831/96839), 21.53 MiB | 1.09 MiB/s   \r"
       ]
      },
      {
       "output_type": "stream",
       "stream": "stdout",
       "text": [
        "Receiving objects:  38% (36799/96839), 21.53 MiB | 1.09 MiB/s   \r"
       ]
      },
      {
       "output_type": "stream",
       "stream": "stdout",
       "text": [
        "Receiving objects:  38% (37615/96839), 21.89 MiB | 1.07 MiB/s   \r"
       ]
      },
      {
       "output_type": "stream",
       "stream": "stdout",
       "text": [
        "Receiving objects:  38% (37632/96839), 22.96 MiB | 941 KiB/s   \r"
       ]
      },
      {
       "output_type": "stream",
       "stream": "stdout",
       "text": [
        "Receiving objects:  39% (37768/96839), 23.32 MiB | 853 KiB/s   \r"
       ]
      },
      {
       "output_type": "stream",
       "stream": "stdout",
       "text": [
        "Receiving objects:  39% (38133/96839), 23.32 MiB | 853 KiB/s   \r"
       ]
      },
      {
       "output_type": "stream",
       "stream": "stdout",
       "text": [
        "Receiving objects:  40% (38736/96839), 23.68 MiB | 732 KiB/s   \r"
       ]
      },
      {
       "output_type": "stream",
       "stream": "stdout",
       "text": [
        "Receiving objects:  40% (39474/96839), 24.04 MiB | 731 KiB/s   \r"
       ]
      },
      {
       "output_type": "stream",
       "stream": "stdout",
       "text": [
        "Receiving objects:  41% (39704/96839), 24.40 MiB | 730 KiB/s   \r"
       ]
      },
      {
       "output_type": "stream",
       "stream": "stdout",
       "text": [
        "Receiving objects:  41% (40563/96839), 24.77 MiB | 731 KiB/s   \r"
       ]
      },
      {
       "output_type": "stream",
       "stream": "stdout",
       "text": [
        "Receiving objects:  42% (40673/96839), 25.13 MiB | 731 KiB/s   \r"
       ]
      },
      {
       "output_type": "stream",
       "stream": "stdout",
       "text": [
        "Receiving objects:  43% (41641/96839), 25.13 MiB | 731 KiB/s   \r"
       ]
      },
      {
       "output_type": "stream",
       "stream": "stdout",
       "text": [
        "Receiving objects:  44% (42610/96839), 25.49 MiB | 731 KiB/s   \r"
       ]
      },
      {
       "output_type": "stream",
       "stream": "stdout",
       "text": [
        "Receiving objects:  45% (43578/96839), 25.49 MiB | 731 KiB/s   \r"
       ]
      },
      {
       "output_type": "stream",
       "stream": "stdout",
       "text": [
        "Receiving objects:  45% (43720/96839), 25.85 MiB | 731 KiB/s   \r"
       ]
      },
      {
       "output_type": "stream",
       "stream": "stdout",
       "text": [
        "Receiving objects:  45% (43735/96839), 26.21 MiB | 731 KiB/s   \r"
       ]
      },
      {
       "output_type": "stream",
       "stream": "stdout",
       "text": [
        "Receiving objects:  45% (43740/96839), 27.29 MiB | 731 KiB/s   \r"
       ]
      },
      {
       "output_type": "stream",
       "stream": "stdout",
       "text": [
        "Receiving objects:  45% (43748/96839), 27.95 MiB | 716 KiB/s   \r"
       ]
      },
      {
       "output_type": "stream",
       "stream": "stdout",
       "text": [
        "Receiving objects:  45% (43834/96839), 28.38 MiB | 731 KiB/s   \r"
       ]
      },
      {
       "output_type": "stream",
       "stream": "stdout",
       "text": [
        "Receiving objects:  46% (44546/96839), 29.10 MiB | 731 KiB/s   \r"
       ]
      },
      {
       "output_type": "stream",
       "stream": "stdout",
       "text": [
        "Receiving objects:  47% (45515/96839), 29.10 MiB | 731 KiB/s   \r"
       ]
      },
      {
       "output_type": "stream",
       "stream": "stdout",
       "text": [
        "Receiving objects:  47% (46175/96839), 29.10 MiB | 731 KiB/s   \r"
       ]
      },
      {
       "output_type": "stream",
       "stream": "stdout",
       "text": [
        "Receiving objects:  48% (46483/96839), 29.10 MiB | 731 KiB/s   \r"
       ]
      },
      {
       "output_type": "stream",
       "stream": "stdout",
       "text": [
        "Receiving objects:  49% (47452/96839), 29.46 MiB | 731 KiB/s   \r"
       ]
      },
      {
       "output_type": "stream",
       "stream": "stdout",
       "text": [
        "Receiving objects:  50% (48420/96839), 29.46 MiB | 731 KiB/s   \r"
       ]
      },
      {
       "output_type": "stream",
       "stream": "stdout",
       "text": [
        "Receiving objects:  51% (49388/96839), 29.46 MiB | 731 KiB/s   \r"
       ]
      },
      {
       "output_type": "stream",
       "stream": "stdout",
       "text": [
        "Receiving objects:  52% (50357/96839), 29.82 MiB | 730 KiB/s   \r"
       ]
      },
      {
       "output_type": "stream",
       "stream": "stdout",
       "text": [
        "Receiving objects:  52% (50871/96839), 29.82 MiB | 730 KiB/s   \r"
       ]
      },
      {
       "output_type": "stream",
       "stream": "stdout",
       "text": [
        "Receiving objects:  53% (51325/96839), 30.18 MiB | 731 KiB/s   \r"
       ]
      },
      {
       "output_type": "stream",
       "stream": "stdout",
       "text": [
        "Receiving objects:  54% (52294/96839), 30.18 MiB | 731 KiB/s   \r"
       ]
      },
      {
       "output_type": "stream",
       "stream": "stdout",
       "text": [
        "Receiving objects:  55% (53262/96839), 30.55 MiB | 732 KiB/s   \r"
       ]
      },
      {
       "output_type": "stream",
       "stream": "stdout",
       "text": [
        "Receiving objects:  55% (53762/96839), 30.55 MiB | 732 KiB/s   \r"
       ]
      },
      {
       "output_type": "stream",
       "stream": "stdout",
       "text": [
        "Receiving objects:  56% (54230/96839), 30.55 MiB | 732 KiB/s   \r"
       ]
      },
      {
       "output_type": "stream",
       "stream": "stdout",
       "text": [
        "Receiving objects:  57% (55199/96839), 30.90 MiB | 731 KiB/s   \r"
       ]
      },
      {
       "output_type": "stream",
       "stream": "stdout",
       "text": [
        "Receiving objects:  58% (56167/96839), 31.27 MiB | 747 KiB/s   \r"
       ]
      },
      {
       "output_type": "stream",
       "stream": "stdout",
       "text": [
        "Receiving objects:  58% (56357/96839), 31.27 MiB | 747 KiB/s   \r"
       ]
      },
      {
       "output_type": "stream",
       "stream": "stdout",
       "text": [
        "Receiving objects:  59% (57136/96839), 31.27 MiB | 747 KiB/s   \r"
       ]
      },
      {
       "output_type": "stream",
       "stream": "stdout",
       "text": [
        "Receiving objects:  60% (58104/96839), 31.98 MiB | 765 KiB/s   \r"
       ]
      },
      {
       "output_type": "stream",
       "stream": "stdout",
       "text": [
        "Receiving objects:  61% (59072/96839), 31.98 MiB | 765 KiB/s   \r"
       ]
      },
      {
       "output_type": "stream",
       "stream": "stdout",
       "text": [
        "Receiving objects:  61% (59097/96839), 31.98 MiB | 765 KiB/s   \r"
       ]
      },
      {
       "output_type": "stream",
       "stream": "stdout",
       "text": [
        "Receiving objects:  62% (60041/96839), 32.34 MiB | 731 KiB/s   \r"
       ]
      },
      {
       "output_type": "stream",
       "stream": "stdout",
       "text": [
        "Receiving objects:  63% (61009/96839), 32.70 MiB | 731 KiB/s   \r"
       ]
      },
      {
       "output_type": "stream",
       "stream": "stdout",
       "text": [
        "Receiving objects:  63% (61187/96839), 32.70 MiB | 731 KiB/s   \r"
       ]
      },
      {
       "output_type": "stream",
       "stream": "stdout",
       "text": [
        "Receiving objects:  63% (61364/96839), 33.42 MiB | 731 KiB/s   \r"
       ]
      },
      {
       "output_type": "stream",
       "stream": "stdout",
       "text": [
        "Receiving objects:  64% (61977/96839), 33.78 MiB | 730 KiB/s   \r"
       ]
      },
      {
       "output_type": "stream",
       "stream": "stdout",
       "text": [
        "Receiving objects:  65% (62946/96839), 34.14 MiB | 731 KiB/s   \r"
       ]
      },
      {
       "output_type": "stream",
       "stream": "stdout",
       "text": [
        "Receiving objects:  66% (63914/96839), 34.14 MiB | 731 KiB/s   \r"
       ]
      },
      {
       "output_type": "stream",
       "stream": "stdout",
       "text": [
        "Receiving objects:  66% (64202/96839), 34.14 MiB | 731 KiB/s   \r"
       ]
      },
      {
       "output_type": "stream",
       "stream": "stdout",
       "text": [
        "Receiving objects:  67% (64883/96839), 34.50 MiB | 729 KiB/s   \r"
       ]
      },
      {
       "output_type": "stream",
       "stream": "stdout",
       "text": [
        "Receiving objects:  68% (65851/96839), 34.86 MiB | 731 KiB/s   \r"
       ]
      },
      {
       "output_type": "stream",
       "stream": "stdout",
       "text": [
        "Receiving objects:  68% (66395/96839), 34.86 MiB | 731 KiB/s   \r"
       ]
      },
      {
       "output_type": "stream",
       "stream": "stdout",
       "text": [
        "Receiving objects:  69% (66819/96839), 34.86 MiB | 731 KiB/s   \r"
       ]
      },
      {
       "output_type": "stream",
       "stream": "stdout",
       "text": [
        "Receiving objects:  70% (67788/96839), 35.22 MiB | 731 KiB/s   \r"
       ]
      },
      {
       "output_type": "stream",
       "stream": "stdout",
       "text": [
        "Receiving objects:  71% (68756/96839), 35.22 MiB | 731 KiB/s   \r"
       ]
      },
      {
       "output_type": "stream",
       "stream": "stdout",
       "text": [
        "Receiving objects:  72% (69725/96839), 35.58 MiB | 731 KiB/s   \r"
       ]
      },
      {
       "output_type": "stream",
       "stream": "stdout",
       "text": [
        "Receiving objects:  72% (70455/96839), 35.58 MiB | 731 KiB/s   \r"
       ]
      },
      {
       "output_type": "stream",
       "stream": "stdout",
       "text": [
        "Receiving objects:  73% (70693/96839), 35.58 MiB | 731 KiB/s   \r"
       ]
      },
      {
       "output_type": "stream",
       "stream": "stdout",
       "text": [
        "Receiving objects:  74% (71661/96839), 35.94 MiB | 731 KiB/s   \r"
       ]
      },
      {
       "output_type": "stream",
       "stream": "stdout",
       "text": [
        "Receiving objects:  75% (72630/96839), 36.30 MiB | 731 KiB/s   \r"
       ]
      },
      {
       "output_type": "stream",
       "stream": "stdout",
       "text": [
        "Receiving objects:  76% (73598/96839), 36.30 MiB | 731 KiB/s   \r"
       ]
      },
      {
       "output_type": "stream",
       "stream": "stdout",
       "text": [
        "Receiving objects:  76% (73882/96839), 36.30 MiB | 731 KiB/s   \r"
       ]
      },
      {
       "output_type": "stream",
       "stream": "stdout",
       "text": [
        "Receiving objects:  77% (74567/96839), 36.30 MiB | 731 KiB/s   \r"
       ]
      },
      {
       "output_type": "stream",
       "stream": "stdout",
       "text": [
        "Receiving objects:  78% (75535/96839), 36.30 MiB | 731 KiB/s   \r"
       ]
      },
      {
       "output_type": "stream",
       "stream": "stdout",
       "text": [
        "Receiving objects:  79% (76503/96839), 36.66 MiB | 731 KiB/s   \r"
       ]
      },
      {
       "output_type": "stream",
       "stream": "stdout",
       "text": [
        "Receiving objects:  79% (77171/96839), 36.86 MiB | 486 KiB/s   \r"
       ]
      },
      {
       "output_type": "stream",
       "stream": "stdout",
       "text": [
        "Receiving objects:  80% (77472/96839), 36.86 MiB | 486 KiB/s   \r"
       ]
      },
      {
       "output_type": "stream",
       "stream": "stdout",
       "text": [
        "Receiving objects:  80% (77519/96839), 37.43 MiB | 519 KiB/s   \r"
       ]
      },
      {
       "output_type": "stream",
       "stream": "stdout",
       "text": [
        "Receiving objects:  81% (78440/96839), 37.43 MiB | 519 KiB/s   \r"
       ]
      },
      {
       "output_type": "stream",
       "stream": "stdout",
       "text": [
        "Receiving objects:  82% (79408/96839), 37.43 MiB | 519 KiB/s   \r"
       ]
      },
      {
       "output_type": "stream",
       "stream": "stdout",
       "text": [
        "Receiving objects:  83% (80377/96839), 38.00 MiB | 553 KiB/s   \r"
       ]
      },
      {
       "output_type": "stream",
       "stream": "stdout",
       "text": [
        "Receiving objects:  84% (81345/96839), 38.00 MiB | 553 KiB/s   \r"
       ]
      },
      {
       "output_type": "stream",
       "stream": "stdout",
       "text": [
        "Receiving objects:  85% (82314/96839), 38.00 MiB | 553 KiB/s   \r",
        "Receiving objects:  86% (83282/96839), 38.00 MiB | 553 KiB/s   \r"
       ]
      },
      {
       "output_type": "stream",
       "stream": "stdout",
       "text": [
        "Receiving objects:  86% (84039/96839), 38.00 MiB | 553 KiB/s   \r",
        "Receiving objects:  87% (84250/96839), 38.00 MiB | 553 KiB/s   \r"
       ]
      },
      {
       "output_type": "stream",
       "stream": "stdout",
       "text": [
        "Receiving objects:  88% (85219/96839), 38.46 MiB | 567 KiB/s   \r",
        "Receiving objects:  89% (86187/96839), 38.46 MiB | 567 KiB/s   \r",
        "Receiving objects:  90% (87156/96839), 38.46 MiB | 567 KiB/s   \r",
        "Receiving objects:  91% (88124/96839), 38.46 MiB | 567 KiB/s   \r",
        "Receiving objects:  92% (89092/96839), 38.46 MiB | 567 KiB/s   \r",
        "Receiving objects:  93% (90061/96839), 38.46 MiB | 567 KiB/s   \r"
       ]
      },
      {
       "output_type": "stream",
       "stream": "stdout",
       "text": [
        "Receiving objects:  94% (91029/96839), 38.46 MiB | 567 KiB/s   \r"
       ]
      },
      {
       "output_type": "stream",
       "stream": "stdout",
       "text": [
        "Receiving objects:  95% (91998/96839), 38.46 MiB | 567 KiB/s   \r"
       ]
      },
      {
       "output_type": "stream",
       "stream": "stdout",
       "text": [
        "Receiving objects:  95% (92335/96839), 40.21 MiB | 726 KiB/s   \r"
       ]
      },
      {
       "output_type": "stream",
       "stream": "stdout",
       "text": [
        "Receiving objects:  96% (92966/96839), 40.21 MiB | 726 KiB/s   \r"
       ]
      },
      {
       "output_type": "stream",
       "stream": "stdout",
       "text": [
        "Receiving objects:  97% (93934/96839), 40.21 MiB | 726 KiB/s   \r"
       ]
      },
      {
       "output_type": "stream",
       "stream": "stdout",
       "text": [
        "Receiving objects:  98% (94903/96839), 40.21 MiB | 726 KiB/s   \r"
       ]
      },
      {
       "output_type": "stream",
       "stream": "stdout",
       "text": [
        "Receiving objects:  99% (95871/96839), 40.57 MiB | 726 KiB/s   \r"
       ]
      },
      {
       "output_type": "stream",
       "stream": "stdout",
       "text": [
        "Receiving objects:  99% (96648/96839), 40.57 MiB | 726 KiB/s   \r"
       ]
      },
      {
       "output_type": "stream",
       "stream": "stdout",
       "text": [
        "remote: Total 96839 (delta 5), reused 31 (delta 0)\u001b[K\r\n",
        "Receiving objects: 100% (96839/96839), 40.57 MiB | 726 KiB/s   \r",
        "Receiving objects: 100% (96839/96839), 40.92 MiB | 726 KiB/s, done.\r\n"
       ]
      },
      {
       "output_type": "stream",
       "stream": "stdout",
       "text": [
        "Resolving deltas:   0% (0/70554)   \r"
       ]
      },
      {
       "output_type": "stream",
       "stream": "stdout",
       "text": [
        "Resolving deltas:   1% (733/70554)   \r"
       ]
      },
      {
       "output_type": "stream",
       "stream": "stdout",
       "text": [
        "Resolving deltas:   2% (1419/70554)   \r"
       ]
      },
      {
       "output_type": "stream",
       "stream": "stdout",
       "text": [
        "Resolving deltas:   3% (2142/70554)   \r",
        "Resolving deltas:   4% (2826/70554)   \r"
       ]
      },
      {
       "output_type": "stream",
       "stream": "stdout",
       "text": [
        "Resolving deltas:   5% (3633/70554)   \r"
       ]
      },
      {
       "output_type": "stream",
       "stream": "stdout",
       "text": [
        "Resolving deltas:   6% (4249/70554)   \r",
        "Resolving deltas:   7% (4953/70554)   \r"
       ]
      },
      {
       "output_type": "stream",
       "stream": "stdout",
       "text": [
        "Resolving deltas:   8% (5645/70554)   \r"
       ]
      },
      {
       "output_type": "stream",
       "stream": "stdout",
       "text": [
        "Resolving deltas:   9% (6351/70554)   \r",
        "Resolving deltas:  10% (7096/70554)   \r"
       ]
      },
      {
       "output_type": "stream",
       "stream": "stdout",
       "text": [
        "Resolving deltas:  11% (7763/70554)   \r"
       ]
      },
      {
       "output_type": "stream",
       "stream": "stdout",
       "text": [
        "Resolving deltas:  12% (8467/70554)   \r",
        "Resolving deltas:  13% (9176/70554)   \r"
       ]
      },
      {
       "output_type": "stream",
       "stream": "stdout",
       "text": [
        "Resolving deltas:  14% (9882/70554)   \r"
       ]
      },
      {
       "output_type": "stream",
       "stream": "stdout",
       "text": [
        "Resolving deltas:  15% (10603/70554)   \r"
       ]
      },
      {
       "output_type": "stream",
       "stream": "stdout",
       "text": [
        "Resolving deltas:  16% (11402/70554)   \r",
        "Resolving deltas:  17% (11998/70554)   \r",
        "Resolving deltas:  18% (12712/70554)   \r"
       ]
      },
      {
       "output_type": "stream",
       "stream": "stdout",
       "text": [
        "Resolving deltas:  19% (13471/70554)   \r",
        "Resolving deltas:  20% (14138/70554)   \r",
        "Resolving deltas:  21% (14871/70554)   \r"
       ]
      },
      {
       "output_type": "stream",
       "stream": "stdout",
       "text": [
        "Resolving deltas:  22% (15647/70554)   \r",
        "Resolving deltas:  23% (16228/70554)   \r"
       ]
      },
      {
       "output_type": "stream",
       "stream": "stdout",
       "text": [
        "Resolving deltas:  24% (16960/70554)   \r"
       ]
      },
      {
       "output_type": "stream",
       "stream": "stdout",
       "text": [
        "Resolving deltas:  25% (17667/70554)   \r",
        "Resolving deltas:  26% (18345/70554)   \r"
       ]
      },
      {
       "output_type": "stream",
       "stream": "stdout",
       "text": [
        "Resolving deltas:  27% (19052/70554)   \r",
        "Resolving deltas:  28% (19812/70554)   \r"
       ]
      },
      {
       "output_type": "stream",
       "stream": "stdout",
       "text": [
        "Resolving deltas:  29% (20501/70554)   \r",
        "Resolving deltas:  30% (21176/70554)   \r",
        "Resolving deltas:  31% (21987/70554)   \r"
       ]
      },
      {
       "output_type": "stream",
       "stream": "stdout",
       "text": [
        "Resolving deltas:  32% (22580/70554)   \r"
       ]
      },
      {
       "output_type": "stream",
       "stream": "stdout",
       "text": [
        "Resolving deltas:  33% (23294/70554)   \r",
        "Resolving deltas:  33% (23382/70554)   \r"
       ]
      },
      {
       "output_type": "stream",
       "stream": "stdout",
       "text": [
        "Resolving deltas:  34% (24000/70554)   \r",
        "Resolving deltas:  35% (24710/70554)   \r"
       ]
      },
      {
       "output_type": "stream",
       "stream": "stdout",
       "text": [
        "Resolving deltas:  36% (25401/70554)   \r"
       ]
      },
      {
       "output_type": "stream",
       "stream": "stdout",
       "text": [
        "Resolving deltas:  37% (26164/70554)   \r",
        "Resolving deltas:  38% (26850/70554)   \r",
        "Resolving deltas:  39% (27534/70554)   \r"
       ]
      },
      {
       "output_type": "stream",
       "stream": "stdout",
       "text": [
        "Resolving deltas:  40% (28335/70554)   \r",
        "Resolving deltas:  41% (28930/70554)   \r",
        "Resolving deltas:  42% (29658/70554)   \r"
       ]
      },
      {
       "output_type": "stream",
       "stream": "stdout",
       "text": [
        "Resolving deltas:  43% (30413/70554)   \r"
       ]
      },
      {
       "output_type": "stream",
       "stream": "stdout",
       "text": [
        "Resolving deltas:  44% (31135/70554)   \r",
        "Resolving deltas:  45% (31771/70554)   \r"
       ]
      },
      {
       "output_type": "stream",
       "stream": "stdout",
       "text": [
        "Resolving deltas:  46% (32606/70554)   \r",
        "Resolving deltas:  47% (33161/70554)   \r",
        "Resolving deltas:  48% (33900/70554)   \r",
        "Resolving deltas:  49% (34606/70554)   \r"
       ]
      },
      {
       "output_type": "stream",
       "stream": "stdout",
       "text": [
        "Resolving deltas:  50% (35584/70554)   \r",
        "Resolving deltas:  51% (35995/70554)   \r",
        "Resolving deltas:  52% (36722/70554)   \r",
        "Resolving deltas:  53% (37424/70554)   \r"
       ]
      },
      {
       "output_type": "stream",
       "stream": "stdout",
       "text": [
        "Resolving deltas:  54% (38114/70554)   \r",
        "Resolving deltas:  55% (38818/70554)   \r"
       ]
      },
      {
       "output_type": "stream",
       "stream": "stdout",
       "text": [
        "Resolving deltas:  56% (39520/70554)   \r",
        "Resolving deltas:  57% (40365/70554)   \r",
        "Resolving deltas:  58% (40989/70554)   \r",
        "Resolving deltas:  59% (41627/70554)   \r",
        "Resolving deltas:  60% (42338/70554)   \r",
        "Resolving deltas:  61% (43121/70554)   \r"
       ]
      },
      {
       "output_type": "stream",
       "stream": "stdout",
       "text": [
        "Resolving deltas:  62% (43760/70554)   \r",
        "Resolving deltas:  63% (44511/70554)   \r",
        "Resolving deltas:  64% (45200/70554)   \r",
        "Resolving deltas:  65% (45893/70554)   \r",
        "Resolving deltas:  66% (46639/70554)   \r",
        "Resolving deltas:  67% (47309/70554)   \r",
        "Resolving deltas:  68% (47977/70554)   \r"
       ]
      },
      {
       "output_type": "stream",
       "stream": "stdout",
       "text": [
        "Resolving deltas:  69% (48719/70554)   \r",
        "Resolving deltas:  70% (49705/70554)   \r",
        "Resolving deltas:  71% (50186/70554)   \r",
        "Resolving deltas:  72% (50856/70554)   \r",
        "Resolving deltas:  73% (51523/70554)   \r"
       ]
      },
      {
       "output_type": "stream",
       "stream": "stdout",
       "text": [
        "Resolving deltas:  74% (52218/70554)   \r",
        "Resolving deltas:  75% (52926/70554)   \r",
        "Resolving deltas:  76% (53639/70554)   \r",
        "Resolving deltas:  77% (54331/70554)   \r"
       ]
      },
      {
       "output_type": "stream",
       "stream": "stdout",
       "text": [
        "Resolving deltas:  78% (55034/70554)   \r",
        "Resolving deltas:  79% (55856/70554)   \r",
        "Resolving deltas:  80% (56467/70554)   \r",
        "Resolving deltas:  81% (57261/70554)   \r",
        "Resolving deltas:  82% (57856/70554)   \r"
       ]
      },
      {
       "output_type": "stream",
       "stream": "stdout",
       "text": [
        "Resolving deltas:  83% (58565/70554)   \r",
        "Resolving deltas:  84% (59374/70554)   \r",
        "Resolving deltas:  85% (60114/70554)   \r",
        "Resolving deltas:  85% (60197/70554)   \r",
        "Resolving deltas:  86% (60690/70554)   \r"
       ]
      },
      {
       "output_type": "stream",
       "stream": "stdout",
       "text": [
        "Resolving deltas:  87% (61405/70554)   \r",
        "Resolving deltas:  88% (62100/70554)   \r",
        "Resolving deltas:  89% (62803/70554)   \r",
        "Resolving deltas:  90% (63504/70554)   \r",
        "Resolving deltas:  91% (64205/70554)   \r",
        "Resolving deltas:  92% (64928/70554)   \r",
        "Resolving deltas:  93% (65618/70554)   \r"
       ]
      },
      {
       "output_type": "stream",
       "stream": "stdout",
       "text": [
        "Resolving deltas:  94% (66606/70554)   \r",
        "Resolving deltas:  95% (67108/70554)   \r",
        "Resolving deltas:  96% (67737/70554)   \r",
        "Resolving deltas:  97% (68654/70554)   \r",
        "Resolving deltas:  98% (69148/70554)   \r",
        "Resolving deltas:  99% (69958/70554)   \r"
       ]
      },
      {
       "output_type": "stream",
       "stream": "stdout",
       "text": [
        "Resolving deltas: 100% (70554/70554)   \r",
        "Resolving deltas: 100% (70554/70554), done.\r\n"
       ]
      },
      {
       "output_type": "stream",
       "stream": "stdout",
       "text": [
        "/media/datos/Desarrollos/devel_example/ipython\n"
       ]
      },
      {
       "output_type": "stream",
       "stream": "stdout",
       "text": [
        "damianavila\tgit@github.com:damianavila/ipython.git (fetch)\r\n",
        "damianavila\tgit@github.com:damianavila/ipython.git (push)\r\n",
        "origin\tgit://github.com/ipython/ipython.git (fetch)\r\n",
        "origin\tgit://github.com/ipython/ipython.git (push)\r\n"
       ]
      }
     ],
     "prompt_number": 5
    },
    {
     "cell_type": "markdown",
     "metadata": {},
     "source": [
      "> **NOTE**: A lot of *git workflows* use `origin` to point to our fork and `upstream` to point to the project repo. But *I do not like* that configuration. It seems more natural to me to clone the project repo (the `origin` repo) and add a connection to my fork called `damianavila`... and the next steps take into consideration this last approach."
     ]
    },
    {
     "cell_type": "heading",
     "level": 2,
     "metadata": {},
     "source": [
      "Short cycle"
     ]
    },
    {
     "cell_type": "markdown",
     "metadata": {},
     "source": [
      "This short cycle just create a new *branch* to work on, make the needed changes in the source code and upload the local changes to our **Github** fork to finally submit a *pull-request*:"
     ]
    },
    {
     "cell_type": "markdown",
     "metadata": {},
     "source": [
      "* Set up the `master` and `development` branch names:"
     ]
    },
    {
     "cell_type": "code",
     "collapsed": false,
     "input": [
      "master_branch = \"master\"\n",
      "feature_branch = \"doc_post_serve\""
     ],
     "language": "python",
     "metadata": {},
     "outputs": [],
     "prompt_number": 6
    },
    {
     "cell_type": "markdown",
     "metadata": {},
     "source": [
      "* Create a new branch from `master`:"
     ]
    },
    {
     "cell_type": "code",
     "collapsed": false,
     "input": [
      "# Make sure we are in master branch\n",
      "!git checkout $master_branch\n",
      "\n",
      "# Pull the changes from origin/master\n",
      "!git pull $project_remote_name\n",
      "\n",
      "# Start a new branch to work on\n",
      "!git checkout -b $feature_branch\n",
      "\n",
      "# Check where we are\n",
      "!git status"
     ],
     "language": "python",
     "metadata": {},
     "outputs": [
      {
       "output_type": "stream",
       "stream": "stdout",
       "text": [
        "Ya est\u00e1 en \u00abmaster\u00bb\r\n"
       ]
      },
      {
       "output_type": "stream",
       "stream": "stdout",
       "text": [
        "Already up-to-date.\r\n"
       ]
      },
      {
       "output_type": "stream",
       "stream": "stdout",
       "text": [
        "Switched to a new branch 'doc_post_serve'\r\n"
       ]
      },
      {
       "output_type": "stream",
       "stream": "stdout",
       "text": [
        "# En la rama doc_post_serve\r\n",
        "nothing to commit, working directory clean\r\n"
       ]
      }
     ],
     "prompt_number": 7
    },
    {
     "cell_type": "markdown",
     "metadata": {},
     "source": [
      "* Make the changes you want to do:\n",
      "\n",
      "> **NOTE**: In this example, I will update the **IPython** docs about some details using the **IPython slides** and the `post-serve` post-processor (`IPython.nbconvert`)."
     ]
    },
    {
     "cell_type": "code",
     "collapsed": false,
     "input": [
      "# list the files structure to find the needed files\n",
      "%ls"
     ],
     "language": "python",
     "metadata": {},
     "outputs": [
      {
       "output_type": "stream",
       "stream": "stdout",
       "text": [
        "CONTRIBUTING.md  \u001b[0m\u001b[01;34mexamples\u001b[0m/   MANIFEST.in  setupbase.py  \u001b[01;32msetup.py\u001b[0m*\r\n",
        "COPYING.txt      \u001b[01;34mgit-hooks\u001b[0m/  README.rst   \u001b[01;32msetupegg.py\u001b[0m*  \u001b[01;34mtools\u001b[0m/\r\n",
        "\u001b[01;34mdocs\u001b[0m/            \u001b[01;34mIPython\u001b[0m/    \u001b[01;34mscripts\u001b[0m/     \u001b[01;34msetupext\u001b[0m/     tox.ini\r\n"
       ]
      }
     ],
     "prompt_number": 9
    },
    {
     "cell_type": "code",
     "collapsed": false,
     "input": [
      "%load docs/source/interactive/nbconvert.rst\n",
      "# After executing %load, a new cell containing the source code will be added.\n",
      "# Be sure to add the next line (with the proper path) to overwrite the file\n",
      "# with you changes.\n",
      "#\n",
      "# %%writefile docs/source/interactive/nbconvert.rst"
     ],
     "language": "python",
     "metadata": {},
     "outputs": [],
     "prompt_number": 10
    },
    {
     "cell_type": "code",
     "collapsed": false,
     "input": [
      "%%writefile docs/source/interactive/nbconvert.rst\n",
      ".. _nbconvert:\n",
      "\n",
      "Converting notebooks to other formats\n",
      "=====================================\n",
      "\n",
      "Newly added in the 1.0 release of IPython is the ``nbconvert`` tool, which \n",
      "allows you to convert an ``.ipynb`` notebook document file into various static \n",
      "formats. \n",
      "\n",
      "Currently, ``nbconvert`` is provided as a command line tool, run as a script \n",
      "using IPython. A direct export capability from within the \n",
      "IPython Notebook web app is planned. \n",
      "\n",
      "The command-line syntax to run the ``nbconvert`` script is::\n",
      "\n",
      "  $ ipython nbconvert --to FORMAT notebook.ipynb\n",
      "\n",
      "This will convert the IPython document file ``notebook.ipynb`` into the output \n",
      "format given by the ``FORMAT`` string.\n",
      "\n",
      "The default output format is html, for which the ``--to`` argument may be \n",
      "omitted::\n",
      "  \n",
      "  $ ipython nbconvert notebook.ipynb\n",
      "\n",
      "IPython provides a few templates for some output formats, and these can be\n",
      "specified via an additional ``--template`` argument.\n",
      "\n",
      "The currently supported export formats are:\n",
      "\n",
      "* ``--to html``\n",
      "\n",
      "  - ``--template full`` (default)\n",
      "  \n",
      "    A full static HTML render of the notebook.\n",
      "    This looks very similar to the interactive view.\n",
      "\n",
      "  - ``--template basic``\n",
      "  \n",
      "    Simplified HTML, useful for embedding in webpages, blogs, etc.\n",
      "    This excludes HTML headers.\n",
      "\n",
      "* ``--to latex``\n",
      "\n",
      "  Latex export.  This generates ``NOTEBOOK_NAME.tex`` file,\n",
      "  ready for export.  You can automatically run latex on it to generate a PDF\n",
      "  by adding ``--post PDF``.\n",
      "  \n",
      "  - ``--template article`` (default)\n",
      "  \n",
      "    Latex article, derived from Sphinx's howto template.\n",
      "\n",
      "  - ``--template book``\n",
      "  \n",
      "    Latex book, derived from Sphinx's manual template.\n",
      "\n",
      "  - ``--template basic``\n",
      "  \n",
      "    Very basic latex output - mainly meant as a starting point for custom templates.\n",
      "\n",
      "* ``--to slides``\n",
      "\n",
      "  This generates a Reveal.js HTML slideshow.\n",
      "  It must be served by an HTTP server. The easiest way to do this is adding\n",
      "  ``--post serve`` on the command-line. The ``--post serve`` post-processor \n",
      "  proxies Reveal.js requests to a CDN if no local Reveal.js library is present. \n",
      "  For low connectivity environments, just place the Reveal.js library in the \n",
      "  same directory where your_talk.slides.html is located or point to another \n",
      "  directory using the ``--reveal-prefix`` alias.\n",
      "\n",
      "* ``--to markdown``\n",
      "\n",
      "  Simple markdown output.  Markdown cells are unaffected,\n",
      "  and code cells are placed in triple-backtick (```````) blocks.\n",
      "\n",
      "* ``--to rst``\n",
      "\n",
      "  Basic reStructuredText output. Useful as a starting point for embedding notebooks\n",
      "  in Sphinx docs.\n",
      "\n",
      "* ``--to python``\n",
      "\n",
      "  Convert a notebook to an executable Python script.\n",
      "  This is the simplest way to get a Python script out of a notebook.\n",
      "  If there were any magics in the notebook, this may only be executable from\n",
      "  an IPython session.\n",
      "  \n",
      ".. note::\n",
      "\n",
      "  nbconvert uses pandoc_ to convert between various markup languages,\n",
      "  so pandoc is a dependency of most nbconvert transforms,\n",
      "  excluding Markdown and Python.\n",
      "\n",
      ".. _pandoc: http://johnmacfarlane.net/pandoc/\n",
      "\n",
      "The output file created by ``nbconvert`` will have the same base name as\n",
      "the notebook and will be placed in the current working directory. Any\n",
      "supporting files (graphics, etc) will be placed in a new directory with the\n",
      "same base name as the notebook, suffixed with ``_files``::\n",
      "\n",
      "  $ ipython nbconvert notebook.ipynb\n",
      "  $ ls\n",
      "  notebook.ipynb   notebook.html    notebook_files/\n",
      "\n",
      "For simple single-file output, such as html, markdown, etc.,\n",
      "the output may be sent to standard output with::\n",
      "    \n",
      "  $ ipython nbconvert --to markdown notebook.ipynb --stdout\n",
      "    \n",
      "Multiple notebooks can be specified from the command line::\n",
      "    \n",
      "  $ ipython nbconvert notebook*.ipynb\n",
      "  $ ipython nbconvert notebook1.ipynb notebook2.ipynb\n",
      "    \n",
      "or via a list in a configuration file, say ``mycfg.py``, containing the text::\n",
      "\n",
      "  c = get_config()\n",
      "  c.NbConvertApp.notebooks = [\"notebook1.ipynb\", \"notebook2.ipynb\"]\n",
      "\n",
      "and using the command::\n",
      "\n",
      "  $ ipython nbconvert --config mycfg.py\n",
      "\n",
      "\n",
      ".. _notebook_format:\n",
      "\n",
      "LaTeX citations\n",
      "---------------\n",
      "\n",
      "``nbconvert`` now has support for LaTeX citations. With this capability you\n",
      "can:\n",
      "\n",
      "* Manage citations using BibTeX.\n",
      "* Cite those citations in Markdown cells using HTML data attributes.\n",
      "* Have ``nbconvert`` generate proper LaTeX citations and run BibTeX.\n",
      "\n",
      "For an example of how this works, please see the citations example in\n",
      "the nbconvert-examples_ repository.\n",
      "\n",
      ".. _nbconvert-examples: https://github.com/ipython/nbconvert-examples\n",
      "\n",
      "Notebook JSON file format\n",
      "-------------------------\n",
      "\n",
      "Notebook documents are JSON files with an ``.ipynb`` extension, formatted\n",
      "as legibly as possible with minimal extra indentation and cell content broken\n",
      "across lines to make them reasonably friendly to use in version-control\n",
      "workflows.  You should be very careful if you ever manually edit this JSON\n",
      "data, as it is extremely easy to corrupt its internal structure and make the\n",
      "file impossible to load.  In general, you should consider the notebook as a\n",
      "file meant only to be edited by the IPython Notebook app itself, not for \n",
      "hand-editing.\n",
      "\n",
      ".. note::\n",
      "\n",
      "     Binary data such as figures are also saved directly in the JSON file.  \n",
      "     This provides convenient single-file portability, but means that the \n",
      "     files can be large; a ``diff`` of binary data is also not very \n",
      "     meaningful.  Since the binary blobs are encoded in a single line, they \n",
      "     affect only one line of the ``diff`` output, but they are typically very \n",
      "     long lines.  You can use the ``Cell | All Output | Clear`` menu option to \n",
      "     remove all output from a notebook prior to committing it to version \n",
      "     control, if this is a concern.\n",
      "\n",
      "The notebook server can also generate a pure Python version of your notebook, \n",
      "using the ``File | Download as`` menu option. The resulting ``.py`` file will \n",
      "contain all the code cells from your notebook verbatim, and all Markdown cells \n",
      "prepended with a comment marker.  The separation between code and Markdown\n",
      "cells is indicated with special comments and there is a header indicating the\n",
      "format version.  All output is removed when exporting to Python.\n",
      "\n",
      "As an example, consider a simple notebook called ``simple.ipynb`` which \n",
      "contains one Markdown cell, with the content ``The simplest notebook.``, one \n",
      "code input cell with the content ``print \"Hello, IPython!\"``, and the \n",
      "corresponding output.\n",
      "\n",
      "The contents of the notebook document ``simple.ipynb`` is the following JSON \n",
      "container::\n",
      "\n",
      "  {\n",
      "   \"metadata\": {\n",
      "    \"name\": \"simple\"\n",
      "   },\n",
      "   \"nbformat\": 3,\n",
      "   \"nbformat_minor\": 0,\n",
      "   \"worksheets\": [\n",
      "    {\n",
      "     \"cells\": [\n",
      "      {\n",
      "       \"cell_type\": \"markdown\",\n",
      "       \"metadata\": {},\n",
      "       \"source\": \"The simplest notebook.\"\n",
      "      },\n",
      "      {\n",
      "       \"cell_type\": \"code\",\n",
      "       \"collapsed\": false,\n",
      "       \"input\": \"print \\\"Hello, IPython\\\"\",\n",
      "       \"language\": \"python\",\n",
      "       \"metadata\": {},\n",
      "       \"outputs\": [\n",
      "        {\n",
      "         \"output_type\": \"stream\",\n",
      "         \"stream\": \"stdout\",\n",
      "         \"text\": \"Hello, IPython\\n\"\n",
      "        }\n",
      "       ],\n",
      "       \"prompt_number\": 1\n",
      "      }\n",
      "     ],\n",
      "     \"metadata\": {}\n",
      "    }\n",
      "   ]\n",
      "  }\n",
      "\n",
      "\n",
      "The corresponding Python script is::\n",
      "\n",
      "  # -*- coding: utf-8 -*-\n",
      "  # <nbformat>3.0</nbformat>\n",
      "\n",
      "  # <markdowncell>\n",
      "\n",
      "  # The simplest notebook.\n",
      "\n",
      "  # <codecell>\n",
      "\n",
      "  print \"Hello, IPython\"\n",
      "\n",
      "Note that indeed the output of the code cell, which is present in the JSON \n",
      "container, has been removed in the ``.py`` script.\n",
      "\n"
     ],
     "language": "python",
     "metadata": {},
     "outputs": [
      {
       "output_type": "stream",
       "stream": "stdout",
       "text": [
        "Overwriting docs/source/interactive/nbconvert.rst\n"
       ]
      }
     ],
     "prompt_number": 11
    },
    {
     "cell_type": "markdown",
     "metadata": {},
     "source": [
      "* Check the status and diff of your modifications:"
     ]
    },
    {
     "cell_type": "code",
     "collapsed": false,
     "input": [
      "# Check status\n",
      "!git status"
     ],
     "language": "python",
     "metadata": {},
     "outputs": [
      {
       "output_type": "stream",
       "stream": "stdout",
       "text": [
        "# En la rama doc_post_serve\r\n",
        "# Cambios no preparados para el commit:\r\n",
        "#   (use \u00abgit add <archivo>...\u00bb para actualizar lo que se ejecutar\u00e1)\r\n",
        "#   (use \u00abgit checkout -- <archivo>...\u00ab para descartar cambios en le directorio de trabajo)\r\n",
        "#\r\n",
        "#\tmodificado:   docs/source/interactive/nbconvert.rst\r\n",
        "#\r\n",
        "no hay cambios agregados al commit (use \u00abgit add\u00bb o \u00abgit commit -a\u00bb)\r\n"
       ]
      }
     ],
     "prompt_number": 12
    },
    {
     "cell_type": "code",
     "collapsed": false,
     "input": [
      "# See the diff\n",
      "!git diff"
     ],
     "language": "python",
     "metadata": {},
     "outputs": [
      {
       "output_type": "stream",
       "stream": "stdout",
       "text": [
        "diff --git a/docs/source/interactive/nbconvert.rst b/docs/source/interactive/nbconvert.rst\r\n",
        "index 1789a62..610edf0 100644\r\n",
        "--- a/docs/source/interactive/nbconvert.rst\r\n",
        "+++ b/docs/source/interactive/nbconvert.rst\r\n",
        "@@ -61,8 +61,12 @@ The currently supported export formats are:\r\n",
        " * ``--to slides``\r\n",
        " \r\n",
        "   This generates a Reveal.js HTML slideshow.\r\n",
        "-  It must be served by an HTTP server.  The easiest way to do this is adding\r\n",
        "-  ``--post serve`` on the command-line.\r\n",
        "+  It must be served by an HTTP server. The easiest way to do this is adding\r\n",
        "+  ``--post serve`` on the command-line. The ``--post serve`` post-processor \r\n",
        "+  proxies Reveal.js requests to a CDN if no local Reveal.js library is present. \r\n",
        "+  For low connectivity environments, just place the Reveal.js library in the \r\n",
        "+  same directory where your_talk.slides.html is located or point to another \r\n",
        "+  directory using the ``--reveal-prefix`` alias.\r\n",
        " \r\n",
        " * ``--to markdown``\r\n",
        " \r\n",
        "@@ -224,4 +228,3 @@ The corresponding Python script is::\r\n",
        " \r\n",
        " Note that indeed the output of the code cell, which is present in the JSON \r\n",
        " container, has been removed in the ``.py`` script.\r\n",
        "-\r\n"
       ]
      }
     ],
     "prompt_number": 13
    },
    {
     "cell_type": "markdown",
     "metadata": {},
     "source": [
      "* Add the changes an commit them:"
     ]
    },
    {
     "cell_type": "code",
     "collapsed": false,
     "input": [
      "# Add the modified files to the stage\n",
      "!git add ."
     ],
     "language": "python",
     "metadata": {},
     "outputs": [],
     "prompt_number": 14
    },
    {
     "cell_type": "code",
     "collapsed": false,
     "input": [
      "# And do your commit\n",
      "!git commit -am \"Added --post-serve explanation into the nbconvert docs.\""
     ],
     "language": "python",
     "metadata": {},
     "outputs": [
      {
       "output_type": "stream",
       "stream": "stdout",
       "text": [
        "[doc_post_serve c87ac2f] Added --post-serve explanation into the nbconvert docs.\r\n",
        " 1 file changed, 6 insertions(+), 3 deletions(-)\r\n"
       ]
      }
     ],
     "prompt_number": 15
    },
    {
     "cell_type": "markdown",
     "metadata": {},
     "source": [
      "* Finally, push your local development branch to your **Github** fork:  "
     ]
    },
    {
     "cell_type": "code",
     "collapsed": false,
     "input": [
      "# Push updates from your local branch to your github branch\n",
      "!git push $my_fork_remote_name $feature_branch"
     ],
     "language": "python",
     "metadata": {},
     "outputs": [
      {
       "output_type": "stream",
       "stream": "stdout",
       "text": [
        "Counting objects: 8732, done.\r\n"
       ]
      },
      {
       "output_type": "stream",
       "stream": "stdout",
       "text": [
        "Delta compression using up to 4 threads.\r\n",
        "Compressing objects:   0% (1/2767)   \r",
        "Compressing objects:   1% (28/2767)   \r",
        "Compressing objects:   2% (56/2767)   \r",
        "Compressing objects:   3% (84/2767)   \r",
        "Compressing objects:   4% (111/2767)   \r",
        "Compressing objects:   5% (139/2767)   \r",
        "Compressing objects:   6% (167/2767)   \r",
        "Compressing objects:   7% (194/2767)   \r",
        "Compressing objects:   8% (222/2767)   \r",
        "Compressing objects:   9% (250/2767)   \r",
        "Compressing objects:  10% (277/2767)   \r",
        "Compressing objects:  11% (305/2767)   \r",
        "Compressing objects:  12% (333/2767)   \r",
        "Compressing objects:  13% (360/2767)   \r",
        "Compressing objects:  14% (388/2767)   \r",
        "Compressing objects:  15% (416/2767)   \r",
        "Compressing objects:  16% (443/2767)   \r",
        "Compressing objects:  17% (471/2767)   \r",
        "Compressing objects:  18% (499/2767)   \r",
        "Compressing objects:  19% (526/2767)   \r",
        "Compressing objects:  20% (554/2767)   \r",
        "Compressing objects:  21% (582/2767)   \r",
        "Compressing objects:  22% (609/2767)   \r",
        "Compressing objects:  23% (637/2767)   \r",
        "Compressing objects:  24% (665/2767)   \r",
        "Compressing objects:  25% (692/2767)   \r",
        "Compressing objects:  26% (720/2767)   \r",
        "Compressing objects:  27% (748/2767)   \r",
        "Compressing objects:  28% (775/2767)   \r",
        "Compressing objects:  29% (803/2767)   \r",
        "Compressing objects:  30% (831/2767)   \r",
        "Compressing objects:  31% (858/2767)   \r",
        "Compressing objects:  32% (886/2767)   \r",
        "Compressing objects:  33% (914/2767)   \r",
        "Compressing objects:  34% (941/2767)   \r",
        "Compressing objects:  35% (969/2767)   \r",
        "Compressing objects:  36% (997/2767)   \r"
       ]
      },
      {
       "output_type": "stream",
       "stream": "stdout",
       "text": [
        "Compressing objects:  37% (1024/2767)   \r",
        "Compressing objects:  38% (1052/2767)   \r",
        "Compressing objects:  39% (1080/2767)   \r",
        "Compressing objects:  40% (1107/2767)   \r",
        "Compressing objects:  41% (1135/2767)   \r",
        "Compressing objects:  42% (1163/2767)   \r",
        "Compressing objects:  43% (1190/2767)   \r",
        "Compressing objects:  44% (1218/2767)   \r",
        "Compressing objects:  45% (1246/2767)   \r",
        "Compressing objects:  46% (1273/2767)   \r",
        "Compressing objects:  47% (1301/2767)   \r",
        "Compressing objects:  48% (1329/2767)   \r",
        "Compressing objects:  49% (1356/2767)   \r",
        "Compressing objects:  50% (1384/2767)   \r",
        "Compressing objects:  51% (1412/2767)   \r",
        "Compressing objects:  52% (1439/2767)   \r",
        "Compressing objects:  53% (1467/2767)   \r",
        "Compressing objects:  54% (1495/2767)   \r",
        "Compressing objects:  55% (1522/2767)   \r",
        "Compressing objects:  56% (1550/2767)   \r",
        "Compressing objects:  57% (1578/2767)   \r",
        "Compressing objects:  58% (1605/2767)   \r",
        "Compressing objects:  59% (1633/2767)   \r",
        "Compressing objects:  60% (1661/2767)   \r",
        "Compressing objects:  61% (1688/2767)   \r",
        "Compressing objects:  62% (1716/2767)   \r",
        "Compressing objects:  63% (1744/2767)   \r",
        "Compressing objects:  64% (1771/2767)   \r"
       ]
      },
      {
       "output_type": "stream",
       "stream": "stdout",
       "text": [
        "Compressing objects:  65% (1799/2767)   \r",
        "Compressing objects:  66% (1827/2767)   \r",
        "Compressing objects:  67% (1854/2767)   \r",
        "Compressing objects:  68% (1882/2767)   \r",
        "Compressing objects:  69% (1910/2767)   \r",
        "Compressing objects:  70% (1937/2767)   \r",
        "Compressing objects:  71% (1965/2767)   \r",
        "Compressing objects:  72% (1993/2767)   \r",
        "Compressing objects:  73% (2020/2767)   \r",
        "Compressing objects:  74% (2048/2767)   \r",
        "Compressing objects:  75% (2076/2767)   \r",
        "Compressing objects:  76% (2103/2767)   \r",
        "Compressing objects:  77% (2131/2767)   \r",
        "Compressing objects:  78% (2159/2767)   \r",
        "Compressing objects:  79% (2186/2767)   \r",
        "Compressing objects:  80% (2214/2767)   \r",
        "Compressing objects:  81% (2242/2767)   \r",
        "Compressing objects:  82% (2269/2767)   \r",
        "Compressing objects:  83% (2297/2767)   \r",
        "Compressing objects:  84% (2325/2767)   \r",
        "Compressing objects:  85% (2352/2767)   \r",
        "Compressing objects:  86% (2380/2767)   \r",
        "Compressing objects:  87% (2408/2767)   \r",
        "Compressing objects:  88% (2435/2767)   \r",
        "Compressing objects:  89% (2463/2767)   \r",
        "Compressing objects:  90% (2491/2767)   \r"
       ]
      },
      {
       "output_type": "stream",
       "stream": "stdout",
       "text": [
        "Compressing objects:  91% (2518/2767)   \r",
        "Compressing objects:  92% (2546/2767)   \r",
        "Compressing objects:  93% (2574/2767)   \r",
        "Compressing objects:  94% (2601/2767)   \r",
        "Compressing objects:  95% (2629/2767)   \r",
        "Compressing objects:  96% (2657/2767)   \r",
        "Compressing objects:  97% (2684/2767)   \r",
        "Compressing objects:  98% (2712/2767)   \r"
       ]
      },
      {
       "output_type": "stream",
       "stream": "stdout",
       "text": [
        "Compressing objects:  99% (2740/2767)   \r",
        "Compressing objects: 100% (2767/2767)   \r",
        "Compressing objects: 100% (2767/2767), done.\r\n",
        "Writing objects:   0% (1/7842)   \r",
        "Writing objects:   1% (79/7842)   \r",
        "Writing objects:   2% (157/7842)   \r",
        "Writing objects:   3% (236/7842)   \r",
        "Writing objects:   4% (314/7842)   \r",
        "Writing objects:   5% (393/7842)   \r",
        "Writing objects:   6% (471/7842)   \r",
        "Writing objects:   7% (549/7842)   \r",
        "Writing objects:   8% (628/7842)   \r",
        "Writing objects:   9% (706/7842)   \r",
        "Writing objects:  10% (785/7842)   \r",
        "Writing objects:  11% (863/7842)   \r",
        "Writing objects:  12% (942/7842)   \r",
        "Writing objects:  13% (1020/7842)   \r",
        "Writing objects:  14% (1099/7842)   \r",
        "Writing objects:  15% (1177/7842)   \r",
        "Writing objects:  16% (1255/7842)   \r",
        "Writing objects:  17% (1335/7842)   \r",
        "Writing objects:  18% (1415/7842)   \r",
        "Writing objects:  19% (1496/7842)   \r",
        "Writing objects:  20% (1570/7842)   \r",
        "Writing objects:  21% (1647/7842)   \r",
        "Writing objects:  22% (1727/7842)   \r"
       ]
      },
      {
       "output_type": "stream",
       "stream": "stdout",
       "text": [
        "Writing objects:  23% (1804/7842)   \r",
        "Writing objects:  24% (1883/7842)   \r",
        "Writing objects:  25% (1961/7842)   \r",
        "Writing objects:  26% (2041/7842)   \r",
        "Writing objects:  27% (2119/7842)   \r",
        "Writing objects:  28% (2198/7842)   \r",
        "Writing objects:  29% (2275/7842)   \r",
        "Writing objects:  30% (2358/7842)   \r",
        "Writing objects:  31% (2439/7842)   \r",
        "Writing objects:  32% (2510/7842)   \r",
        "Writing objects:  33% (2588/7842)   \r",
        "Writing objects:  34% (2669/7842)   \r",
        "Writing objects:  35% (2745/7842)   \r",
        "Writing objects:  36% (2825/7842)   \r",
        "Writing objects:  37% (2902/7842)   \r",
        "Writing objects:  38% (2980/7842)   \r",
        "Writing objects:  39% (3059/7842)   \r",
        "Writing objects:  40% (3137/7842)   \r",
        "Writing objects:  41% (3216/7842)   \r",
        "Writing objects:  42% (3294/7842)   \r",
        "Writing objects:  43% (3373/7842)   \r",
        "Writing objects:  44% (3451/7842)   \r",
        "Writing objects:  45% (3529/7842)   \r",
        "Writing objects:  46% (3608/7842)   \r",
        "Writing objects:  47% (3686/7842)   \r",
        "Writing objects:  48% (3765/7842)   \r",
        "Writing objects:  49% (3843/7842)   \r",
        "Writing objects:  50% (3921/7842)   \r",
        "Writing objects:  51% (4000/7842)   \r",
        "Writing objects:  52% (4079/7842)   \r",
        "Writing objects:  53% (4159/7842)   \r",
        "Writing objects:  54% (4235/7842)   \r",
        "Writing objects:  55% (4314/7842)   \r",
        "Writing objects:  56% (4392/7842)   \r",
        "Writing objects:  57% (4470/7842)   \r",
        "Writing objects:  58% (4549/7842)   \r",
        "Writing objects:  59% (4627/7842)   \r",
        "Writing objects:  60% (4706/7842)   \r",
        "Writing objects:  61% (4785/7842)   \r",
        "Writing objects:  62% (4863/7842)   \r",
        "Writing objects:  63% (4942/7842)   \r",
        "Writing objects:  64% (5019/7842)   \r",
        "Writing objects:  65% (5098/7842)   \r",
        "Writing objects:  66% (5176/7842)   \r",
        "Writing objects:  67% (5255/7842)   \r",
        "Writing objects:  68% (5333/7842)   \r",
        "Writing objects:  69% (5411/7842)   \r",
        "Writing objects:  70% (5490/7842)   \r",
        "Writing objects:  71% (5568/7842)   \r",
        "Writing objects:  72% (5647/7842)   \r",
        "Writing objects:  73% (5725/7842)   \r",
        "Writing objects:  74% (5804/7842)   \r",
        "Writing objects:  75% (5888/7842)   \r",
        "Writing objects:  76% (5960/7842)   \r",
        "Writing objects:  77% (6039/7842)   \r",
        "Writing objects:  78% (6117/7842)   \r",
        "Writing objects:  79% (6196/7842)   \r",
        "Writing objects:  80% (6274/7842)   \r",
        "Writing objects:  81% (6353/7842)   \r",
        "Writing objects:  82% (6431/7842)   \r",
        "Writing objects:  83% (6509/7842)   \r",
        "Writing objects:  84% (6588/7842)   \r",
        "Writing objects:  85% (6666/7842)   \r",
        "Writing objects:  86% (6745/7842)   \r",
        "Writing objects:  87% (6823/7842)   \r",
        "Writing objects:  88% (6903/7842)   \r",
        "Writing objects:  89% (6980/7842)   \r",
        "Writing objects:  90% (7058/7842)   \r",
        "Writing objects:  91% (7138/7842)   \r",
        "Writing objects:  92% (7215/7842)   \r",
        "Writing objects:  93% (7294/7842)   \r",
        "Writing objects:  94% (7373/7842)   \r",
        "Writing objects:  95% (7450/7842)   \r",
        "Writing objects:  96% (7529/7842)   \r",
        "Writing objects:  97% (7607/7842)   \r",
        "Writing objects:  98% (7686/7842)   \r",
        "Writing objects:  99% (7764/7842)   \r",
        "Writing objects: 100% (7842/7842)   \r",
        "Writing objects: 100% (7842/7842), 1.44 MiB, done.\r\n",
        "Total 7842 (delta 5520), reused 7275 (delta 4971)\r\n"
       ]
      },
      {
       "output_type": "stream",
       "stream": "stdout",
       "text": [
        "To git@github.com:damianavila/ipython.git\r\n",
        " * [new branch]      doc_post_serve -> doc_post_serve\r\n"
       ]
      }
     ],
     "prompt_number": 16
    },
    {
     "cell_type": "markdown",
     "metadata": {},
     "source": [
      ">**NOTE**: The merging of your **Github** development branch into the master is done via *pull-request* on the **Github** website. For reference, you can see the proposed **PR** here: https://github.com/ipython/ipython/pull/4751"
     ]
    },
    {
     "cell_type": "markdown",
     "metadata": {},
     "source": [
      "As you can see, this workflow is very *simple*... and with the aid of this **ipytmpl** is easier than *before* (before = making the same but in your traditional console).\n",
      "\n",
      "You set up the environment, fill the variables to use *a posteriori*, and you have only to be concern about the changes you want to introduce (or remove) from the source code. All the other steps, all those git calls are predetermined and will be called whereas you advance in the workflow...\n",
      "\n",
      "After making the **PR** at the **Github** website, you will receive some feedback and if you have to modified something, just start the short cycle again... Sometimes you will need more... I mean, because you are working in a *communitary project*, if somebody changes the same file as you, there will be some conflicts at the *merge* step, so it will be necessary to rebase the \"thing\". But this is the central idea of the second *Extended* cycle which I will describe you in a second part of this post.\n",
      "\n",
      "As always, I am waiting for your comments and critics!\n",
      "\n",
      "OK, too long... I hope you did not get bored! \n",
      "\n",
      "Have a nice **New Year**! And I see you in 2014 ;-)\n",
      "\n",
      "Cheers.\n",
      "\n",
      "Dami\u00e1n"
     ]
    }
   ],
   "metadata": {}
  }
 ]
}