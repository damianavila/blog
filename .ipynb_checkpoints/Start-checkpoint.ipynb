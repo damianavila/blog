{
 "cells": [
  {
   "cell_type": "markdown",
   "metadata": {},
   "source": [
    "# Adding a new post"
   ]
  },
  {
   "cell_type": "code",
   "execution_count": 1,
   "metadata": {},
   "outputs": [],
   "source": [
    "title = \"Ended a chapter... and starting a new one?\""
   ]
  },
  {
   "cell_type": "code",
   "execution_count": 2,
   "metadata": {},
   "outputs": [],
   "source": [
    "tags_list = ['life', '2i2c', 'Jupyter', 'opensource']"
   ]
  },
  {
   "cell_type": "code",
   "execution_count": 3,
   "metadata": {},
   "outputs": [
    {
     "name": "stdout",
     "output_type": "stream",
     "text": [
      "\u001b[1;33m[2024-11-11 20:01:15] WARNING: DeprecationWarning: /Users/damian/micromamba/envs/blog/bin/nikola:8: Parsing dates involving a day of month without a year specified is ambiguious\n",
      "and fails to parse leap day. The default behavior will change in Python 3.15\n",
      "to either always raise an exception or to use a different default year (TBD).\n",
      "To avoid trouble, add a specific year to the input & format.\n",
      "See https://github.com/python/cpython/issues/70647.\u001b[0m\n",
      "Creating New Post\n",
      "-----------------\n",
      "\n",
      "Title: Ended a chapter... and starting a new one?\n",
      "Scanning posts......done!\n",
      "\u001b[1;33m[2024-11-11 20:01:16] WARNING: ipynb: No kernel specified, assuming \"python3\".\u001b[0m\n",
      "\u001b[1m[2024-11-11 20:01:16] INFO: new_post: Your post's text is at: posts/ended-a-chapter-and-starting-a-new-one.ipynb\u001b[0m\n"
     ]
    }
   ],
   "source": [
    "tags = ', '.join(tags_list)\n",
    "\n",
    "!nikola new_post -f ipynb --title=\"{title}\" --tags=\"{tags}\""
   ]
  }
 ],
 "metadata": {
  "kernelspec": {
   "display_name": "Python 3 (ipykernel)",
   "language": "python",
   "name": "python3"
  },
  "language_info": {
   "codemirror_mode": {
    "name": "ipython",
    "version": 3
   },
   "file_extension": ".py",
   "mimetype": "text/x-python",
   "name": "python",
   "nbconvert_exporter": "python",
   "pygments_lexer": "ipython3",
   "version": "3.13.0"
  }
 },
 "nbformat": 4,
 "nbformat_minor": 4
}
